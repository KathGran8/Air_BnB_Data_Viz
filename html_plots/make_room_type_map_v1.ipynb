{
 "cells": [
  {
   "cell_type": "code",
   "execution_count": null,
   "metadata": {},
   "outputs": [],
   "source": [
    "import folium\n",
    "import pandas as pd "
   ]
  },
  {
   "cell_type": "code",
   "execution_count": null,
   "metadata": {},
   "outputs": [],
   "source": [
    "df = pd.read_csv(\"../Data/data_air/AB_data_clean.csv\")"
   ]
  },
  {
   "cell_type": "code",
   "execution_count": null,
   "metadata": {},
   "outputs": [],
   "source": [
    "manual_colors = ['#636efa', '#ef553b', '#00cc96']"
   ]
  },
  {
   "cell_type": "code",
   "execution_count": null,
   "metadata": {},
   "outputs": [],
   "source": [
    "#creating to different marker groups, one for each time period\n",
    "Entire = folium.FeatureGroup(name='<span style=\\\\\"color: manual_colors[0];\\\\\">Entire home/apt</span>')\n",
    "Private = folium.FeatureGroup(name='<span style=\\\\\"color: manual_colors[1];\\\\\">Private Room</span>')\n",
    "Shared = folium.FeatureGroup(name='<span style=\\\\\"color: manual_colors[2];\\\\\">Shared Room</span>')\n",
    "\n",
    "NYC_coor = (40.730610, -73.935242)\n",
    "\n",
    "def add_marker_Entire(x):\n",
    "      folium.CircleMarker(location=[x.latitude, x.longitude], radius= 0.5, color=manual_colors[0], weight = 2,  fill_color=manual_colors[0], fill=True, fill_opacity=1).add_to(Entire)\n",
    "\n",
    "def add_marker_Private(x):\n",
    "      folium.CircleMarker(location=[x.latitude, x.longitude], radius= 0.5, color=manual_colors[1], weight = 2,  fill_color=manual_colors[1], fill=True, fill_opacity=1).add_to(Private)\n",
    "\n",
    "def add_marker_Shared(x):\n",
    "      folium.CircleMarker(location=[x.latitude, x.longitude], radius= 0.5, color=manual_colors[2], weight = 2,  fill_color=manual_colors[2], fill=True, fill_opacity=1).add_to(Shared)\n",
    "\n",
    "\n",
    "NY_map = folium.Map(NYC_coor, zoom_start=11, tiles = 'cartodbpositron')\n",
    "folium.TileLayer('cartodbpositron').add_to(NY_map)\n",
    "\n",
    "#apply the function we just created to every row in the dataframe\n",
    "df[df.room_type == 'Entire home/apt'].apply(lambda x:  add_marker_Entire(x), axis =1)\n",
    "df[df.room_type == 'Private room'].apply(lambda x:  add_marker_Private(x), axis =1)\n",
    "df[df.room_type == 'Shared room'].apply(lambda x:  add_marker_Shared(x), axis =1)\n",
    "#add borh marker groups to the map\n",
    "Entire.add_to(NY_map)\n",
    "Private.add_to(NY_map)\n",
    "Shared.add_to(NY_map)\n",
    "folium.map.LayerControl('topright', collapsed=False).add_to(NY_map)\n",
    "#display map\n",
    "NY_map.save('Map_room_type.html')"
   ]
  },
  {
   "cell_type": "code",
   "execution_count": null,
   "metadata": {},
   "outputs": [],
   "source": []
  }
 ],
 "metadata": {
  "kernelspec": {
   "display_name": "Python 3",
   "language": "python",
   "name": "python3"
  },
  "language_info": {
   "codemirror_mode": {
    "name": "ipython",
    "version": 3
   },
   "file_extension": ".py",
   "mimetype": "text/x-python",
   "name": "python",
   "nbconvert_exporter": "python",
   "pygments_lexer": "ipython3",
   "version": "3.8.5"
  }
 },
 "nbformat": 4,
 "nbformat_minor": 4
}
