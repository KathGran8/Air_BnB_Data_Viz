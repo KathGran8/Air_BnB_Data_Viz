{
 "cells": [
  {
   "cell_type": "markdown",
   "metadata": {},
   "source": [
    "# Geopandas"
   ]
  },
  {
   "cell_type": "code",
   "execution_count": 32,
   "metadata": {},
   "outputs": [],
   "source": [
    "import json"
   ]
  },
  {
   "cell_type": "code",
   "execution_count": 38,
   "metadata": {},
   "outputs": [],
   "source": [
    "geo_map = json.load(open('Data/data_new_york/new_york_geo.json'))"
   ]
  },
  {
   "cell_type": "code",
   "execution_count": 45,
   "metadata": {},
   "outputs": [
    {
     "data": {
      "text/plain": [
       "{'type': 'Feature',\n",
       " 'properties': {'neighborhood': 'Allerton',\n",
       "  'boroughCode': '2',\n",
       "  'borough': 'Bronx',\n",
       "  '@id': 'http://nyc.pediacities.com/Resource/Neighborhood/Allerton'},\n",
       " 'geometry': {'type': 'Polygon',\n",
       "  'coordinates': [[[-73.84859700000018, 40.871670000000115],\n",
       "    [-73.84582253683678, 40.870239076236174],\n",
       "    [-73.85455918463374, 40.85995383576425],\n",
       "    [-73.85466543306826, 40.859585694988056],\n",
       "    [-73.85638870335896, 40.85759363530448],\n",
       "    [-73.86888180915341, 40.857223150158326],\n",
       "    [-73.86831755272824, 40.85786206225831],\n",
       "    [-73.86955371467232, 40.85778409560018],\n",
       "    [-73.87102485762065, 40.857309948816905],\n",
       "    [-73.87048054998716, 40.865413584098484],\n",
       "    [-73.87055489856489, 40.86970279858986],\n",
       "    [-73.86721594442561, 40.86968966363671],\n",
       "    [-73.85745, 40.86953300000018],\n",
       "    [-73.85555000000011, 40.871813000000145],\n",
       "    [-73.85359796757658, 40.8732883686742],\n",
       "    [-73.84859700000018, 40.871670000000115]]]}}"
      ]
     },
     "execution_count": 45,
     "metadata": {},
     "output_type": "execute_result"
    }
   ],
   "source": [
    "geo_map['features'][0]"
   ]
  },
  {
   "cell_type": "code",
   "execution_count": null,
   "metadata": {},
   "outputs": [],
   "source": [
    "geo_map"
   ]
  },
  {
   "cell_type": "code",
   "execution_count": null,
   "metadata": {},
   "outputs": [],
   "source": [
    "NYC_coor = (40.730610, -73.935242)\n",
    "NY_map = folium.Map(NYC_coor, zoom_start=11, tiles = 'cartodbpositron')\n",
    "folium.TileLayer('cartodbpositron').add_to(NY_map)\n",
    "#folium.GeoJson(geo_map, name=\"geojson\").add_to(NY_map)\n",
    "NY_map.choropleth(\n",
    "    geo_data=geo_map,\n",
    "    name='Income Tax Per Capita',\n",
    "    data=geo_map,\n",
    "    columns=['name', 'inc_tax_per_capita'],\n",
    "    fill_color='YlGn',\n",
    "    key_on='feature.geometry.name',\n",
    "    legend_name='inc_tax_per_capita'\n",
    ")\n",
    "NY_map"
   ]
  },
  {
   "cell_type": "code",
   "execution_count": null,
   "metadata": {},
   "outputs": [],
   "source": [
    "import geopandas"
   ]
  },
  {
   "cell_type": "code",
   "execution_count": 35,
   "metadata": {},
   "outputs": [],
   "source": [
    "india_geojson = geopandas.read_file('Data/data_new_york/new_york_geo.json')\n",
    "india_geojson.head()"
   ]
  },
  {
   "cell_type": "code",
   "execution_count": null,
   "metadata": {},
   "outputs": [],
   "source": [
    "india_geojson.plot()"
   ]
  },
  {
   "cell_type": "code",
   "execution_count": null,
   "metadata": {},
   "outputs": [],
   "source": [
    "NYC_coor = (40.730610, -73.935242)\n",
    "NY_map = folium.Map(NYC_coor, zoom_start=11, tiles = 'cartodbpositron')\n",
    "folium.TileLayer('cartodbpositron').add_to(NY_map)\n",
    "folium.GeoJson(india_geojson, name=\"geojson\").add_to(NY_map)\n",
    "NY_map"
   ]
  },
  {
   "cell_type": "code",
   "execution_count": 255,
   "metadata": {},
   "outputs": [
    {
     "data": {
      "text/html": [
       "<div>\n",
       "<style scoped>\n",
       "    .dataframe tbody tr th:only-of-type {\n",
       "        vertical-align: middle;\n",
       "    }\n",
       "\n",
       "    .dataframe tbody tr th {\n",
       "        vertical-align: top;\n",
       "    }\n",
       "\n",
       "    .dataframe thead th {\n",
       "        text-align: right;\n",
       "    }\n",
       "</style>\n",
       "<table border=\"1\" class=\"dataframe\">\n",
       "  <thead>\n",
       "    <tr style=\"text-align: right;\">\n",
       "      <th></th>\n",
       "      <th>id</th>\n",
       "      <th>name</th>\n",
       "      <th>host_id</th>\n",
       "      <th>host_name</th>\n",
       "      <th>neighbourhood_group</th>\n",
       "      <th>neighbourhood</th>\n",
       "      <th>latitude</th>\n",
       "      <th>longitude</th>\n",
       "      <th>room_type</th>\n",
       "      <th>price</th>\n",
       "      <th>...</th>\n",
       "      <th>availability_365</th>\n",
       "      <th>neighbourhood_group_other</th>\n",
       "      <th>neighbourhood_other</th>\n",
       "      <th>neighbourhood_other_label</th>\n",
       "      <th>neighbourhood_group_other_Brooklyn</th>\n",
       "      <th>neighbourhood_group_other_Manhattan</th>\n",
       "      <th>neighbourhood_group_other_Other</th>\n",
       "      <th>room_type_Entire home/apt</th>\n",
       "      <th>room_type_Private room</th>\n",
       "      <th>room_type_Shared room</th>\n",
       "    </tr>\n",
       "  </thead>\n",
       "  <tbody>\n",
       "    <tr>\n",
       "      <th>0</th>\n",
       "      <td>2539.0</td>\n",
       "      <td>Clean &amp; quiet apt home by the park</td>\n",
       "      <td>2787.0</td>\n",
       "      <td>John</td>\n",
       "      <td>Brooklyn</td>\n",
       "      <td>Kensington</td>\n",
       "      <td>40.64749</td>\n",
       "      <td>-73.97237</td>\n",
       "      <td>Private room</td>\n",
       "      <td>149.0</td>\n",
       "      <td>...</td>\n",
       "      <td>365.0</td>\n",
       "      <td>Brooklyn</td>\n",
       "      <td>Kensington</td>\n",
       "      <td>35.0</td>\n",
       "      <td>1.0</td>\n",
       "      <td>0.0</td>\n",
       "      <td>0.0</td>\n",
       "      <td>0.0</td>\n",
       "      <td>1.0</td>\n",
       "      <td>0.0</td>\n",
       "    </tr>\n",
       "    <tr>\n",
       "      <th>2</th>\n",
       "      <td>3647.0</td>\n",
       "      <td>THE VILLAGE OF HARLEM....NEW YORK !</td>\n",
       "      <td>4632.0</td>\n",
       "      <td>Elisabeth</td>\n",
       "      <td>Manhattan</td>\n",
       "      <td>Harlem</td>\n",
       "      <td>40.80902</td>\n",
       "      <td>-73.94190</td>\n",
       "      <td>Private room</td>\n",
       "      <td>150.0</td>\n",
       "      <td>...</td>\n",
       "      <td>365.0</td>\n",
       "      <td>Manhattan</td>\n",
       "      <td>Harlem</td>\n",
       "      <td>30.0</td>\n",
       "      <td>0.0</td>\n",
       "      <td>1.0</td>\n",
       "      <td>0.0</td>\n",
       "      <td>0.0</td>\n",
       "      <td>1.0</td>\n",
       "      <td>0.0</td>\n",
       "    </tr>\n",
       "  </tbody>\n",
       "</table>\n",
       "<p>2 rows × 25 columns</p>\n",
       "</div>"
      ],
      "text/plain": [
       "       id                                 name  host_id  host_name  \\\n",
       "0  2539.0   Clean & quiet apt home by the park   2787.0       John   \n",
       "2  3647.0  THE VILLAGE OF HARLEM....NEW YORK !   4632.0  Elisabeth   \n",
       "\n",
       "  neighbourhood_group neighbourhood  latitude  longitude     room_type  price  \\\n",
       "0            Brooklyn    Kensington  40.64749  -73.97237  Private room  149.0   \n",
       "2           Manhattan        Harlem  40.80902  -73.94190  Private room  150.0   \n",
       "\n",
       "   ...  availability_365  neighbourhood_group_other neighbourhood_other  \\\n",
       "0  ...             365.0                   Brooklyn          Kensington   \n",
       "2  ...             365.0                  Manhattan              Harlem   \n",
       "\n",
       "   neighbourhood_other_label  neighbourhood_group_other_Brooklyn  \\\n",
       "0                       35.0                                 1.0   \n",
       "2                       30.0                                 0.0   \n",
       "\n",
       "   neighbourhood_group_other_Manhattan neighbourhood_group_other_Other  \\\n",
       "0                                  0.0                             0.0   \n",
       "2                                  1.0                             0.0   \n",
       "\n",
       "  room_type_Entire home/apt  room_type_Private room  room_type_Shared room  \n",
       "0                       0.0                     1.0                    0.0  \n",
       "2                       0.0                     1.0                    0.0  \n",
       "\n",
       "[2 rows x 25 columns]"
      ]
     },
     "execution_count": 255,
     "metadata": {},
     "output_type": "execute_result"
    }
   ],
   "source": [
    "df.head()[df.head().room_type == 'Private room']"
   ]
  }
 ],
 "metadata": {
  "kernelspec": {
   "display_name": "Python 3",
   "language": "python",
   "name": "python3"
  },
  "language_info": {
   "codemirror_mode": {
    "name": "ipython",
    "version": 3
   },
   "file_extension": ".py",
   "mimetype": "text/x-python",
   "name": "python",
   "nbconvert_exporter": "python",
   "pygments_lexer": "ipython3",
   "version": "3.8.5"
  }
 },
 "nbformat": 4,
 "nbformat_minor": 4
}
