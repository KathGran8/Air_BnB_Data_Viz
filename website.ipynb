{
 "cells": [
  {
   "cell_type": "code",
   "execution_count": 1,
   "metadata": {},
   "outputs": [
    {
     "name": "stdout",
     "output_type": "stream",
     "text": [
      "Dash app running on http://127.0.0.1:8080/\n"
     ]
    }
   ],
   "source": [
    "from jupyter_dash import JupyterDash\n",
    "import dash\n",
    "import dash_bootstrap_components as dbc\n",
    "import dash_core_components as dcc\n",
    "import dash_html_components as html\n",
    "from dash.dependencies import Input, Output\n",
    "import json\n",
    "\n",
    "from functions.page_title import page_title\n",
    "from functions.page_content import page_content\n",
    "\n",
    "#------------- website -------------#\n",
    "app = JupyterDash(external_stylesheets=[dbc.themes.CERULEAN], suppress_callback_exceptions=True)\n",
    "\n",
    "app.layout = dbc.Container(\n",
    "    [\n",
    "        dcc.Store(id=\"store\"),\n",
    "        html.H1(\"Air-BnB data New York\", style={'margin-top': '10px'}),\n",
    "        html.Hr(),\n",
    "        dbc.Row(\n",
    "            [\n",
    "                dbc.Col(dbc.Nav(\n",
    "                    [\n",
    "                        dbc.NavLink(\"Intro\", href=\"/\", active=\"exact\"),\n",
    "                        dbc.NavLink(\"1\", href=\"/page-1\", active=\"exact\"),\n",
    "                        dbc.NavLink(\"2\", href=\"/page-2\", active=\"exact\"),\n",
    "                        dbc.NavLink(\"3\", href=\"/page-3\", active=\"exact\"),\n",
    "                        dbc.NavLink(\"4\", href=\"/page-4\", active=\"exact\"),\n",
    "                        dbc.NavLink(\"5\", href=\"/page-5\", active=\"exact\"),                        \n",
    "                    ],\n",
    "                    pills=True,\n",
    "                    ),\n",
    "                    width='auto'\n",
    "                ),\n",
    "                html.Div(id=\"page-title\", style={'width': '700px', 'margin-right':'15px'}),                \n",
    "            ],justify=\"between\"),\n",
    "        html.Div(id=\"page-content\", className=\"p-4\", style={\n",
    "                'background-color': '#F5F5F5',\n",
    "                'border-radius': '10px',\n",
    "                'margin-top': '10px',\n",
    "            }),\n",
    "        html.Div([dcc.Location(id=\"url\")]),\n",
    "    ]\n",
    ")\n",
    "\n",
    "@app.callback(Output(\"page-title\", \"children\"), [Input(\"url\", \"pathname\")])\n",
    "def render_page_title(pathname):\n",
    "    return page_title(pathname)\n",
    "\n",
    "@app.callback(Output(\"page-content\", \"children\"), [Input(\"url\", \"pathname\")])\n",
    "def render_page_content(pathname):\n",
    "    return page_content(pathname)\n",
    "\n",
    "@app.callback(Output('slider-output-container', 'children'), [Input('slider1', 'value')])\n",
    "def update_output(value):\n",
    "    return 'You have selected room type: \"{}\"'.format(value)  \n",
    "\n",
    "\n",
    "@app.callback(Output(\"coordinate-click-id\", 'children'), [Input(\"map-id\", 'click_lat_lng')])\n",
    "def click_coord(e):\n",
    "    if e is not None:\n",
    "        value = json.dumps(e)\n",
    "        return 'You have selected this coordinate: \"{}\"'.format(value)\n",
    "    else:\n",
    "        return \"-\"\n",
    "\n",
    "\n",
    "\n",
    "if __name__ == \"__main__\":\n",
    "    app.run_server(debug=True, mode='external', port=8080, dev_tools_hot_reload=False)\n"
   ]
  },
  {
   "cell_type": "code",
   "execution_count": 3,
   "metadata": {},
   "outputs": [],
   "source": [
    "#app._terminate_server_for_port(\"localhost\", 8080)"
   ]
  },
  {
   "cell_type": "code",
   "execution_count": null,
   "metadata": {},
   "outputs": [],
   "source": []
  }
 ],
 "metadata": {
  "kernelspec": {
   "display_name": "Python 3",
   "language": "python",
   "name": "python3"
  },
  "language_info": {
   "codemirror_mode": {
    "name": "ipython",
    "version": 3
   },
   "file_extension": ".py",
   "mimetype": "text/x-python",
   "name": "python",
   "nbconvert_exporter": "python",
   "pygments_lexer": "ipython3",
   "version": "3.8.5"
  }
 },
 "nbformat": 4,
 "nbformat_minor": 4
}
