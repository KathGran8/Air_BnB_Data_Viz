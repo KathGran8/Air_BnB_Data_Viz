{
 "cells": [
  {
   "cell_type": "markdown",
   "metadata": {},
   "source": [
    "# Getting the data\n",
    "\n",
    "The very first step is to fetch all the necessary data. These commands download an Airbnb dataset, which will be our main data source, and additional pieces of information from New York. \n",
    "\n",
    "Our main dataset stores information about the Airbnb activity in New York in 2019. It contains approximately 50,000 Airbnb listings with plenty of information about each of them such as the host name, the place location and its room type and number of reveiws, etc.\n",
    "\n",
    "The additional information is comprised in three datasets:\n",
    "- [Tree Census in New York City](https://www.kaggle.com/nycparks/tree-census)\n",
    "\n",
    "    This dataset stores a record for every publicly owned tree in New York City and includes each of the  tree's location by borough and latitude/longitude, species by Latin name and common names, size, health, and issues with the tree's roots, trunk, and branches. Three census from 2015, 2005, and 1995 were conducted by NYC Parks and Recreation staff, TreesCount! program staff, and hundreds of volunteers. We chose the one from 2015 since it is the closest in time to the records of our main Airbnb dataset.\n",
    "\n",
    "- [NYC Rat Sightings](https://www.kaggle.com/new-york-city/nyc-rat-sightings)\n",
    "\n",
    "    This dataset contains information about the rat sightings in New York. Data is from 2010-Sept 16th, 2017 and includes date, location (lat/lon), type of structure, borough, and community board. We filtered the dataset and chose only the reports from 2017.\n",
    "    \n",
    "- [348 New York Tourist Locations](https://www.kaggle.com/anirudhmunnangi/348-new-york-tourist-locations)\n",
    "    This dataset gathers information about 348 tourist places in New York. It only has the name, addres and zipcode of the place, but we will figure out a way of translating this into latitude and longitude coordinates to perform our analysis."
   ]
  },
  {
   "cell_type": "code",
   "execution_count": null,
   "metadata": {},
   "outputs": [],
   "source": [
    "# Air BnB dataset:\n",
    "! kaggle datasets download -d dgomonov/new-york-city-airbnb-open-data\n",
    "! mkdir data_air\n",
    "\n",
    "# Tree dataset:\n",
    "! kaggle datasets download -d nycparks/tree-census\n",
    "! mkdir data_trees\n",
    "\n",
    "# Rats dataset: \n",
    "! kaggle datasets download -d new-york-city/nyc-rat-sightings\n",
    "! mkdir data_rats\n",
    "\n",
    "# Touristic places dataset:\n",
    "! kaggle datasets download -d anirudhmunnangi/348-new-york-tourist-locations\n",
    "! mkdir data_places"
   ]
  },
  {
   "cell_type": "code",
   "execution_count": null,
   "metadata": {},
   "outputs": [],
   "source": [
    "from shutil import unpack_archive\n",
    "unpack_archive('new-york-city-airbnb-open-data.zip', 'data_air/')\n",
    "unpack_archive('tree-census.zip', 'data_trees/')\n",
    "unpack_archive('nyc-rat-sightings.zip', 'data_rats/')\n",
    "unpack_archive('348-new-york-tourist-locations.zip', 'data_places/')"
   ]
  },
  {
   "cell_type": "code",
   "execution_count": null,
   "metadata": {},
   "outputs": [],
   "source": []
  }
 ],
 "metadata": {
  "kernelspec": {
   "display_name": "Python 3",
   "language": "python",
   "name": "python3"
  },
  "language_info": {
   "codemirror_mode": {
    "name": "ipython",
    "version": 3
   },
   "file_extension": ".py",
   "mimetype": "text/x-python",
   "name": "python",
   "nbconvert_exporter": "python",
   "pygments_lexer": "ipython3",
   "version": "3.8.5"
  }
 },
 "nbformat": 4,
 "nbformat_minor": 4
}
