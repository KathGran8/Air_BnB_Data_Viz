{
 "cells": [
  {
   "cell_type": "markdown",
   "metadata": {},
   "source": [
    "## Getting the data\n",
    "\n",
    "The very first step is to fetch all the necessary data. These commands download an Airbnb dataset, which will be our main data source, and additional pieces of information from New York. <br>\n",
    "We use Kaggles API access to get the data, which requrires an API token, so we do not expect the cell below to be able to run."
   ]
  },
  {
   "cell_type": "code",
   "execution_count": null,
   "metadata": {},
   "outputs": [],
   "source": [
    "# Air BnB dataset:\n",
    "! kaggle datasets download -d dgomonov/new-york-city-airbnb-open-data\n",
    "! mkdir data_air\n",
    "\n",
    "# Tree dataset:\n",
    "! kaggle datasets download -d nycparks/tree-census\n",
    "! mkdir data_trees\n",
    "\n",
    "# Rats dataset: \n",
    "! kaggle datasets download -d new-york-city/nyc-rat-sightings\n",
    "! mkdir data_rats\n",
    "\n",
    "# Touristic places dataset:\n",
    "! kaggle datasets download -d anirudhmunnangi/348-new-york-tourist-locations\n",
    "! mkdir data_places"
   ]
  },
  {
   "cell_type": "code",
   "execution_count": null,
   "metadata": {},
   "outputs": [],
   "source": [
    "from shutil import unpack_archive\n",
    "unpack_archive('new-york-city-airbnb-open-data.zip', 'data_air/')\n",
    "unpack_archive('tree-census.zip', 'data_trees/')\n",
    "unpack_archive('nyc-rat-sightings.zip', 'data_rats/')\n",
    "unpack_archive('348-new-york-tourist-locations.zip', 'data_places/')"
   ]
  },
  {
   "cell_type": "code",
   "execution_count": null,
   "metadata": {},
   "outputs": [],
   "source": []
  }
 ],
 "metadata": {
  "kernelspec": {
   "display_name": "Python 3",
   "language": "python",
   "name": "python3"
  },
  "language_info": {
   "codemirror_mode": {
    "name": "ipython",
    "version": 3
   },
   "file_extension": ".py",
   "mimetype": "text/x-python",
   "name": "python",
   "nbconvert_exporter": "python",
   "pygments_lexer": "ipython3",
   "version": "3.8.5"
  }
 },
 "nbformat": 4,
 "nbformat_minor": 4
}
