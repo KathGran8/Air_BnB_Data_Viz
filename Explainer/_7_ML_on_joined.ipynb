{
 "cells": [
  {
   "cell_type": "markdown",
   "metadata": {},
   "source": [
    "# Machine Learning on joined dataset\n",
    "This notebook follows a similar structure as part 6: Machine Learning on original (clean) dataset "
   ]
  },
  {
   "cell_type": "code",
   "execution_count": 24,
   "metadata": {},
   "outputs": [],
   "source": [
    "# Data tools\n",
    "import pandas as pd\n",
    "import numpy as np\n",
    "# Graph Tools\n",
    "import matplotlib.pyplot as plt\n",
    "import seaborn as sns\n",
    "# File tools\n",
    "from joblib import dump, load\n",
    "# Sstatistics and machine learning tools\n",
    "from sklearn.preprocessing import StandardScaler\n",
    "from sklearn.model_selection import train_test_split\n",
    "from sklearn.model_selection import GridSearchCV\n",
    "\n",
    "from sklearn.linear_model import LinearRegression\n",
    "from sklearn.tree import DecisionTreeRegressor\n",
    "from sklearn.ensemble import RandomForestRegressor\n",
    "\n",
    "from sklearn.metrics import mean_absolute_error"
   ]
  },
  {
   "cell_type": "markdown",
   "metadata": {},
   "source": [
    "## Importing data and preparing it for ML"
   ]
  },
  {
   "cell_type": "code",
   "execution_count": 3,
   "metadata": {},
   "outputs": [
    {
     "data": {
      "text/html": [
       "<div>\n",
       "<style scoped>\n",
       "    .dataframe tbody tr th:only-of-type {\n",
       "        vertical-align: middle;\n",
       "    }\n",
       "\n",
       "    .dataframe tbody tr th {\n",
       "        vertical-align: top;\n",
       "    }\n",
       "\n",
       "    .dataframe thead th {\n",
       "        text-align: right;\n",
       "    }\n",
       "</style>\n",
       "<table border=\"1\" class=\"dataframe\">\n",
       "  <thead>\n",
       "    <tr style=\"text-align: right;\">\n",
       "      <th></th>\n",
       "      <th>id</th>\n",
       "      <th>name</th>\n",
       "      <th>host_id</th>\n",
       "      <th>host_name</th>\n",
       "      <th>neighbourhood_group</th>\n",
       "      <th>neighbourhood</th>\n",
       "      <th>latitude</th>\n",
       "      <th>longitude</th>\n",
       "      <th>room_type</th>\n",
       "      <th>price</th>\n",
       "      <th>...</th>\n",
       "      <th>room_type_Shared room</th>\n",
       "      <th>number_of_places_2500m</th>\n",
       "      <th>number_of_places_1000m</th>\n",
       "      <th>number_of_places_500m</th>\n",
       "      <th>number_of_rats_2500m</th>\n",
       "      <th>number_of_rats_1000m</th>\n",
       "      <th>number_of_rats_500m</th>\n",
       "      <th>number_of_trees_2500m</th>\n",
       "      <th>number_of_trees_1000m</th>\n",
       "      <th>number_of_trees_500m</th>\n",
       "    </tr>\n",
       "  </thead>\n",
       "  <tbody>\n",
       "    <tr>\n",
       "      <th>0</th>\n",
       "      <td>2539</td>\n",
       "      <td>Clean &amp; quiet apt home by the park</td>\n",
       "      <td>2787</td>\n",
       "      <td>John</td>\n",
       "      <td>Brooklyn</td>\n",
       "      <td>Kensington</td>\n",
       "      <td>40.64749</td>\n",
       "      <td>-73.97237</td>\n",
       "      <td>Private room</td>\n",
       "      <td>149</td>\n",
       "      <td>...</td>\n",
       "      <td>0.0</td>\n",
       "      <td>8</td>\n",
       "      <td>0</td>\n",
       "      <td>0</td>\n",
       "      <td>456</td>\n",
       "      <td>57</td>\n",
       "      <td>8</td>\n",
       "      <td>5491</td>\n",
       "      <td>1037</td>\n",
       "      <td>321</td>\n",
       "    </tr>\n",
       "    <tr>\n",
       "      <th>1</th>\n",
       "      <td>2595</td>\n",
       "      <td>Skylit Midtown Castle</td>\n",
       "      <td>2845</td>\n",
       "      <td>Jennifer</td>\n",
       "      <td>Manhattan</td>\n",
       "      <td>Midtown</td>\n",
       "      <td>40.75362</td>\n",
       "      <td>-73.98377</td>\n",
       "      <td>Entire home/apt</td>\n",
       "      <td>225</td>\n",
       "      <td>...</td>\n",
       "      <td>0.0</td>\n",
       "      <td>75</td>\n",
       "      <td>29</td>\n",
       "      <td>4</td>\n",
       "      <td>448</td>\n",
       "      <td>54</td>\n",
       "      <td>5</td>\n",
       "      <td>3611</td>\n",
       "      <td>296</td>\n",
       "      <td>46</td>\n",
       "    </tr>\n",
       "  </tbody>\n",
       "</table>\n",
       "<p>2 rows × 35 columns</p>\n",
       "</div>"
      ],
      "text/plain": [
       "     id                                name  host_id host_name  \\\n",
       "0  2539  Clean & quiet apt home by the park     2787      John   \n",
       "1  2595               Skylit Midtown Castle     2845  Jennifer   \n",
       "\n",
       "  neighbourhood_group neighbourhood  latitude  longitude        room_type  \\\n",
       "0            Brooklyn    Kensington  40.64749  -73.97237     Private room   \n",
       "1           Manhattan       Midtown  40.75362  -73.98377  Entire home/apt   \n",
       "\n",
       "   price  ...  room_type_Shared room  number_of_places_2500m  \\\n",
       "0    149  ...                    0.0                       8   \n",
       "1    225  ...                    0.0                      75   \n",
       "\n",
       "  number_of_places_1000m  number_of_places_500m  number_of_rats_2500m  \\\n",
       "0                      0                      0                   456   \n",
       "1                     29                      4                   448   \n",
       "\n",
       "   number_of_rats_1000m number_of_rats_500m  number_of_trees_2500m  \\\n",
       "0                    57                   8                   5491   \n",
       "1                    54                   5                   3611   \n",
       "\n",
       "   number_of_trees_1000m  number_of_trees_500m  \n",
       "0                   1037                   321  \n",
       "1                    296                    46  \n",
       "\n",
       "[2 rows x 35 columns]"
      ]
     },
     "execution_count": 3,
     "metadata": {},
     "output_type": "execute_result"
    }
   ],
   "source": [
    "# Import cleaned data\n",
    "df = pd.read_csv(\"joined_data.csv\")\n",
    "df = df.drop(['Unnamed: 0'], axis=1)\n",
    "df.head(2)"
   ]
  },
  {
   "cell_type": "code",
   "execution_count": 4,
   "metadata": {},
   "outputs": [
    {
     "data": {
      "text/plain": [
       "id                                      0\n",
       "name                                   15\n",
       "host_id                                 0\n",
       "host_name                              21\n",
       "neighbourhood_group                     0\n",
       "neighbourhood                           0\n",
       "latitude                                0\n",
       "longitude                               0\n",
       "room_type                               0\n",
       "price                                   0\n",
       "minimum_nights                          0\n",
       "number_of_reviews                       0\n",
       "last_review                          9913\n",
       "reviews_per_month                    9913\n",
       "calculated_host_listings_count          0\n",
       "availability_365                        0\n",
       "neighbourhood_other                     0\n",
       "neighbourhood_other_label               0\n",
       "neighbourhood_group_Bronx               0\n",
       "neighbourhood_group_Brooklyn            0\n",
       "neighbourhood_group_Manhattan           0\n",
       "neighbourhood_group_Queens              0\n",
       "neighbourhood_group_Staten Island       0\n",
       "room_type_Entire home/apt               0\n",
       "room_type_Private room                  0\n",
       "room_type_Shared room                   0\n",
       "number_of_places_2500m                  0\n",
       "number_of_places_1000m                  0\n",
       "number_of_places_500m                   0\n",
       "number_of_rats_2500m                    0\n",
       "number_of_rats_1000m                    0\n",
       "number_of_rats_500m                     0\n",
       "number_of_trees_2500m                   0\n",
       "number_of_trees_1000m                   0\n",
       "number_of_trees_500m                    0\n",
       "dtype: int64"
      ]
     },
     "execution_count": 4,
     "metadata": {},
     "output_type": "execute_result"
    }
   ],
   "source": [
    "# Manage Na values in dataframe\n",
    "df.isna().sum()"
   ]
  },
  {
   "cell_type": "code",
   "execution_count": 5,
   "metadata": {},
   "outputs": [
    {
     "name": "stdout",
     "output_type": "stream",
     "text": [
      "number_of_reviews\n",
      "0    9913\n",
      "dtype: int64\n",
      "number_of_reviews\n",
      "0    9913\n",
      "dtype: int64\n"
     ]
    }
   ],
   "source": [
    "print(df[df['last_review'].isna()].groupby('number_of_reviews').size())\n",
    "print(df[df['reviews_per_month'].isna()].groupby('number_of_reviews').size())"
   ]
  },
  {
   "cell_type": "code",
   "execution_count": 6,
   "metadata": {},
   "outputs": [],
   "source": [
    "df['last_review'] = df['last_review'].fillna(0)\n",
    "df['reviews_per_month'] = df['reviews_per_month'].fillna(0)"
   ]
  },
  {
   "cell_type": "markdown",
   "metadata": {},
   "source": [
    "### Making datasets for the machine learning algorithm"
   ]
  },
  {
   "cell_type": "code",
   "execution_count": 9,
   "metadata": {},
   "outputs": [
    {
     "data": {
      "text/plain": [
       "Index(['id', 'name', 'host_id', 'host_name', 'neighbourhood_group',\n",
       "       'neighbourhood', 'latitude', 'longitude', 'room_type', 'price',\n",
       "       'minimum_nights', 'number_of_reviews', 'last_review',\n",
       "       'reviews_per_month', 'calculated_host_listings_count',\n",
       "       'availability_365', 'neighbourhood_other', 'neighbourhood_other_label',\n",
       "       'neighbourhood_group_Bronx', 'neighbourhood_group_Brooklyn',\n",
       "       'neighbourhood_group_Manhattan', 'neighbourhood_group_Queens',\n",
       "       'neighbourhood_group_Staten Island', 'room_type_Entire home/apt',\n",
       "       'room_type_Private room', 'room_type_Shared room',\n",
       "       'number_of_places_2500m', 'number_of_places_1000m',\n",
       "       'number_of_places_500m', 'number_of_rats_2500m', 'number_of_rats_1000m',\n",
       "       'number_of_rats_500m', 'number_of_trees_2500m', 'number_of_trees_1000m',\n",
       "       'number_of_trees_500m'],\n",
       "      dtype='object')"
      ]
     },
     "execution_count": 9,
     "metadata": {},
     "output_type": "execute_result"
    }
   ],
   "source": [
    "# Display the possible features of the dataframe\n",
    "df.columns"
   ]
  },
  {
   "cell_type": "code",
   "execution_count": 10,
   "metadata": {},
   "outputs": [
    {
     "name": "stdout",
     "output_type": "stream",
     "text": [
      "Index(['latitude', 'longitude', 'minimum_nights', 'number_of_reviews',\n",
      "       'reviews_per_month', 'calculated_host_listings_count',\n",
      "       'availability_365', 'neighbourhood_other_label',\n",
      "       'neighbourhood_group_Bronx', 'neighbourhood_group_Brooklyn',\n",
      "       'neighbourhood_group_Manhattan', 'neighbourhood_group_Queens',\n",
      "       'neighbourhood_group_Staten Island', 'room_type_Entire home/apt',\n",
      "       'room_type_Private room', 'room_type_Shared room',\n",
      "       'number_of_places_2500m', 'number_of_places_1000m',\n",
      "       'number_of_places_500m', 'number_of_rats_2500m', 'number_of_rats_1000m',\n",
      "       'number_of_rats_500m', 'number_of_trees_2500m', 'number_of_trees_1000m',\n",
      "       'number_of_trees_500m'],\n",
      "      dtype='object')\n"
     ]
    }
   ],
   "source": [
    "# Choose which features not to include in the calculation estimating price.\n",
    "features = df.drop(['price',\n",
    "                    'id', \n",
    "                    'name', \n",
    "                    'host_id', \n",
    "                    'host_name', \n",
    "                    'neighbourhood_group',\n",
    "                    'neighbourhood', \n",
    "                    'room_type',\n",
    "                    'last_review',\n",
    "                    'neighbourhood_other'], axis=1)\n",
    "target = df.price\n",
    "# Print the chosen features\n",
    "print(features.columns)"
   ]
  },
  {
   "cell_type": "markdown",
   "metadata": {},
   "source": [
    "## Baseline model linear regression"
   ]
  },
  {
   "cell_type": "code",
   "execution_count": 11,
   "metadata": {},
   "outputs": [
    {
     "name": "stdout",
     "output_type": "stream",
     "text": [
      "Training Features Shape: (38970, 25) \tTesting Features Shape:\t (9743, 25)\n",
      "Training Labels Shape:\t (38970,) \tTesting Labels Shape:\t (9743,)\n"
     ]
    }
   ],
   "source": [
    "# Scaling data since linear regression works better on scaled data\n",
    "scaler = StandardScaler()\n",
    "base_features = scaler.fit_transform(features)\n",
    "\n",
    "# To do regression we first need to make a sample of our data to make the regression analysis on, and the a seperate chunk of data to test that analysis on.\n",
    "test_fraction = 0.2 # We chose to keep 20% of the dataset seperate to test the regression we make\n",
    "\n",
    "# This is a stratified split:\n",
    "X_train, X_test, y_train, y_test = train_test_split(base_features, target, test_size = test_fraction, random_state=3546)\n",
    "#Display how many samples are chosen for training and test, respectively\n",
    "print('Training Features Shape:', X_train.shape,'\\tTesting Features Shape:\\t', X_test.shape)\n",
    "print('Training Labels Shape:\\t', y_train.shape, '\\tTesting Labels Shape:\\t', y_test.shape)"
   ]
  },
  {
   "cell_type": "code",
   "execution_count": 12,
   "metadata": {},
   "outputs": [
    {
     "name": "stdout",
     "output_type": "stream",
     "text": [
      "Mean absolute error (on test data): 75.0061\n"
     ]
    }
   ],
   "source": [
    "# Make a prediction of price via linear regression\n",
    "reg_lin = LinearRegression().fit(X_train, y_train)\n",
    "y_pred = reg_lin.predict(X_test)\n",
    "print(f'Mean absolute error (on test data): {round(mean_absolute_error(y_test, y_pred),4)}')"
   ]
  },
  {
   "cell_type": "code",
   "execution_count": 13,
   "metadata": {},
   "outputs": [
    {
     "data": {
      "image/png": "[encoded data removed]",
      "text/plain": [
       "<Figure size 432x288 with 1 Axes>"
      ]
     },
     "metadata": {
      "needs_background": "light"
     },
     "output_type": "display_data"
    }
   ],
   "source": [
    "# Show the features most important in making the prediction above \n",
    "pd.Series(np.abs(reg_lin.coef_), index=features.columns).nlargest(15).plot(kind='barh')\n",
    "plt.show()"
   ]
  },
  {
   "cell_type": "markdown",
   "metadata": {},
   "source": [
    "On this dataset the baseline model had a Mean Absolute Error of 75.0 which in an improvement of 4.4 over the baseline model on the dataset without the nine features extracted from the additional datasets."
   ]
  },
  {
   "cell_type": "markdown",
   "metadata": {},
   "source": [
    "## Decision Tree"
   ]
  },
  {
   "cell_type": "code",
   "execution_count": 14,
   "metadata": {},
   "outputs": [
    {
     "name": "stdout",
     "output_type": "stream",
     "text": [
      "Training Features Shape: (38970, 25) \tTesting Features Shape:\t (9743, 25)\n",
      "Training Labels Shape:\t (38970,) \tTesting Labels Shape:\t (9743,)\n"
     ]
    }
   ],
   "source": [
    "# Just like with the linear regression above we set aside 20% of the dataset for testing.\n",
    "test_fraction = 0.2\n",
    "\n",
    "# This is a stratified split:\n",
    "X_train, X_test, y_train, y_test = train_test_split(features, target, test_size = test_fraction, random_state=3546)\n",
    "# Display how many samples are chosen for training and test, respectively\n",
    "print('Training Features Shape:', X_train.shape,'\\tTesting Features Shape:\\t', X_test.shape)\n",
    "print('Training Labels Shape:\\t', y_train.shape, '\\tTesting Labels Shape:\\t', y_test.shape)"
   ]
  },
  {
   "cell_type": "code",
   "execution_count": 15,
   "metadata": {},
   "outputs": [
    {
     "data": {
      "text/plain": [
       "GridSearchCV(estimator=DecisionTreeRegressor(random_state=3546),\n",
       "             param_grid={'criterion': ('mse', 'poisson'),\n",
       "                         'max_depth': [1, 5, 10, 15, 20]},\n",
       "             scoring='neg_mean_absolute_error')"
      ]
     },
     "execution_count": 15,
     "metadata": {},
     "output_type": "execute_result"
    }
   ],
   "source": [
    "parameters = {'criterion':('mse', 'poisson'), 'max_depth':[1, 5, 10, 15, 20]} #'friedman_mse' gives same results as mse, mae is 60 times slower then mse and poisson\n",
    "\n",
    "reg_tree = DecisionTreeRegressor(random_state=3546) # random state is set so as to guarantee the same outcome every time\n",
    "reg_seach = GridSearchCV(reg_tree, parameters, scoring='neg_mean_absolute_error', refit=True, )#verbose=4)\n",
    "\n",
    "reg_seach.fit(X_train, y_train)"
   ]
  },
  {
   "cell_type": "code",
   "execution_count": 16,
   "metadata": {},
   "outputs": [
    {
     "data": {
      "text/html": [
       "<div>\n",
       "<style scoped>\n",
       "    .dataframe tbody tr th:only-of-type {\n",
       "        vertical-align: middle;\n",
       "    }\n",
       "\n",
       "    .dataframe tbody tr th {\n",
       "        vertical-align: top;\n",
       "    }\n",
       "\n",
       "    .dataframe thead th {\n",
       "        text-align: right;\n",
       "    }\n",
       "</style>\n",
       "<table border=\"1\" class=\"dataframe\">\n",
       "  <thead>\n",
       "    <tr style=\"text-align: right;\">\n",
       "      <th></th>\n",
       "      <th>mean_fit_time</th>\n",
       "      <th>std_fit_time</th>\n",
       "      <th>mean_score_time</th>\n",
       "      <th>std_score_time</th>\n",
       "      <th>param_criterion</th>\n",
       "      <th>param_max_depth</th>\n",
       "      <th>params</th>\n",
       "      <th>split0_test_score</th>\n",
       "      <th>split1_test_score</th>\n",
       "      <th>split2_test_score</th>\n",
       "      <th>split3_test_score</th>\n",
       "      <th>split4_test_score</th>\n",
       "      <th>mean_test_score</th>\n",
       "      <th>std_test_score</th>\n",
       "      <th>rank_test_score</th>\n",
       "    </tr>\n",
       "  </thead>\n",
       "  <tbody>\n",
       "    <tr>\n",
       "      <th>1</th>\n",
       "      <td>0.222595</td>\n",
       "      <td>0.013918</td>\n",
       "      <td>0.005324</td>\n",
       "      <td>0.000751</td>\n",
       "      <td>mse</td>\n",
       "      <td>5</td>\n",
       "      <td>{'criterion': 'mse', 'max_depth': 5}</td>\n",
       "      <td>-71.104836</td>\n",
       "      <td>-72.586450</td>\n",
       "      <td>-72.870387</td>\n",
       "      <td>-71.600404</td>\n",
       "      <td>-71.373405</td>\n",
       "      <td>-71.907096</td>\n",
       "      <td>0.694544</td>\n",
       "      <td>1</td>\n",
       "    </tr>\n",
       "    <tr>\n",
       "      <th>2</th>\n",
       "      <td>0.426247</td>\n",
       "      <td>0.036327</td>\n",
       "      <td>0.005689</td>\n",
       "      <td>0.000299</td>\n",
       "      <td>mse</td>\n",
       "      <td>10</td>\n",
       "      <td>{'criterion': 'mse', 'max_depth': 10}</td>\n",
       "      <td>-73.799395</td>\n",
       "      <td>-71.663951</td>\n",
       "      <td>-74.247974</td>\n",
       "      <td>-70.592263</td>\n",
       "      <td>-70.610864</td>\n",
       "      <td>-72.182889</td>\n",
       "      <td>1.558738</td>\n",
       "      <td>2</td>\n",
       "    </tr>\n",
       "  </tbody>\n",
       "</table>\n",
       "</div>"
      ],
      "text/plain": [
       "   mean_fit_time  std_fit_time  mean_score_time  std_score_time  \\\n",
       "1       0.222595      0.013918         0.005324        0.000751   \n",
       "2       0.426247      0.036327         0.005689        0.000299   \n",
       "\n",
       "  param_criterion param_max_depth                                 params  \\\n",
       "1             mse               5   {'criterion': 'mse', 'max_depth': 5}   \n",
       "2             mse              10  {'criterion': 'mse', 'max_depth': 10}   \n",
       "\n",
       "   split0_test_score  split1_test_score  split2_test_score  split3_test_score  \\\n",
       "1         -71.104836         -72.586450         -72.870387         -71.600404   \n",
       "2         -73.799395         -71.663951         -74.247974         -70.592263   \n",
       "\n",
       "   split4_test_score  mean_test_score  std_test_score  rank_test_score  \n",
       "1         -71.373405       -71.907096        0.694544                1  \n",
       "2         -70.610864       -72.182889        1.558738                2  "
      ]
     },
     "execution_count": 16,
     "metadata": {},
     "output_type": "execute_result"
    }
   ],
   "source": [
    "df_reg_tree = pd.DataFrame(reg_seach.cv_results_).sort_values('rank_test_score')\n",
    "df_reg_tree.head(2)"
   ]
  },
  {
   "cell_type": "code",
   "execution_count": 32,
   "metadata": {},
   "outputs": [
    {
     "name": "stdout",
     "output_type": "stream",
     "text": [
      "Decision tree has 59 nodes with maximum depth 5.\n",
      "Mean absolute error (on test data): 73.2438\n"
     ]
    }
   ],
   "source": [
    "reg_tree_best = reg_seach.best_estimator_\n",
    "y_pred = reg_tree_best.predict(X_test)\n",
    "\n",
    "print(f'Decision tree has {reg_tree_best.tree_.node_count} nodes with maximum depth {reg_tree_best.tree_.max_depth}.')\n",
    "print(f'Mean absolute error (on test data): {round(mean_absolute_error(y_test, y_pred),4)}')"
   ]
  },
  {
   "cell_type": "code",
   "execution_count": 30,
   "metadata": {},
   "outputs": [],
   "source": [
    "# Display tree\n",
    "# fig, axes = plt.subplots(nrows = 1,ncols = 1, figsize=(25,20), dpi=300)\n",
    "# plot_tree(reg_tree_best, feature_names=features.columns, filled = True)\n",
    "# fig.savefig('imagename.jpeg')"
   ]
  },
  {
   "cell_type": "code",
   "execution_count": 33,
   "metadata": {},
   "outputs": [
    {
     "data": {
      "image/png": "[encoded data removed]",
      "text/plain": [
       "<Figure size 432x288 with 1 Axes>"
      ]
     },
     "metadata": {
      "needs_background": "light"
     },
     "output_type": "display_data"
    }
   ],
   "source": [
    "# Again we see the features of the regression displayd by relevans\n",
    "pd.Series(reg_tree_best.feature_importances_, index=features.columns).nlargest(20).plot(kind='barh')\n",
    "plt.show()"
   ]
  },
  {
   "cell_type": "markdown",
   "metadata": {},
   "source": [
    "By using a decision tree we have been able to cut the Mean Absolute Error from approximately 75.0 down to 73.2 by dividing the dataset into 59 smaller nodes before doing the regression. This is however, a worse performance than the decision tree trained on the other dataset which had a Mean Absolute Eror of 71.0."
   ]
  },
  {
   "cell_type": "markdown",
   "metadata": {},
   "source": [
    "## Random Forest"
   ]
  },
  {
   "cell_type": "code",
   "execution_count": 34,
   "metadata": {},
   "outputs": [
    {
     "name": "stdout",
     "output_type": "stream",
     "text": [
      "Training Features Shape: (38970, 25) \tTesting Features Shape:\t (9743, 25)\n",
      "Training Labels Shape:\t (38970,) \tTesting Labels Shape:\t (9743,)\n"
     ]
    }
   ],
   "source": [
    "test_fraction = 0.2\n",
    "\n",
    "# This is a stratified split:\n",
    "X_train, X_test, y_train, y_test = train_test_split(features, target, test_size = test_fraction, random_state=3546)\n",
    "#Display how many samples are chosen for training and test, respectively\n",
    "print('Training Features Shape:', X_train.shape,'\\tTesting Features Shape:\\t', X_test.shape)\n",
    "print('Training Labels Shape:\\t', y_train.shape, '\\tTesting Labels Shape:\\t', y_test.shape)"
   ]
  },
  {
   "cell_type": "code",
   "execution_count": 35,
   "metadata": {},
   "outputs": [
    {
     "data": {
      "text/plain": [
       "GridSearchCV(estimator=RandomForestRegressor(random_state=3546),\n",
       "             param_grid={'criterion': ('mse',), 'max_depth': [10, 20, None],\n",
       "                         'n_estimators': [10, 50, 100, 150, 200]},\n",
       "             scoring='neg_mean_absolute_error')"
      ]
     },
     "execution_count": 35,
     "metadata": {},
     "output_type": "execute_result"
    }
   ],
   "source": [
    "# This is where the random forest differs from simple decision tree. We ensemble up to 200 trees to find the best tree to continue with.\n",
    "parameters = {'n_estimators':[10, 50, 100, 150, 200], 'criterion':('mse',), 'max_depth':[10, 20, None]} # mae is again more than 60 times slower than mse\n",
    "\n",
    "reg_forest = RandomForestRegressor(random_state=3546) # random state is set so as to guarantee the same outcome every time\n",
    "reg_seach = GridSearchCV(reg_forest, parameters, scoring='neg_mean_absolute_error', refit=True, )#verbose=4)\n",
    "\n",
    "reg_seach.fit(X_train, y_train)"
   ]
  },
  {
   "cell_type": "code",
   "execution_count": 37,
   "metadata": {},
   "outputs": [
    {
     "data": {
      "text/html": [
       "<div>\n",
       "<style scoped>\n",
       "    .dataframe tbody tr th:only-of-type {\n",
       "        vertical-align: middle;\n",
       "    }\n",
       "\n",
       "    .dataframe tbody tr th {\n",
       "        vertical-align: top;\n",
       "    }\n",
       "\n",
       "    .dataframe thead th {\n",
       "        text-align: right;\n",
       "    }\n",
       "</style>\n",
       "<table border=\"1\" class=\"dataframe\">\n",
       "  <thead>\n",
       "    <tr style=\"text-align: right;\">\n",
       "      <th></th>\n",
       "      <th>mean_fit_time</th>\n",
       "      <th>std_fit_time</th>\n",
       "      <th>mean_score_time</th>\n",
       "      <th>std_score_time</th>\n",
       "      <th>param_criterion</th>\n",
       "      <th>param_max_depth</th>\n",
       "      <th>param_n_estimators</th>\n",
       "      <th>params</th>\n",
       "      <th>split0_test_score</th>\n",
       "      <th>split1_test_score</th>\n",
       "      <th>split2_test_score</th>\n",
       "      <th>split3_test_score</th>\n",
       "      <th>split4_test_score</th>\n",
       "      <th>mean_test_score</th>\n",
       "      <th>std_test_score</th>\n",
       "      <th>rank_test_score</th>\n",
       "    </tr>\n",
       "  </thead>\n",
       "  <tbody>\n",
       "    <tr>\n",
       "      <th>4</th>\n",
       "      <td>63.326787</td>\n",
       "      <td>8.350181</td>\n",
       "      <td>0.246816</td>\n",
       "      <td>0.018613</td>\n",
       "      <td>mse</td>\n",
       "      <td>10</td>\n",
       "      <td>200</td>\n",
       "      <td>{'criterion': 'mse', 'max_depth': 10, 'n_estim...</td>\n",
       "      <td>-67.041381</td>\n",
       "      <td>-67.955912</td>\n",
       "      <td>-68.649789</td>\n",
       "      <td>-67.086198</td>\n",
       "      <td>-67.183769</td>\n",
       "      <td>-67.583410</td>\n",
       "      <td>0.628753</td>\n",
       "      <td>1</td>\n",
       "    </tr>\n",
       "    <tr>\n",
       "      <th>3</th>\n",
       "      <td>42.833217</td>\n",
       "      <td>2.964270</td>\n",
       "      <td>0.180167</td>\n",
       "      <td>0.033986</td>\n",
       "      <td>mse</td>\n",
       "      <td>10</td>\n",
       "      <td>150</td>\n",
       "      <td>{'criterion': 'mse', 'max_depth': 10, 'n_estim...</td>\n",
       "      <td>-67.062900</td>\n",
       "      <td>-67.981031</td>\n",
       "      <td>-68.638530</td>\n",
       "      <td>-67.115843</td>\n",
       "      <td>-67.145134</td>\n",
       "      <td>-67.588688</td>\n",
       "      <td>0.624960</td>\n",
       "      <td>2</td>\n",
       "    </tr>\n",
       "  </tbody>\n",
       "</table>\n",
       "</div>"
      ],
      "text/plain": [
       "   mean_fit_time  std_fit_time  mean_score_time  std_score_time  \\\n",
       "4      63.326787      8.350181         0.246816        0.018613   \n",
       "3      42.833217      2.964270         0.180167        0.033986   \n",
       "\n",
       "  param_criterion param_max_depth param_n_estimators  \\\n",
       "4             mse              10                200   \n",
       "3             mse              10                150   \n",
       "\n",
       "                                              params  split0_test_score  \\\n",
       "4  {'criterion': 'mse', 'max_depth': 10, 'n_estim...         -67.041381   \n",
       "3  {'criterion': 'mse', 'max_depth': 10, 'n_estim...         -67.062900   \n",
       "\n",
       "   split1_test_score  split2_test_score  split3_test_score  split4_test_score  \\\n",
       "4         -67.955912         -68.649789         -67.086198         -67.183769   \n",
       "3         -67.981031         -68.638530         -67.115843         -67.145134   \n",
       "\n",
       "   mean_test_score  std_test_score  rank_test_score  \n",
       "4       -67.583410        0.628753                1  \n",
       "3       -67.588688        0.624960                2  "
      ]
     },
     "execution_count": 37,
     "metadata": {},
     "output_type": "execute_result"
    }
   ],
   "source": [
    "# Cross validate and sort by highest score \n",
    "df_reg_forest = pd.DataFrame(reg_seach.cv_results_).sort_values('rank_test_score')\n",
    "df_reg_forest.head(2)"
   ]
  },
  {
   "cell_type": "code",
   "execution_count": 38,
   "metadata": {},
   "outputs": [
    {
     "name": "stdout",
     "output_type": "stream",
     "text": [
      "Mean absolute error (on test data): 69.0997\n"
     ]
    }
   ],
   "source": [
    "reg_forest_best = reg_seach.best_estimator_\n",
    "y_pred = reg_forest_best.predict(X_test)\n",
    "\n",
    "print(f'Mean absolute error (on test data): {round(mean_absolute_error(y_test, y_pred),4)}')"
   ]
  },
  {
   "cell_type": "code",
   "execution_count": 39,
   "metadata": {},
   "outputs": [
    {
     "data": {
      "image/png": "[encoded data removed]",
      "text/plain": [
       "<Figure size 432x288 with 1 Axes>"
      ]
     },
     "metadata": {
      "needs_background": "light"
     },
     "output_type": "display_data"
    }
   ],
   "source": [
    "pd.Series(reg_forest_best.feature_importances_, index=features.columns).nlargest(20).plot(kind='barh')\n",
    "plt.show()"
   ]
  },
  {
   "cell_type": "markdown",
   "metadata": {},
   "source": [
    "By using a Random Forest we have been able to cut the Mean Absolute Error down just a bit further to around 69.1. This is however, again just a bit worse than than the performance of the first random forest fitted on the other dataset. (Which had a MAE of 68.6.)"
   ]
  },
  {
   "cell_type": "markdown",
   "metadata": {},
   "source": [
    "## Random Forest with feature selection"
   ]
  },
  {
   "cell_type": "code",
   "execution_count": null,
   "metadata": {},
   "outputs": [],
   "source": [
    "# Here we display featues of our random forest and the threshold for when we consider a feature unimportant\n",
    "df_reg_forest_feat_im = pd.Series(reg_forest_best.feature_importances_, index=features.columns).nlargest(20)\n",
    "# Threshold of (un)importance\n",
    "threshold_feat_im = 0.005\n",
    "\n",
    "\n",
    "threshold_plot = len(df_reg_forest_feat_im[df_reg_forest_feat_im>=threshold_feat_im])-0.5\n",
    "\n",
    "df_reg_forest_feat_im.plot(kind='barh')\n",
    "plt.axhline(y=threshold_plot,linewidth=1, color='orange')\n",
    "plt.show()"
   ]
  },
  {
   "cell_type": "code",
   "execution_count": 41,
   "metadata": {},
   "outputs": [
    {
     "name": "stdout",
     "output_type": "stream",
     "text": [
      "Index(['latitude', 'longitude', 'minimum_nights', 'number_of_reviews',\n",
      "       'reviews_per_month', 'calculated_host_listings_count',\n",
      "       'availability_365', 'neighbourhood_other_label',\n",
      "       'neighbourhood_group_Bronx', 'neighbourhood_group_Manhattan',\n",
      "       'neighbourhood_group_Staten Island', 'room_type_Entire home/apt',\n",
      "       'room_type_Shared room', 'number_of_places_2500m',\n",
      "       'number_of_places_1000m', 'number_of_places_500m',\n",
      "       'number_of_rats_2500m', 'number_of_rats_1000m', 'number_of_rats_500m',\n",
      "       'number_of_trees_2500m', 'number_of_trees_1000m',\n",
      "       'number_of_trees_500m'],\n",
      "      dtype='object')\n"
     ]
    }
   ],
   "source": [
    "# Choose which featues not to include in the calculation\n",
    "features_select = features.drop(df_reg_forest_feat_im[df_reg_forest_feat_im<threshold_feat_im].index, axis=1)\n",
    "target = df.price\n",
    "\n",
    "print(features_select.columns)"
   ]
  },
  {
   "cell_type": "code",
   "execution_count": 42,
   "metadata": {},
   "outputs": [
    {
     "name": "stdout",
     "output_type": "stream",
     "text": [
      "Training Features Shape: (38970, 22) \tTesting Features Shape:\t (9743, 22)\n",
      "Training Labels Shape:\t (38970,) \tTesting Labels Shape:\t (9743,)\n"
     ]
    }
   ],
   "source": [
    "test_fraction = 0.2\n",
    "\n",
    "# This is a stratified split:\n",
    "X_train, X_test, y_train, y_test = train_test_split(features_select, target, test_size = test_fraction, random_state=3546)\n",
    "#Display how many samples are chosen for training and test, respectively\n",
    "print('Training Features Shape:', X_train.shape,'\\tTesting Features Shape:\\t', X_test.shape)\n",
    "print('Training Labels Shape:\\t', y_train.shape, '\\tTesting Labels Shape:\\t', y_test.shape)"
   ]
  },
  {
   "cell_type": "code",
   "execution_count": 43,
   "metadata": {},
   "outputs": [
    {
     "data": {
      "text/plain": [
       "GridSearchCV(estimator=RandomForestRegressor(random_state=3546),\n",
       "             param_grid={'criterion': ('mse',), 'max_depth': [10, 20, None],\n",
       "                         'n_estimators': [10, 50, 100, 150, 200]},\n",
       "             scoring='neg_mean_absolute_error')"
      ]
     },
     "execution_count": 43,
     "metadata": {},
     "output_type": "execute_result"
    }
   ],
   "source": [
    "parameters = {'n_estimators':[10, 50, 100, 150, 200], 'criterion':('mse',), 'max_depth':[10, 20, None]} # mae is again more than 60 times slower than mse\n",
    "\n",
    "reg_forest_select = RandomForestRegressor(random_state=3546) # random state is set so as to guarantee the same outcome every time\n",
    "reg_seach = GridSearchCV(reg_forest_select, parameters, scoring='neg_mean_absolute_error', refit=True, )#verbose=4)\n",
    "\n",
    "reg_seach.fit(X_train, y_train)"
   ]
  },
  {
   "cell_type": "code",
   "execution_count": 44,
   "metadata": {},
   "outputs": [
    {
     "data": {
      "text/html": [
       "<div>\n",
       "<style scoped>\n",
       "    .dataframe tbody tr th:only-of-type {\n",
       "        vertical-align: middle;\n",
       "    }\n",
       "\n",
       "    .dataframe tbody tr th {\n",
       "        vertical-align: top;\n",
       "    }\n",
       "\n",
       "    .dataframe thead th {\n",
       "        text-align: right;\n",
       "    }\n",
       "</style>\n",
       "<table border=\"1\" class=\"dataframe\">\n",
       "  <thead>\n",
       "    <tr style=\"text-align: right;\">\n",
       "      <th></th>\n",
       "      <th>mean_fit_time</th>\n",
       "      <th>std_fit_time</th>\n",
       "      <th>mean_score_time</th>\n",
       "      <th>std_score_time</th>\n",
       "      <th>param_criterion</th>\n",
       "      <th>param_max_depth</th>\n",
       "      <th>param_n_estimators</th>\n",
       "      <th>params</th>\n",
       "      <th>split0_test_score</th>\n",
       "      <th>split1_test_score</th>\n",
       "      <th>split2_test_score</th>\n",
       "      <th>split3_test_score</th>\n",
       "      <th>split4_test_score</th>\n",
       "      <th>mean_test_score</th>\n",
       "      <th>std_test_score</th>\n",
       "      <th>rank_test_score</th>\n",
       "    </tr>\n",
       "  </thead>\n",
       "  <tbody>\n",
       "    <tr>\n",
       "      <th>4</th>\n",
       "      <td>44.050027</td>\n",
       "      <td>3.481482</td>\n",
       "      <td>0.220304</td>\n",
       "      <td>0.037563</td>\n",
       "      <td>mse</td>\n",
       "      <td>10</td>\n",
       "      <td>200</td>\n",
       "      <td>{'criterion': 'mse', 'max_depth': 10, 'n_estim...</td>\n",
       "      <td>-67.031876</td>\n",
       "      <td>-67.894591</td>\n",
       "      <td>-68.587952</td>\n",
       "      <td>-67.103827</td>\n",
       "      <td>-67.156102</td>\n",
       "      <td>-67.554869</td>\n",
       "      <td>0.603100</td>\n",
       "      <td>1</td>\n",
       "    </tr>\n",
       "    <tr>\n",
       "      <th>3</th>\n",
       "      <td>34.568878</td>\n",
       "      <td>1.781484</td>\n",
       "      <td>0.155194</td>\n",
       "      <td>0.016202</td>\n",
       "      <td>mse</td>\n",
       "      <td>10</td>\n",
       "      <td>150</td>\n",
       "      <td>{'criterion': 'mse', 'max_depth': 10, 'n_estim...</td>\n",
       "      <td>-67.047618</td>\n",
       "      <td>-67.901288</td>\n",
       "      <td>-68.558159</td>\n",
       "      <td>-67.129507</td>\n",
       "      <td>-67.156835</td>\n",
       "      <td>-67.558681</td>\n",
       "      <td>0.587059</td>\n",
       "      <td>2</td>\n",
       "    </tr>\n",
       "  </tbody>\n",
       "</table>\n",
       "</div>"
      ],
      "text/plain": [
       "   mean_fit_time  std_fit_time  mean_score_time  std_score_time  \\\n",
       "4      44.050027      3.481482         0.220304        0.037563   \n",
       "3      34.568878      1.781484         0.155194        0.016202   \n",
       "\n",
       "  param_criterion param_max_depth param_n_estimators  \\\n",
       "4             mse              10                200   \n",
       "3             mse              10                150   \n",
       "\n",
       "                                              params  split0_test_score  \\\n",
       "4  {'criterion': 'mse', 'max_depth': 10, 'n_estim...         -67.031876   \n",
       "3  {'criterion': 'mse', 'max_depth': 10, 'n_estim...         -67.047618   \n",
       "\n",
       "   split1_test_score  split2_test_score  split3_test_score  split4_test_score  \\\n",
       "4         -67.894591         -68.587952         -67.103827         -67.156102   \n",
       "3         -67.901288         -68.558159         -67.129507         -67.156835   \n",
       "\n",
       "   mean_test_score  std_test_score  rank_test_score  \n",
       "4       -67.554869        0.603100                1  \n",
       "3       -67.558681        0.587059                2  "
      ]
     },
     "execution_count": 44,
     "metadata": {},
     "output_type": "execute_result"
    }
   ],
   "source": [
    "df_reg_forest_select = pd.DataFrame(reg_seach.cv_results_).sort_values('rank_test_score')\n",
    "df_reg_forest_select.head(2)"
   ]
  },
  {
   "cell_type": "code",
   "execution_count": 45,
   "metadata": {},
   "outputs": [
    {
     "name": "stdout",
     "output_type": "stream",
     "text": [
      "Mean absolute error (on test data): 69.069\n"
     ]
    }
   ],
   "source": [
    "reg_forest_select_best = reg_seach.best_estimator_\n",
    "y_pred = reg_forest_select_best.predict(X_test)\n",
    "\n",
    "print(f'Mean absolute error (on test data): {round(mean_absolute_error(y_test, y_pred),4)}')"
   ]
  },
  {
   "cell_type": "code",
   "execution_count": 46,
   "metadata": {},
   "outputs": [
    {
     "data": {
      "image/png": "[encoded data removed]",
      "text/plain": [
       "<Figure size 432x288 with 1 Axes>"
      ]
     },
     "metadata": {
      "needs_background": "light"
     },
     "output_type": "display_data"
    }
   ],
   "source": [
    "pd.Series(reg_forest_select_best.feature_importances_, index=features_select.columns).nlargest(20).plot(kind='barh')\n",
    "plt.show()"
   ]
  },
  {
   "cell_type": "markdown",
   "metadata": {},
   "source": [
    "As can be seen feature selection did not do a lot of diffrence to the Random Forest model as our Mean Absolute Error did only change in the second decimal place. Thus, the model with the best performance was the Random Forest with feature selection fitted on the original dataset. Therefore the model used on the website did not use any of the nine features extracted from the three additional datasets. "
   ]
  }
 ],
 "metadata": {
  "kernelspec": {
   "display_name": "Python 3",
   "language": "python",
   "name": "python3"
  },
  "language_info": {
   "codemirror_mode": {
    "name": "ipython",
    "version": 3
   },
   "file_extension": ".py",
   "mimetype": "text/x-python",
   "name": "python",
   "nbconvert_exporter": "python",
   "pygments_lexer": "ipython3",
   "version": "3.8.5"
  }
 },
 "nbformat": 4,
 "nbformat_minor": 4
}
