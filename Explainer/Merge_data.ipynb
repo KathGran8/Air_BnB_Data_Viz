{
 "cells": [
  {
   "cell_type": "code",
   "execution_count": 1,
   "metadata": {},
   "outputs": [],
   "source": [
    "import pandas as pd\n",
    "import scipy.spatial as sp\n",
    "from numpy import inf\n",
    "import numpy as np\n",
    "from itertools import takewhile"
   ]
  },
  {
   "cell_type": "code",
   "execution_count": 2,
   "metadata": {},
   "outputs": [],
   "source": [
    "def k_neighbours(main_dataframe_row, second_dataframe,k, radius_meters):\n",
    "    coord = second_dataframe[['latitude','longitude']]\n",
    "    t = sp.cKDTree(coord)# https://gis.stackexchange.com/questions/382899/getting-scipy-ckdtree-to-return-everything-with-a-given-meter-radius\n",
    "    #  0.1 m approximately equals to 0.0000009 degree.\n",
    "    m_1 = 10*0.0000009\n",
    "    dist, idx = t.query([main_dataframe_row.get('latitude'), main_dataframe_row.get('longitude')], second_dataframe.shape[0], distance_upper_bound=m_1*radius_meters)\n",
    "    idx = idx[dist != inf][0:k] #array\n",
    "    dist = dist[dist != inf][0:k] #array\n",
    "    dist = np.round(dist /0.000009,1)\n",
    "    return idx.tolist(), dist.tolist()"
   ]
  },
  {
   "cell_type": "code",
   "execution_count": 3,
   "metadata": {},
   "outputs": [],
   "source": [
    "df = pd.read_csv(\"data_air/AB_data_clean.csv\")"
   ]
  },
  {
   "cell_type": "markdown",
   "metadata": {},
   "source": [
    "## Extract features from Trees dataset"
   ]
  },
  {
   "cell_type": "code",
   "execution_count": 4,
   "metadata": {},
   "outputs": [],
   "source": [
    "df_trees = pd.read_csv(\"data_trees/trees_data_clean.csv\")"
   ]
  },
  {
   "cell_type": "code",
   "execution_count": null,
   "metadata": {},
   "outputs": [],
   "source": [
    "#DO NOT DELETE OR EXECUTE\n",
    "df_test = df\n",
    "distances_trees = df_test.apply(lambda x: pd.Series(k_neighbours(x, df_trees, round(df_trees.shape[0]), 2500), index=['df_trees index_2500m', 'trees distance_2500m']), axis=1)\n",
    "distances_trees['number_of_trees_2500m'] = distances_trees['trees distance_2500m'].apply(lambda x: len(x))\n",
    "\n",
    "distances_trees['number_of_trees_1000m'] = distances_trees['trees distance_2500m'].apply(lambda x: len(list(takewhile(lambda y: y<1000, x))))\n",
    "distances_trees['number_of_trees_500m'] = distances_trees['trees distance_2500m'].apply(lambda x: len(list(takewhile(lambda y: y<500, x))))\n",
    "\n",
    "distances_trees.drop(['df_trees index_2500m', 'trees distance_2500m'], axis = 1).to_csv('data_trees/trees_distances_simple.csv')"
   ]
  },
  {
   "cell_type": "code",
   "execution_count": null,
   "metadata": {},
   "outputs": [],
   "source": [
    "#FILE IS LOADED INSTEAD\n",
    "distances_trees = pd.read_csv(\"data_trees/trees_distances_simple.csv\")\n",
    "distances_trees.drop(columns='Unnamed: 0', inplace=True)\n",
    "distances_trees.head(2)"
   ]
  },
  {
   "cell_type": "markdown",
   "metadata": {},
   "source": [
    "## Extract features from Rats dataset"
   ]
  },
  {
   "cell_type": "code",
   "execution_count": null,
   "metadata": {},
   "outputs": [],
   "source": [
    "df_rats = pd.read_csv(\"data_rats/rats_data_clean.csv\")"
   ]
  },
  {
   "cell_type": "code",
   "execution_count": null,
   "metadata": {},
   "outputs": [],
   "source": [
    "#DO NOT DELETE OR EXECUTE\n",
    "df_test = df\n",
    "distances_rats = df_test.apply(lambda x: pd.Series(k_neighbours(x, df_rats, round(df_rats.shape[0]), 2500), index=['df_rats index_2500m', 'rats distance_2500m']), axis=1)\n",
    "distances_rats['number_of_rats_2500m'] = distances_rats['rats distance_2500m'].apply(lambda x: len(x))\n",
    "\n",
    "distances_rats['number_of_rats_1000m'] = distances_rats['rats distance_2500m'].apply(lambda x: len(list(takewhile(lambda y: y<1000, x))))\n",
    "distances_rats['number_of_rats_500m'] = distances_rats['rats distance_2500m'].apply(lambda x: len(list(takewhile(lambda y: y<500, x))))\n",
    "\n",
    "distances_rats.drop(['df_rats index_2500m', 'rats distance_2500m'], axis = 1).to_csv('data_rats/rats_distances_simple.csv')"
   ]
  },
  {
   "cell_type": "code",
   "execution_count": null,
   "metadata": {},
   "outputs": [],
   "source": [
    "#FILE IS LOADED INSTEAD\n",
    "distances_rats = pd.read_csv(\"data_rats/rats_distances_simple.csv\")\n",
    "distances_rats.drop(columns='Unnamed: 0', inplace=True)\n",
    "distances_rats.head(2)"
   ]
  },
  {
   "cell_type": "markdown",
   "metadata": {},
   "source": [
    "## Extract features from Touristic Places dataset"
   ]
  },
  {
   "cell_type": "code",
   "execution_count": null,
   "metadata": {},
   "outputs": [],
   "source": [
    "df_places = pd.read_csv(\"data_places/places_data_clean.csv\")"
   ]
  },
  {
   "cell_type": "code",
   "execution_count": null,
   "metadata": {},
   "outputs": [],
   "source": [
    "#DO NOT DELETE OR EXECUTE\n",
    "df_test = df\n",
    "distances_places = df_test.apply(lambda x: pd.Series(k_neighbours(x, df_places, round(df_places.shape[0]), 2500), index=['df_places index_2500m', 'places distance_2500m']), axis=1)\n",
    "distances_places['number_of_places_2500m'] = distances_places['places distance_2500m'].apply(lambda x: len(x))\n",
    "\n",
    "distances_places['number_of_places_1000m'] = distances_places['places distance_2500m'].apply(lambda x: len(list(takewhile(lambda y: y<1000, x))))\n",
    "distances_places['number_of_places_500m'] = distances_places['places distance_2500m'].apply(lambda x: len(list(takewhile(lambda y: y<500, x))))\n",
    "\n",
    "distances_places.drop(['df_places index_2500m', 'places distance_2500m'], axis = 1).to_csv('data_places/places_distances_simple.csv')"
   ]
  },
  {
   "cell_type": "code",
   "execution_count": null,
   "metadata": {},
   "outputs": [],
   "source": [
    "#FILE CAN BE LOADED INSTEAD\n",
    "distances_places = pd.read_csv(\"data_places/places_distances_simple.csv\")\n",
    "distances_places.drop(columns='Unnamed: 0', inplace=True)\n",
    "distances_places.head(2)"
   ]
  },
  {
   "cell_type": "markdown",
   "metadata": {},
   "source": [
    "## Merging"
   ]
  },
  {
   "cell_type": "code",
   "execution_count": null,
   "metadata": {},
   "outputs": [],
   "source": [
    "distances_join = distances_places.join([distances_rats, distances_trees], how = 'inner')\n",
    "df_join  = df.join(distances_join, how = 'inner')\n",
    "print(\"Length of AirBnB dataframe: \", df.shape[0])\n",
    "print(\"Length of joined distances: \", distances_join.shape[0])\n",
    "df_join.head(2)"
   ]
  },
  {
   "cell_type": "code",
   "execution_count": null,
   "metadata": {},
   "outputs": [],
   "source": [
    "df_join.to_csv(\"joined_data.csv\")"
   ]
  },
  {
   "cell_type": "code",
   "execution_count": null,
   "metadata": {},
   "outputs": [],
   "source": []
  }
 ],
 "metadata": {
  "kernelspec": {
   "display_name": "Python 3",
   "language": "python",
   "name": "python3"
  },
  "language_info": {
   "codemirror_mode": {
    "name": "ipython",
    "version": 3
   },
   "file_extension": ".py",
   "mimetype": "text/x-python",
   "name": "python",
   "nbconvert_exporter": "python",
   "pygments_lexer": "ipython3",
   "version": "3.8.5"
  }
 },
 "nbformat": 4,
 "nbformat_minor": 4
}
