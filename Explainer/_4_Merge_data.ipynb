{
 "cells": [
  {
   "cell_type": "markdown",
   "metadata": {},
   "source": [
    "# Extracting features from additional datasets and mergeing with the main dataset\n"
   ]
  },
  {
   "cell_type": "code",
   "execution_count": 1,
   "metadata": {},
   "outputs": [],
   "source": [
    "import pandas as pd\n",
    "import scipy.spatial as sp\n",
    "from numpy import inf\n",
    "import numpy as np\n",
    "from itertools import takewhile"
   ]
  },
  {
   "cell_type": "code",
   "execution_count": 3,
   "metadata": {},
   "outputs": [],
   "source": [
    "df = pd.read_csv(\"data_air/AB_data_clean.csv\")"
   ]
  },
  {
   "cell_type": "code",
   "execution_count": 2,
   "metadata": {},
   "outputs": [],
   "source": [
    "#Custom function to get list of elements from the additional datasets, for each entry in the main dataset\n",
    "def k_neighbours(main_dataframe_row, second_dataframe,k, radius_meters):\n",
    "    coord = second_dataframe[['latitude','longitude']]\n",
    "    t = sp.cKDTree(coord)# https://gis.stackexchange.com/questions/382899/getting-scipy-ckdtree-to-return-everything-with-a-given-meter-radius\n",
    "    #  0.1 m approximately equals to 0.0000009 degree.\n",
    "    m_1 = 10*0.0000009\n",
    "    dist, idx = t.query([main_dataframe_row.get('latitude'), main_dataframe_row.get('longitude')], second_dataframe.shape[0], distance_upper_bound=m_1*radius_meters)\n",
    "    idx = idx[dist != inf][0:k] #array\n",
    "    dist = dist[dist != inf][0:k] #array\n",
    "    dist = np.round(dist /0.000009,1)\n",
    "    return idx.tolist(), dist.tolist()"
   ]
  },
  {
   "cell_type": "markdown",
   "metadata": {},
   "source": [
    "We now have three additional datasets, each with a ``latitude`` and ``longtitude`` column for each data entry. In order to convert it into information that could be used by the main dataset, we did the following for each dataset: We used cKDTree from scipy to create a kind of lookup object, then we queried the location of each Airbnb listing and obtained a list with information from all the trees/rats/touristic places within a radius of 2.5km for each Airbnb listing. Adding some extra processing, we obtained three lists for the number of trees/rats/tourist places within 0.5, 1 and 2km."
   ]
  },
  {
   "cell_type": "markdown",
   "metadata": {},
   "source": [
    "## Extract features from Trees dataset"
   ]
  },
  {
   "cell_type": "code",
   "execution_count": 4,
   "metadata": {},
   "outputs": [],
   "source": [
    "df_trees = pd.read_csv(\"data_trees/trees_data_clean.csv\")"
   ]
  },
  {
   "cell_type": "markdown",
   "metadata": {},
   "source": [
    "<font color='darkred'>Note:</font> The cell below is disabled to avoid overwriting files, and because it takes 2+ hours to run"
   ]
  },
  {
   "cell_type": "code",
   "execution_count": null,
   "metadata": {},
   "outputs": [],
   "source": [
    "#DO NOT EXECUTE\n",
    "#df_test = df\n",
    "#distances_trees = df_test.apply(lambda x: pd.Series(k_neighbours(x, df_trees, round(df_trees.shape[0]), 2500), index=['df_trees index_2500m', 'trees distance_2500m']), axis=1)\n",
    "#distances_trees['number_of_trees_2500m'] = distances_trees['trees distance_2500m'].apply(lambda x: len(x))\n",
    "\n",
    "#distances_trees['number_of_trees_1000m'] = distances_trees['trees distance_2500m'].apply(lambda x: len(list(takewhile(lambda y: y<1000, x))))\n",
    "#distances_trees['number_of_trees_500m'] = distances_trees['trees distance_2500m'].apply(lambda x: len(list(takewhile(lambda y: y<500, x))))\n",
    "\n",
    "#distances_trees.drop(['df_trees index_2500m', 'trees distance_2500m'], axis = 1).to_csv('data_trees/trees_distances_simple.csv')"
   ]
  },
  {
   "cell_type": "code",
   "execution_count": 20,
   "metadata": {},
   "outputs": [
    {
     "data": {
      "text/html": [
       "<div>\n",
       "<style scoped>\n",
       "    .dataframe tbody tr th:only-of-type {\n",
       "        vertical-align: middle;\n",
       "    }\n",
       "\n",
       "    .dataframe tbody tr th {\n",
       "        vertical-align: top;\n",
       "    }\n",
       "\n",
       "    .dataframe thead th {\n",
       "        text-align: right;\n",
       "    }\n",
       "</style>\n",
       "<table border=\"1\" class=\"dataframe\">\n",
       "  <thead>\n",
       "    <tr style=\"text-align: right;\">\n",
       "      <th></th>\n",
       "      <th>number_of_trees_2500m</th>\n",
       "      <th>number_of_trees_1000m</th>\n",
       "      <th>number_of_trees_500m</th>\n",
       "    </tr>\n",
       "  </thead>\n",
       "  <tbody>\n",
       "    <tr>\n",
       "      <th>0</th>\n",
       "      <td>5491</td>\n",
       "      <td>1037</td>\n",
       "      <td>321</td>\n",
       "    </tr>\n",
       "    <tr>\n",
       "      <th>1</th>\n",
       "      <td>3611</td>\n",
       "      <td>296</td>\n",
       "      <td>46</td>\n",
       "    </tr>\n",
       "  </tbody>\n",
       "</table>\n",
       "</div>"
      ],
      "text/plain": [
       "   number_of_trees_2500m  number_of_trees_1000m  number_of_trees_500m\n",
       "0                   5491                   1037                   321\n",
       "1                   3611                    296                    46"
      ]
     },
     "metadata": {},
     "output_type": "display_data"
    },
    {
     "data": {
      "text/plain": [
       "48713"
      ]
     },
     "execution_count": 20,
     "metadata": {},
     "output_type": "execute_result"
    }
   ],
   "source": [
    "#FILE IS LOADED INSTEAD\n",
    "distances_trees = pd.read_csv(\"data_trees/trees_distances_simple.csv\")\n",
    "distances_trees = distances_trees[['number_of_trees_2500m', 'number_of_trees_1000m', 'number_of_trees_500m']]\n",
    "display(distances_trees.head(2))\n",
    "distances_trees.shape[0]"
   ]
  },
  {
   "cell_type": "markdown",
   "metadata": {},
   "source": [
    "## Extract features from Rats dataset"
   ]
  },
  {
   "cell_type": "code",
   "execution_count": 9,
   "metadata": {},
   "outputs": [],
   "source": [
    "df_rats = pd.read_csv(\"data_rats/rats_data_clean.csv\")"
   ]
  },
  {
   "cell_type": "markdown",
   "metadata": {},
   "source": [
    "<font color='darkred'>Note:</font> The cell below is disabled to avoid overwriting files"
   ]
  },
  {
   "cell_type": "code",
   "execution_count": null,
   "metadata": {},
   "outputs": [],
   "source": [
    "#DO NOT EXECUTE\n",
    "#df_test = df\n",
    "#distances_rats = df_test.apply(lambda x: pd.Series(k_neighbours(x, df_rats, round(df_rats.shape[0]), 2500), index=['df_rats index_2500m', 'rats distance_2500m']), axis=1)\n",
    "#distances_rats['number_of_rats_2500m'] = distances_rats['rats distance_2500m'].apply(lambda x: len(x))\n",
    "\n",
    "#distances_rats['number_of_rats_1000m'] = distances_rats['rats distance_2500m'].apply(lambda x: len(list(takewhile(lambda y: y<1000, x))))\n",
    "#distances_rats['number_of_rats_500m'] = distances_rats['rats distance_2500m'].apply(lambda x: len(list(takewhile(lambda y: y<500, x))))\n",
    "\n",
    "#distances_rats.drop(['df_rats index_2500m', 'rats distance_2500m'], axis = 1).to_csv('data_rats/rats_distances_simple.csv')"
   ]
  },
  {
   "cell_type": "code",
   "execution_count": 22,
   "metadata": {},
   "outputs": [
    {
     "data": {
      "text/html": [
       "<div>\n",
       "<style scoped>\n",
       "    .dataframe tbody tr th:only-of-type {\n",
       "        vertical-align: middle;\n",
       "    }\n",
       "\n",
       "    .dataframe tbody tr th {\n",
       "        vertical-align: top;\n",
       "    }\n",
       "\n",
       "    .dataframe thead th {\n",
       "        text-align: right;\n",
       "    }\n",
       "</style>\n",
       "<table border=\"1\" class=\"dataframe\">\n",
       "  <thead>\n",
       "    <tr style=\"text-align: right;\">\n",
       "      <th></th>\n",
       "      <th>number_of_rats_2500m</th>\n",
       "      <th>number_of_rats_1000m</th>\n",
       "      <th>number_of_rats_500m</th>\n",
       "    </tr>\n",
       "  </thead>\n",
       "  <tbody>\n",
       "    <tr>\n",
       "      <th>0</th>\n",
       "      <td>456</td>\n",
       "      <td>57</td>\n",
       "      <td>8</td>\n",
       "    </tr>\n",
       "    <tr>\n",
       "      <th>1</th>\n",
       "      <td>448</td>\n",
       "      <td>54</td>\n",
       "      <td>5</td>\n",
       "    </tr>\n",
       "  </tbody>\n",
       "</table>\n",
       "</div>"
      ],
      "text/plain": [
       "   number_of_rats_2500m  number_of_rats_1000m  number_of_rats_500m\n",
       "0                   456                    57                    8\n",
       "1                   448                    54                    5"
      ]
     },
     "metadata": {},
     "output_type": "display_data"
    },
    {
     "data": {
      "text/plain": [
       "48713"
      ]
     },
     "execution_count": 22,
     "metadata": {},
     "output_type": "execute_result"
    }
   ],
   "source": [
    "#FILE IS LOADED INSTEAD\n",
    "distances_rats = pd.read_csv(\"data_rats/rats_distances_simple.csv\")\n",
    "distances_rats = distances_rats[['number_of_rats_2500m', 'number_of_rats_1000m', 'number_of_rats_500m']]\n",
    "display(distances_rats.head(2))\n",
    "distances_rats.shape[0]"
   ]
  },
  {
   "cell_type": "markdown",
   "metadata": {},
   "source": [
    "## Extract features from Tourist Places dataset"
   ]
  },
  {
   "cell_type": "code",
   "execution_count": 14,
   "metadata": {},
   "outputs": [],
   "source": [
    "df_places = pd.read_csv(\"data_places/places_data_clean.csv\")"
   ]
  },
  {
   "cell_type": "markdown",
   "metadata": {},
   "source": [
    "<font color='darkred'>Note:</font> The cell below is disabled to avoid overwriting files"
   ]
  },
  {
   "cell_type": "code",
   "execution_count": null,
   "metadata": {},
   "outputs": [],
   "source": [
    "#DO NOT EXECUTE\n",
    "#df_test = df\n",
    "#distances_places = df_test.apply(lambda x: pd.Series(k_neighbours(x, df_places, round(df_places.shape[0]), 2500), index=['df_places index_2500m', 'places distance_2500m']), axis=1)\n",
    "#distances_places['number_of_places_2500m'] = distances_places['places distance_2500m'].apply(lambda x: len(x))\n",
    "\n",
    "#distances_places['number_of_places_1000m'] = distances_places['places distance_2500m'].apply(lambda x: len(list(takewhile(lambda y: y<1000, x))))\n",
    "#distances_places['number_of_places_500m'] = distances_places['places distance_2500m'].apply(lambda x: len(list(takewhile(lambda y: y<500, x))))\n",
    "\n",
    "#distances_places.drop(['df_places index_2500m', 'places distance_2500m'], axis = 1).to_csv('data_places/places_distances_simple.csv')"
   ]
  },
  {
   "cell_type": "code",
   "execution_count": 24,
   "metadata": {},
   "outputs": [
    {
     "data": {
      "text/html": [
       "<div>\n",
       "<style scoped>\n",
       "    .dataframe tbody tr th:only-of-type {\n",
       "        vertical-align: middle;\n",
       "    }\n",
       "\n",
       "    .dataframe tbody tr th {\n",
       "        vertical-align: top;\n",
       "    }\n",
       "\n",
       "    .dataframe thead th {\n",
       "        text-align: right;\n",
       "    }\n",
       "</style>\n",
       "<table border=\"1\" class=\"dataframe\">\n",
       "  <thead>\n",
       "    <tr style=\"text-align: right;\">\n",
       "      <th></th>\n",
       "      <th>number_of_places_2500m</th>\n",
       "      <th>number_of_places_1000m</th>\n",
       "      <th>number_of_places_500m</th>\n",
       "    </tr>\n",
       "  </thead>\n",
       "  <tbody>\n",
       "    <tr>\n",
       "      <th>0</th>\n",
       "      <td>8</td>\n",
       "      <td>0</td>\n",
       "      <td>0</td>\n",
       "    </tr>\n",
       "    <tr>\n",
       "      <th>1</th>\n",
       "      <td>75</td>\n",
       "      <td>29</td>\n",
       "      <td>4</td>\n",
       "    </tr>\n",
       "  </tbody>\n",
       "</table>\n",
       "</div>"
      ],
      "text/plain": [
       "   number_of_places_2500m  number_of_places_1000m  number_of_places_500m\n",
       "0                       8                       0                      0\n",
       "1                      75                      29                      4"
      ]
     },
     "metadata": {},
     "output_type": "display_data"
    },
    {
     "data": {
      "text/plain": [
       "48713"
      ]
     },
     "execution_count": 24,
     "metadata": {},
     "output_type": "execute_result"
    }
   ],
   "source": [
    "#FILE CAN BE LOADED INSTEAD\n",
    "distances_places = pd.read_csv(\"data_places/places_distances_simple.csv\")\n",
    "distances_places = distances_places[['number_of_places_2500m', 'number_of_places_1000m', 'number_of_places_500m']]\n",
    "display(distances_places.head(2))\n",
    "distances_places.shape[0]"
   ]
  },
  {
   "cell_type": "markdown",
   "metadata": {},
   "source": [
    "## Merging"
   ]
  },
  {
   "cell_type": "markdown",
   "metadata": {},
   "source": [
    "Then we merged all the new features into a new dataset, and afterwards we merged them with the main dataset. "
   ]
  },
  {
   "cell_type": "code",
   "execution_count": 28,
   "metadata": {},
   "outputs": [
    {
     "data": {
      "text/html": [
       "<div>\n",
       "<style scoped>\n",
       "    .dataframe tbody tr th:only-of-type {\n",
       "        vertical-align: middle;\n",
       "    }\n",
       "\n",
       "    .dataframe tbody tr th {\n",
       "        vertical-align: top;\n",
       "    }\n",
       "\n",
       "    .dataframe thead th {\n",
       "        text-align: right;\n",
       "    }\n",
       "</style>\n",
       "<table border=\"1\" class=\"dataframe\">\n",
       "  <thead>\n",
       "    <tr style=\"text-align: right;\">\n",
       "      <th></th>\n",
       "      <th>id</th>\n",
       "      <th>name</th>\n",
       "      <th>host_id</th>\n",
       "      <th>host_name</th>\n",
       "      <th>neighbourhood_group</th>\n",
       "      <th>neighbourhood</th>\n",
       "      <th>latitude</th>\n",
       "      <th>longitude</th>\n",
       "      <th>room_type</th>\n",
       "      <th>price</th>\n",
       "      <th>...</th>\n",
       "      <th>room_type_Shared room</th>\n",
       "      <th>number_of_places_2500m</th>\n",
       "      <th>number_of_places_1000m</th>\n",
       "      <th>number_of_places_500m</th>\n",
       "      <th>number_of_rats_2500m</th>\n",
       "      <th>number_of_rats_1000m</th>\n",
       "      <th>number_of_rats_500m</th>\n",
       "      <th>number_of_trees_2500m</th>\n",
       "      <th>number_of_trees_1000m</th>\n",
       "      <th>number_of_trees_500m</th>\n",
       "    </tr>\n",
       "  </thead>\n",
       "  <tbody>\n",
       "    <tr>\n",
       "      <th>0</th>\n",
       "      <td>2539</td>\n",
       "      <td>Clean &amp; quiet apt home by the park</td>\n",
       "      <td>2787</td>\n",
       "      <td>John</td>\n",
       "      <td>Brooklyn</td>\n",
       "      <td>Kensington</td>\n",
       "      <td>40.64749</td>\n",
       "      <td>-73.97237</td>\n",
       "      <td>Private room</td>\n",
       "      <td>149</td>\n",
       "      <td>...</td>\n",
       "      <td>0.0</td>\n",
       "      <td>8</td>\n",
       "      <td>0</td>\n",
       "      <td>0</td>\n",
       "      <td>456</td>\n",
       "      <td>57</td>\n",
       "      <td>8</td>\n",
       "      <td>5491</td>\n",
       "      <td>1037</td>\n",
       "      <td>321</td>\n",
       "    </tr>\n",
       "    <tr>\n",
       "      <th>1</th>\n",
       "      <td>2595</td>\n",
       "      <td>Skylit Midtown Castle</td>\n",
       "      <td>2845</td>\n",
       "      <td>Jennifer</td>\n",
       "      <td>Manhattan</td>\n",
       "      <td>Midtown</td>\n",
       "      <td>40.75362</td>\n",
       "      <td>-73.98377</td>\n",
       "      <td>Entire home/apt</td>\n",
       "      <td>225</td>\n",
       "      <td>...</td>\n",
       "      <td>0.0</td>\n",
       "      <td>75</td>\n",
       "      <td>29</td>\n",
       "      <td>4</td>\n",
       "      <td>448</td>\n",
       "      <td>54</td>\n",
       "      <td>5</td>\n",
       "      <td>3611</td>\n",
       "      <td>296</td>\n",
       "      <td>46</td>\n",
       "    </tr>\n",
       "  </tbody>\n",
       "</table>\n",
       "<p>2 rows × 35 columns</p>\n",
       "</div>"
      ],
      "text/plain": [
       "     id                                name  host_id host_name  \\\n",
       "0  2539  Clean & quiet apt home by the park     2787      John   \n",
       "1  2595               Skylit Midtown Castle     2845  Jennifer   \n",
       "\n",
       "  neighbourhood_group neighbourhood  latitude  longitude        room_type  \\\n",
       "0            Brooklyn    Kensington  40.64749  -73.97237     Private room   \n",
       "1           Manhattan       Midtown  40.75362  -73.98377  Entire home/apt   \n",
       "\n",
       "   price  ...  room_type_Shared room  number_of_places_2500m  \\\n",
       "0    149  ...                    0.0                       8   \n",
       "1    225  ...                    0.0                      75   \n",
       "\n",
       "  number_of_places_1000m  number_of_places_500m  number_of_rats_2500m  \\\n",
       "0                      0                      0                   456   \n",
       "1                     29                      4                   448   \n",
       "\n",
       "   number_of_rats_1000m number_of_rats_500m  number_of_trees_2500m  \\\n",
       "0                    57                   8                   5491   \n",
       "1                    54                   5                   3611   \n",
       "\n",
       "   number_of_trees_1000m  number_of_trees_500m  \n",
       "0                   1037                   321  \n",
       "1                    296                    46  \n",
       "\n",
       "[2 rows x 35 columns]"
      ]
     },
     "metadata": {},
     "output_type": "display_data"
    },
    {
     "name": "stdout",
     "output_type": "stream",
     "text": [
      "Length of AirBnB dataframe:  48713\n",
      "Length after joining with distances(trees, rats and places) dataset:  48713\n"
     ]
    }
   ],
   "source": [
    "distances_join = distances_places.join([distances_rats, distances_trees], how = 'inner')\n",
    "df_join = df.join(distances_join, how = 'inner')\n",
    "display(df_join.head(2))\n",
    "print(\"Length of AirBnB dataframe: \", df.shape[0])\n",
    "print(\"Length after joining with distances(trees, rats and places) dataset: \", distances_join.shape[0])"
   ]
  },
  {
   "cell_type": "markdown",
   "metadata": {},
   "source": [
    "<font color='darkred'>Note:</font> The cell below is disabled to avoid overwriting files"
   ]
  },
  {
   "cell_type": "code",
   "execution_count": 29,
   "metadata": {},
   "outputs": [],
   "source": [
    "#df_join.to_csv(\"joined_data.csv\")"
   ]
  },
  {
   "cell_type": "code",
   "execution_count": null,
   "metadata": {},
   "outputs": [],
   "source": []
  }
 ],
 "metadata": {
  "kernelspec": {
   "display_name": "Python 3",
   "language": "python",
   "name": "python3"
  },
  "language_info": {
   "codemirror_mode": {
    "name": "ipython",
    "version": 3
   },
   "file_extension": ".py",
   "mimetype": "text/x-python",
   "name": "python",
   "nbconvert_exporter": "python",
   "pygments_lexer": "ipython3",
   "version": "3.8.5"
  }
 },
 "nbformat": 4,
 "nbformat_minor": 4
}
