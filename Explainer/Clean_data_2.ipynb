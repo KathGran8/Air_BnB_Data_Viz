{
 "cells": [
  {
   "cell_type": "markdown",
   "metadata": {},
   "source": [
    "## Data cleaning: Trees dataset"
   ]
  },
  {
   "cell_type": "code",
   "execution_count": 6,
   "metadata": {},
   "outputs": [],
   "source": [
    "import pandas as pd\n",
    "import numpy as np"
   ]
  },
  {
   "cell_type": "code",
   "execution_count": 3,
   "metadata": {},
   "outputs": [
    {
     "data": {
      "text/html": [
       "<div>\n",
       "<style scoped>\n",
       "    .dataframe tbody tr th:only-of-type {\n",
       "        vertical-align: middle;\n",
       "    }\n",
       "\n",
       "    .dataframe tbody tr th {\n",
       "        vertical-align: top;\n",
       "    }\n",
       "\n",
       "    .dataframe thead th {\n",
       "        text-align: right;\n",
       "    }\n",
       "</style>\n",
       "<table border=\"1\" class=\"dataframe\">\n",
       "  <thead>\n",
       "    <tr style=\"text-align: right;\">\n",
       "      <th></th>\n",
       "      <th>tree_id</th>\n",
       "      <th>block_id</th>\n",
       "      <th>created_at</th>\n",
       "      <th>tree_dbh</th>\n",
       "      <th>stump_diam</th>\n",
       "      <th>curb_loc</th>\n",
       "      <th>status</th>\n",
       "      <th>health</th>\n",
       "      <th>spc_latin</th>\n",
       "      <th>spc_common</th>\n",
       "      <th>...</th>\n",
       "      <th>st_assem</th>\n",
       "      <th>st_senate</th>\n",
       "      <th>nta</th>\n",
       "      <th>nta_name</th>\n",
       "      <th>boro_ct</th>\n",
       "      <th>state</th>\n",
       "      <th>latitude</th>\n",
       "      <th>longitude</th>\n",
       "      <th>x_sp</th>\n",
       "      <th>y_sp</th>\n",
       "    </tr>\n",
       "  </thead>\n",
       "  <tbody>\n",
       "    <tr>\n",
       "      <th>0</th>\n",
       "      <td>606945</td>\n",
       "      <td>305778</td>\n",
       "      <td>2016-06-28</td>\n",
       "      <td>10</td>\n",
       "      <td>0</td>\n",
       "      <td>OnCurb</td>\n",
       "      <td>Alive</td>\n",
       "      <td>Good</td>\n",
       "      <td>Fraxinus pennsylvanica</td>\n",
       "      <td>green ash</td>\n",
       "      <td>...</td>\n",
       "      <td>25</td>\n",
       "      <td>14</td>\n",
       "      <td>QN37</td>\n",
       "      <td>Kew Gardens Hills</td>\n",
       "      <td>4125700</td>\n",
       "      <td>New York</td>\n",
       "      <td>40.724339</td>\n",
       "      <td>-73.805180</td>\n",
       "      <td>1038250.055</td>\n",
       "      <td>203232.9417</td>\n",
       "    </tr>\n",
       "    <tr>\n",
       "      <th>1</th>\n",
       "      <td>160321</td>\n",
       "      <td>341273</td>\n",
       "      <td>2015-08-19</td>\n",
       "      <td>9</td>\n",
       "      <td>0</td>\n",
       "      <td>OnCurb</td>\n",
       "      <td>Alive</td>\n",
       "      <td>Good</td>\n",
       "      <td>Gleditsia triacanthos var. inermis</td>\n",
       "      <td>honeylocust</td>\n",
       "      <td>...</td>\n",
       "      <td>34</td>\n",
       "      <td>13</td>\n",
       "      <td>QN28</td>\n",
       "      <td>Jackson Heights</td>\n",
       "      <td>4030902</td>\n",
       "      <td>New York</td>\n",
       "      <td>40.756626</td>\n",
       "      <td>-73.894167</td>\n",
       "      <td>1013570.588</td>\n",
       "      <td>214953.6472</td>\n",
       "    </tr>\n",
       "  </tbody>\n",
       "</table>\n",
       "<p>2 rows × 41 columns</p>\n",
       "</div>"
      ],
      "text/plain": [
       "   tree_id  block_id  created_at  tree_dbh  stump_diam curb_loc status health  \\\n",
       "0   606945    305778  2016-06-28        10           0   OnCurb  Alive   Good   \n",
       "1   160321    341273  2015-08-19         9           0   OnCurb  Alive   Good   \n",
       "\n",
       "                            spc_latin   spc_common  ... st_assem st_senate  \\\n",
       "0              Fraxinus pennsylvanica    green ash  ...       25        14   \n",
       "1  Gleditsia triacanthos var. inermis  honeylocust  ...       34        13   \n",
       "\n",
       "    nta           nta_name  boro_ct     state   latitude  longitude  \\\n",
       "0  QN37  Kew Gardens Hills  4125700  New York  40.724339 -73.805180   \n",
       "1  QN28    Jackson Heights  4030902  New York  40.756626 -73.894167   \n",
       "\n",
       "          x_sp         y_sp  \n",
       "0  1038250.055  203232.9417  \n",
       "1  1013570.588  214953.6472  \n",
       "\n",
       "[2 rows x 41 columns]"
      ]
     },
     "execution_count": 3,
     "metadata": {},
     "output_type": "execute_result"
    }
   ],
   "source": [
    "df_trees = pd.read_csv(\"data_trees/new_york_tree_census_2015.csv\")\n",
    "df_trees.head(2)"
   ]
  },
  {
   "cell_type": "code",
   "execution_count": 4,
   "metadata": {},
   "outputs": [
    {
     "name": "stdout",
     "output_type": "stream",
     "text": [
      "Original:  (683788, 41)\n",
      "224.282592\n"
     ]
    }
   ],
   "source": [
    "print(\"Original: \", df_trees.shape)\n",
    "print(df_trees.memory_usage(index=True).sum()/1E6)"
   ]
  },
  {
   "cell_type": "code",
   "execution_count": 7,
   "metadata": {},
   "outputs": [
    {
     "name": "stdout",
     "output_type": "stream",
     "text": [
      "After cleaning: (426086, 4)\n",
      "13.63488\n"
     ]
    }
   ],
   "source": [
    "df_trees = df_trees[(df_trees.problems == 'None')]\n",
    "df_trees = df_trees[(df_trees.status == 'Alive')]\n",
    "df_trees = df_trees[df_trees.tree_dbh!=0]\n",
    "df_trees['diameter_cm'] = np.round(df_trees['tree_dbh']*2.54,2) #to SI units (meters)\n",
    "df_trees = df_trees[['spc_common', 'diameter_cm', 'latitude', 'longitude']].dropna(axis=0)\n",
    "df_trees = df_trees.reset_index(drop=True)\n",
    "print(\"After cleaning:\", df_trees.shape)\n",
    "print(df_trees.memory_usage(index=True).sum()/1E6)"
   ]
  },
  {
   "cell_type": "code",
   "execution_count": 8,
   "metadata": {},
   "outputs": [
    {
     "name": "stdout",
     "output_type": "stream",
     "text": [
      "After downsampling:  (213043, 4)\n",
      "8.52172\n"
     ]
    }
   ],
   "source": [
    "df_trees_size = df_trees.shape[0]\n",
    "df_trees_sample = df_trees.sample(round(df_trees_size/2), random_state=33)\n",
    "print(\"After downsampling: \", df_trees_sample.shape)\n",
    "print(df_trees_sample.memory_usage(index=True).sum()/1E6)"
   ]
  },
  {
   "cell_type": "code",
   "execution_count": 10,
   "metadata": {},
   "outputs": [
    {
     "data": {
      "text/html": [
       "<div>\n",
       "<style scoped>\n",
       "    .dataframe tbody tr th:only-of-type {\n",
       "        vertical-align: middle;\n",
       "    }\n",
       "\n",
       "    .dataframe tbody tr th {\n",
       "        vertical-align: top;\n",
       "    }\n",
       "\n",
       "    .dataframe thead th {\n",
       "        text-align: right;\n",
       "    }\n",
       "</style>\n",
       "<table border=\"1\" class=\"dataframe\">\n",
       "  <thead>\n",
       "    <tr style=\"text-align: right;\">\n",
       "      <th></th>\n",
       "      <th>spc_common</th>\n",
       "      <th>diameter_cm</th>\n",
       "      <th>latitude</th>\n",
       "      <th>longitude</th>\n",
       "    </tr>\n",
       "  </thead>\n",
       "  <tbody>\n",
       "    <tr>\n",
       "      <th>396538</th>\n",
       "      <td>green ash</td>\n",
       "      <td>38.10</td>\n",
       "      <td>40.774001</td>\n",
       "      <td>-73.748105</td>\n",
       "    </tr>\n",
       "    <tr>\n",
       "      <th>6700</th>\n",
       "      <td>littleleaf linden</td>\n",
       "      <td>5.08</td>\n",
       "      <td>40.572681</td>\n",
       "      <td>-74.119011</td>\n",
       "    </tr>\n",
       "  </tbody>\n",
       "</table>\n",
       "</div>"
      ],
      "text/plain": [
       "               spc_common  diameter_cm   latitude  longitude\n",
       "396538          green ash        38.10  40.774001 -73.748105\n",
       "6700    littleleaf linden         5.08  40.572681 -74.119011"
      ]
     },
     "execution_count": 10,
     "metadata": {},
     "output_type": "execute_result"
    }
   ],
   "source": [
    "df_trees = df_trees_sample\n",
    "df_trees.head(2)"
   ]
  },
  {
   "cell_type": "code",
   "execution_count": 11,
   "metadata": {},
   "outputs": [],
   "source": [
    "df_trees.to_csv(r'data_trees/trees_data_clean.csv', index=False)"
   ]
  },
  {
   "cell_type": "markdown",
   "metadata": {},
   "source": [
    "## Data cleaning: Rats dataset"
   ]
  },
  {
   "cell_type": "code",
   "execution_count": 17,
   "metadata": {},
   "outputs": [
    {
     "data": {
      "text/html": [
       "<div>\n",
       "<style scoped>\n",
       "    .dataframe tbody tr th:only-of-type {\n",
       "        vertical-align: middle;\n",
       "    }\n",
       "\n",
       "    .dataframe tbody tr th {\n",
       "        vertical-align: top;\n",
       "    }\n",
       "\n",
       "    .dataframe thead th {\n",
       "        text-align: right;\n",
       "    }\n",
       "</style>\n",
       "<table border=\"1\" class=\"dataframe\">\n",
       "  <thead>\n",
       "    <tr style=\"text-align: right;\">\n",
       "      <th></th>\n",
       "      <th>Unique Key</th>\n",
       "      <th>Created Date</th>\n",
       "      <th>Closed Date</th>\n",
       "      <th>Agency</th>\n",
       "      <th>Agency Name</th>\n",
       "      <th>Complaint Type</th>\n",
       "      <th>Descriptor</th>\n",
       "      <th>Location Type</th>\n",
       "      <th>Incident Zip</th>\n",
       "      <th>Incident Address</th>\n",
       "      <th>...</th>\n",
       "      <th>Bridge Highway Name</th>\n",
       "      <th>Bridge Highway Direction</th>\n",
       "      <th>Road Ramp</th>\n",
       "      <th>Bridge Highway Segment</th>\n",
       "      <th>Garage Lot Name</th>\n",
       "      <th>Ferry Direction</th>\n",
       "      <th>Ferry Terminal Name</th>\n",
       "      <th>Latitude</th>\n",
       "      <th>Longitude</th>\n",
       "      <th>Location</th>\n",
       "    </tr>\n",
       "  </thead>\n",
       "  <tbody>\n",
       "    <tr>\n",
       "      <th>0</th>\n",
       "      <td>31464015</td>\n",
       "      <td>09/04/2015 12:00:00 AM</td>\n",
       "      <td>09/18/2015 12:00:00 AM</td>\n",
       "      <td>DOHMH</td>\n",
       "      <td>Department of Health and Mental Hygiene</td>\n",
       "      <td>Rodent</td>\n",
       "      <td>Rat Sighting</td>\n",
       "      <td>3+ Family Mixed Use Building</td>\n",
       "      <td>10006.0</td>\n",
       "      <td>NaN</td>\n",
       "      <td>...</td>\n",
       "      <td>NaN</td>\n",
       "      <td>NaN</td>\n",
       "      <td>NaN</td>\n",
       "      <td>NaN</td>\n",
       "      <td>NaN</td>\n",
       "      <td>NaN</td>\n",
       "      <td>NaN</td>\n",
       "      <td>40.707772</td>\n",
       "      <td>-74.012963</td>\n",
       "      <td>(40.70777155363643, -74.01296309970473)</td>\n",
       "    </tr>\n",
       "    <tr>\n",
       "      <th>1</th>\n",
       "      <td>31464024</td>\n",
       "      <td>09/04/2015 12:00:00 AM</td>\n",
       "      <td>10/28/2015 12:00:00 AM</td>\n",
       "      <td>DOHMH</td>\n",
       "      <td>Department of Health and Mental Hygiene</td>\n",
       "      <td>Rodent</td>\n",
       "      <td>Rat Sighting</td>\n",
       "      <td>Commercial Building</td>\n",
       "      <td>10306.0</td>\n",
       "      <td>2270 HYLAN BOULEVARD</td>\n",
       "      <td>...</td>\n",
       "      <td>NaN</td>\n",
       "      <td>NaN</td>\n",
       "      <td>NaN</td>\n",
       "      <td>NaN</td>\n",
       "      <td>NaN</td>\n",
       "      <td>NaN</td>\n",
       "      <td>NaN</td>\n",
       "      <td>40.575209</td>\n",
       "      <td>-74.104547</td>\n",
       "      <td>(40.575209242947444, -74.1045465185469)</td>\n",
       "    </tr>\n",
       "  </tbody>\n",
       "</table>\n",
       "<p>2 rows × 52 columns</p>\n",
       "</div>"
      ],
      "text/plain": [
       "   Unique Key            Created Date             Closed Date Agency  \\\n",
       "0    31464015  09/04/2015 12:00:00 AM  09/18/2015 12:00:00 AM  DOHMH   \n",
       "1    31464024  09/04/2015 12:00:00 AM  10/28/2015 12:00:00 AM  DOHMH   \n",
       "\n",
       "                               Agency Name Complaint Type    Descriptor  \\\n",
       "0  Department of Health and Mental Hygiene         Rodent  Rat Sighting   \n",
       "1  Department of Health and Mental Hygiene         Rodent  Rat Sighting   \n",
       "\n",
       "                  Location Type  Incident Zip      Incident Address  ...  \\\n",
       "0  3+ Family Mixed Use Building       10006.0                   NaN  ...   \n",
       "1           Commercial Building       10306.0  2270 HYLAN BOULEVARD  ...   \n",
       "\n",
       "  Bridge Highway Name Bridge Highway Direction Road Ramp  \\\n",
       "0                 NaN                      NaN       NaN   \n",
       "1                 NaN                      NaN       NaN   \n",
       "\n",
       "  Bridge Highway Segment Garage Lot Name Ferry Direction Ferry Terminal Name  \\\n",
       "0                    NaN             NaN             NaN                 NaN   \n",
       "1                    NaN             NaN             NaN                 NaN   \n",
       "\n",
       "    Latitude  Longitude                                 Location  \n",
       "0  40.707772 -74.012963  (40.70777155363643, -74.01296309970473)  \n",
       "1  40.575209 -74.104547  (40.575209242947444, -74.1045465185469)  \n",
       "\n",
       "[2 rows x 52 columns]"
      ]
     },
     "execution_count": 17,
     "metadata": {},
     "output_type": "execute_result"
    }
   ],
   "source": [
    "df_rats = pd.read_csv(\"data_rats/Rat_Sightings.csv\")\n",
    "df_rats.head(2)"
   ]
  },
  {
   "cell_type": "code",
   "execution_count": 18,
   "metadata": {},
   "outputs": [
    {
     "name": "stdout",
     "output_type": "stream",
     "text": [
      "Original length:  101914\n"
     ]
    }
   ],
   "source": [
    "print(\"Original length: \" , df_rats.shape[0])"
   ]
  },
  {
   "cell_type": "code",
   "execution_count": 19,
   "metadata": {},
   "outputs": [
    {
     "name": "stdout",
     "output_type": "stream",
     "text": [
      "Final length:  14307\n"
     ]
    },
    {
     "data": {
      "text/html": [
       "<div>\n",
       "<style scoped>\n",
       "    .dataframe tbody tr th:only-of-type {\n",
       "        vertical-align: middle;\n",
       "    }\n",
       "\n",
       "    .dataframe tbody tr th {\n",
       "        vertical-align: top;\n",
       "    }\n",
       "\n",
       "    .dataframe thead th {\n",
       "        text-align: right;\n",
       "    }\n",
       "</style>\n",
       "<table border=\"1\" class=\"dataframe\">\n",
       "  <thead>\n",
       "    <tr style=\"text-align: right;\">\n",
       "      <th></th>\n",
       "      <th>latitude</th>\n",
       "      <th>longitude</th>\n",
       "      <th>Location Type</th>\n",
       "    </tr>\n",
       "  </thead>\n",
       "  <tbody>\n",
       "    <tr>\n",
       "      <th>0</th>\n",
       "      <td>40.68123</td>\n",
       "      <td>-73.97288</td>\n",
       "      <td>3+ Family Apt. Building</td>\n",
       "    </tr>\n",
       "    <tr>\n",
       "      <th>1</th>\n",
       "      <td>40.68123</td>\n",
       "      <td>-73.97288</td>\n",
       "      <td>3+ Family Apt. Building</td>\n",
       "    </tr>\n",
       "  </tbody>\n",
       "</table>\n",
       "</div>"
      ],
      "text/plain": [
       "   latitude  longitude            Location Type\n",
       "0  40.68123  -73.97288  3+ Family Apt. Building\n",
       "1  40.68123  -73.97288  3+ Family Apt. Building"
      ]
     },
     "execution_count": 19,
     "metadata": {},
     "output_type": "execute_result"
    }
   ],
   "source": [
    "df_rats['Created Date'] = pd.to_datetime(df_rats['Created Date'])\n",
    "df_rats = df_rats[df_rats['Created Date'].dt.year > 2016] #Only take the ones from 2016 onwards\n",
    "df_rats = df_rats[['Latitude', 'Longitude', 'Location Type']].dropna(axis=0)\n",
    "df_rats = df_rats.rename(columns={'Latitude': 'latitude', 'Longitude':'longitude'})\n",
    "df_rats = df_rats.reset_index(drop=True)\n",
    "print(\"Final length: \", df_rats.shape[0])\n",
    "df_rats.head(2)"
   ]
  },
  {
   "cell_type": "code",
   "execution_count": 20,
   "metadata": {},
   "outputs": [],
   "source": [
    "df_rats.to_csv(r'data_rats/rats_data_clean.csv', index=False)"
   ]
  },
  {
   "cell_type": "markdown",
   "metadata": {},
   "source": [
    "## Data cleaning: Tourist Places dataset"
   ]
  },
  {
   "cell_type": "code",
   "execution_count": 23,
   "metadata": {},
   "outputs": [],
   "source": [
    "from geopy.geocoders import Photon"
   ]
  },
  {
   "cell_type": "code",
   "execution_count": null,
   "metadata": {},
   "outputs": [],
   "source": [
    "g = Photon()\n",
    "NYC = g.geocode(\"New York City\")\n",
    "NYC_coor  = [NYC.latitude, NYC.longitude]"
   ]
  },
  {
   "cell_type": "code",
   "execution_count": 26,
   "metadata": {},
   "outputs": [
    {
     "data": {
      "text/html": [
       "<div>\n",
       "<style scoped>\n",
       "    .dataframe tbody tr th:only-of-type {\n",
       "        vertical-align: middle;\n",
       "    }\n",
       "\n",
       "    .dataframe tbody tr th {\n",
       "        vertical-align: top;\n",
       "    }\n",
       "\n",
       "    .dataframe thead th {\n",
       "        text-align: right;\n",
       "    }\n",
       "</style>\n",
       "<table border=\"1\" class=\"dataframe\">\n",
       "  <thead>\n",
       "    <tr style=\"text-align: right;\">\n",
       "      <th></th>\n",
       "      <th>Tourist_Spot</th>\n",
       "      <th>Address</th>\n",
       "      <th>Zipcode</th>\n",
       "    </tr>\n",
       "  </thead>\n",
       "  <tbody>\n",
       "    <tr>\n",
       "      <th>0</th>\n",
       "      <td>47th Street - The Diamond District</td>\n",
       "      <td>47th St. betw. Fifth &amp; Sixth Aves. Manhattan, ...</td>\n",
       "      <td>10036</td>\n",
       "    </tr>\n",
       "    <tr>\n",
       "      <th>1</th>\n",
       "      <td>9/11 Memorial &amp; Museum</td>\n",
       "      <td>World Trade Center (museum: 180 Greenwich St.)...</td>\n",
       "      <td>10007</td>\n",
       "    </tr>\n",
       "  </tbody>\n",
       "</table>\n",
       "</div>"
      ],
      "text/plain": [
       "                         Tourist_Spot  \\\n",
       "0  47th Street - The Diamond District   \n",
       "1              9/11 Memorial & Museum   \n",
       "\n",
       "                                             Address Zipcode  \n",
       "0  47th St. betw. Fifth & Sixth Aves. Manhattan, ...   10036  \n",
       "1  World Trade Center (museum: 180 Greenwich St.)...   10007  "
      ]
     },
     "execution_count": 26,
     "metadata": {},
     "output_type": "execute_result"
    }
   ],
   "source": [
    "df_places = pd.read_excel(\"data_places/New_York_Tourist_Locations.xlsx\")\n",
    "df_places.head(2)"
   ]
  },
  {
   "cell_type": "code",
   "execution_count": 27,
   "metadata": {},
   "outputs": [
    {
     "name": "stdout",
     "output_type": "stream",
     "text": [
      "Number of rows:  347\n"
     ]
    }
   ],
   "source": [
    "print(\"Number of rows: \", len(df_places.Address))"
   ]
  },
  {
   "cell_type": "code",
   "execution_count": 28,
   "metadata": {},
   "outputs": [
    {
     "data": {
      "text/html": [
       "<div>\n",
       "<style scoped>\n",
       "    .dataframe tbody tr th:only-of-type {\n",
       "        vertical-align: middle;\n",
       "    }\n",
       "\n",
       "    .dataframe tbody tr th {\n",
       "        vertical-align: top;\n",
       "    }\n",
       "\n",
       "    .dataframe thead th {\n",
       "        text-align: right;\n",
       "    }\n",
       "</style>\n",
       "<table border=\"1\" class=\"dataframe\">\n",
       "  <thead>\n",
       "    <tr style=\"text-align: right;\">\n",
       "      <th></th>\n",
       "      <th>Tourist_Spot</th>\n",
       "      <th>Address</th>\n",
       "      <th>Zipcode</th>\n",
       "    </tr>\n",
       "  </thead>\n",
       "  <tbody>\n",
       "    <tr>\n",
       "      <th>0</th>\n",
       "      <td>47th Street - The Diamond District</td>\n",
       "      <td>47th Street between Fifth &amp; Sixth Avenues Manhattan</td>\n",
       "      <td>10036</td>\n",
       "    </tr>\n",
       "    <tr>\n",
       "      <th>1</th>\n",
       "      <td>9/11 Memorial &amp; Museum</td>\n",
       "      <td>rld Trade Center (museum: 180 Greenwich St.) Manhattan</td>\n",
       "      <td>10007</td>\n",
       "    </tr>\n",
       "    <tr>\n",
       "      <th>2</th>\n",
       "      <td>Abyssinian Baptist Church</td>\n",
       "      <td>132 Odell Clark Place New York</td>\n",
       "      <td>10030</td>\n",
       "    </tr>\n",
       "  </tbody>\n",
       "</table>\n",
       "</div>"
      ],
      "text/plain": [
       "                         Tourist_Spot  \\\n",
       "0  47th Street - The Diamond District   \n",
       "1              9/11 Memorial & Museum   \n",
       "2           Abyssinian Baptist Church   \n",
       "\n",
       "                                                  Address Zipcode  \n",
       "0     47th Street between Fifth & Sixth Avenues Manhattan   10036  \n",
       "1  rld Trade Center (museum: 180 Greenwich St.) Manhattan   10007  \n",
       "2                          132 Odell Clark Place New York   10030  "
      ]
     },
     "execution_count": 28,
     "metadata": {},
     "output_type": "execute_result"
    }
   ],
   "source": [
    "# Data prep\n",
    "pd.set_option(\"max_colwidth\", 400)\n",
    "df_places_parse = df_places.copy(deep=True)\n",
    "\n",
    "df_places_parse.Address.replace({'betw. ':'between ','Rd. ':'Road ', 'Blvd. ':'Boulevard ', 'Ave. ':'Avenue ',\n",
    "                                                'Aves. ':'Avenues ','St. ':'Street ', ' at':'', 'W.':'', 'W':''}, regex=True, inplace=True)\n",
    "df_places_parse.Address = df_places_parse.Address.str.split(', NY').str[0]\n",
    "df_places_parse.Address = df_places_parse.Address.str.split('NY').str[0]\n",
    "df_places_parse.Address = df_places_parse.Address.str.split('mail').str[0]\n",
    "df_places_parse.Address.replace('',np.nan)\n",
    "df_places_parse.Address.dropna(inplace=True)\n",
    "df_places_parse.head(3)"
   ]
  },
  {
   "cell_type": "code",
   "execution_count": 29,
   "metadata": {},
   "outputs": [
    {
     "data": {
      "text/html": [
       "<div>\n",
       "<style scoped>\n",
       "    .dataframe tbody tr th:only-of-type {\n",
       "        vertical-align: middle;\n",
       "    }\n",
       "\n",
       "    .dataframe tbody tr th {\n",
       "        vertical-align: top;\n",
       "    }\n",
       "\n",
       "    .dataframe thead th {\n",
       "        text-align: right;\n",
       "    }\n",
       "</style>\n",
       "<table border=\"1\" class=\"dataframe\">\n",
       "  <thead>\n",
       "    <tr style=\"text-align: right;\">\n",
       "      <th></th>\n",
       "      <th>Tourist_Spot</th>\n",
       "      <th>Address</th>\n",
       "      <th>Zipcode</th>\n",
       "      <th>location</th>\n",
       "    </tr>\n",
       "  </thead>\n",
       "  <tbody>\n",
       "    <tr>\n",
       "      <th>0</th>\n",
       "      <td>47th Street - The Diamond District</td>\n",
       "      <td>47th Street between Fifth &amp; Sixth Avenues Manhattan</td>\n",
       "      <td>10036</td>\n",
       "      <td>0</td>\n",
       "    </tr>\n",
       "    <tr>\n",
       "      <th>1</th>\n",
       "      <td>9/11 Memorial &amp; Museum</td>\n",
       "      <td>rld Trade Center (museum: 180 Greenwich St.) Manhattan</td>\n",
       "      <td>10007</td>\n",
       "      <td>(National September 11 Memorial &amp; Museum, 180, Greenwich Street, 10007, Greenwich Street, New York, NY, United States, (40.711304049999995, -74.0132825413914))</td>\n",
       "    </tr>\n",
       "    <tr>\n",
       "      <th>2</th>\n",
       "      <td>Abyssinian Baptist Church</td>\n",
       "      <td>132 Odell Clark Place New York</td>\n",
       "      <td>10030</td>\n",
       "      <td>(Abyssinian Baptist Church, 132, Odell M Clarke Place, 10030, Odell M Clarke Place, New York, New York, United States, (40.8166357, -73.941477910502))</td>\n",
       "    </tr>\n",
       "  </tbody>\n",
       "</table>\n",
       "</div>"
      ],
      "text/plain": [
       "                         Tourist_Spot  \\\n",
       "0  47th Street - The Diamond District   \n",
       "1              9/11 Memorial & Museum   \n",
       "2           Abyssinian Baptist Church   \n",
       "\n",
       "                                                  Address Zipcode  \\\n",
       "0     47th Street between Fifth & Sixth Avenues Manhattan   10036   \n",
       "1  rld Trade Center (museum: 180 Greenwich St.) Manhattan   10007   \n",
       "2                          132 Odell Clark Place New York   10030   \n",
       "\n",
       "                                                                                                                                                          location  \n",
       "0                                                                                                                                                                0  \n",
       "1  (National September 11 Memorial & Museum, 180, Greenwich Street, 10007, Greenwich Street, New York, NY, United States, (40.711304049999995, -74.0132825413914))  \n",
       "2           (Abyssinian Baptist Church, 132, Odell M Clarke Place, 10030, Odell M Clarke Place, New York, New York, United States, (40.8166357, -73.941477910502))  "
      ]
     },
     "execution_count": 29,
     "metadata": {},
     "output_type": "execute_result"
    }
   ],
   "source": [
    "#Search location from Address column and write it in 'location' column. If not successful, write 0\n",
    "df_places_parse_addr = df_places_parse.copy(deep=True)\n",
    "def addres_to_loc(addr):\n",
    "    a = g.geocode(addr, location_bias=NYC_coor)\n",
    "    if a is not None:\n",
    "        return a\n",
    "    else:\n",
    "        return 0\n",
    "\n",
    "df_places_parse_addr['location'] = df_places_parse_addr.Address.apply(lambda row: addres_to_loc(row))\n",
    "df_places_parse_addr.head(3)"
   ]
  },
  {
   "cell_type": "code",
   "execution_count": 30,
   "metadata": {},
   "outputs": [
    {
     "name": "stdout",
     "output_type": "stream",
     "text": [
      "Locations left to process:  91\n"
     ]
    }
   ],
   "source": [
    "#Dataframe is split in two, for right and wrong results\n",
    "df_places_parse_addr_0 = df_places_parse_addr[df_places_parse_addr.location==0].copy(deep=True)\n",
    "df_places_parse_addr = df_places_parse_addr[df_places_parse_addr.location !=0]\n",
    "# Locations left to process\n",
    "print(\"Locations left to process: \", df_places_parse_addr_0.shape[0])"
   ]
  },
  {
   "cell_type": "code",
   "execution_count": 31,
   "metadata": {},
   "outputs": [
    {
     "data": {
      "text/html": [
       "<div>\n",
       "<style scoped>\n",
       "    .dataframe tbody tr th:only-of-type {\n",
       "        vertical-align: middle;\n",
       "    }\n",
       "\n",
       "    .dataframe tbody tr th {\n",
       "        vertical-align: top;\n",
       "    }\n",
       "\n",
       "    .dataframe thead th {\n",
       "        text-align: right;\n",
       "    }\n",
       "</style>\n",
       "<table border=\"1\" class=\"dataframe\">\n",
       "  <thead>\n",
       "    <tr style=\"text-align: right;\">\n",
       "      <th></th>\n",
       "      <th>Tourist_Spot</th>\n",
       "      <th>Address</th>\n",
       "      <th>Zipcode</th>\n",
       "      <th>location</th>\n",
       "    </tr>\n",
       "  </thead>\n",
       "  <tbody>\n",
       "    <tr>\n",
       "      <th>0</th>\n",
       "      <td>47th Street - The Diamond District</td>\n",
       "      <td>47th Street between Fifth &amp; Sixth Avenues Manhattan</td>\n",
       "      <td>10036</td>\n",
       "      <td>(Diamond District, West 47th Street, 10036, West 47th Street, New York, New York, United States, (40.757242, -73.9801423))</td>\n",
       "    </tr>\n",
       "    <tr>\n",
       "      <th>12</th>\n",
       "      <td>Bateaux New York</td>\n",
       "      <td>Pier 61, Chelsea Piers (23rd Street &amp; Hudson River) Manhattan</td>\n",
       "      <td>10011</td>\n",
       "      <td>(Bateaux Street, 13440, City of Rome, New York, United States, (43.2299737, -75.4931233))</td>\n",
       "    </tr>\n",
       "  </tbody>\n",
       "</table>\n",
       "</div>"
      ],
      "text/plain": [
       "                          Tourist_Spot  \\\n",
       "0   47th Street - The Diamond District   \n",
       "12                    Bateaux New York   \n",
       "\n",
       "                                                          Address Zipcode  \\\n",
       "0             47th Street between Fifth & Sixth Avenues Manhattan   10036   \n",
       "12  Pier 61, Chelsea Piers (23rd Street & Hudson River) Manhattan   10011   \n",
       "\n",
       "                                                                                                                      location  \n",
       "0   (Diamond District, West 47th Street, 10036, West 47th Street, New York, New York, United States, (40.757242, -73.9801423))  \n",
       "12                                   (Bateaux Street, 13440, City of Rome, New York, United States, (43.2299737, -75.4931233))  "
      ]
     },
     "execution_count": 31,
     "metadata": {},
     "output_type": "execute_result"
    }
   ],
   "source": [
    "#This time, search location from Tourist_Spot column (in wrong results dataframe) and write it \n",
    "#in column location. If not successful, write 0\n",
    "df_places_parse_spot = df_places_parse_addr_0.copy(deep=True)\n",
    "def get_loc_spot(addr):\n",
    "    a = g.geocode(addr, location_bias=NYC_coor)\n",
    "    if a is not None:\n",
    "        return a\n",
    "    else:\n",
    "        return 0\n",
    "\n",
    "df_places_parse_spot['location'] = df_places_parse_spot.Tourist_Spot.apply(lambda row: get_loc_spot(row))\n",
    "df_places_parse_spot.head(2)"
   ]
  },
  {
   "cell_type": "code",
   "execution_count": 32,
   "metadata": {},
   "outputs": [
    {
     "name": "stdout",
     "output_type": "stream",
     "text": [
      "Locations left to process:  10\n"
     ]
    }
   ],
   "source": [
    "# Dataframe is split in two, for right and wrong results\n",
    "df_places_parse_spot_0 = df_places_parse_spot[df_places_parse_spot.location==0].copy(deep=True)\n",
    "df_places_parse_spot =  df_places_parse_spot[df_places_parse_spot.location !=0]\n",
    "# Locations left to process\n",
    "print(\"Locations left to process: \", df_places_parse_spot_0.shape[0])"
   ]
  },
  {
   "cell_type": "code",
   "execution_count": 33,
   "metadata": {},
   "outputs": [
    {
     "data": {
      "text/html": [
       "<div>\n",
       "<style scoped>\n",
       "    .dataframe tbody tr th:only-of-type {\n",
       "        vertical-align: middle;\n",
       "    }\n",
       "\n",
       "    .dataframe tbody tr th {\n",
       "        vertical-align: top;\n",
       "    }\n",
       "\n",
       "    .dataframe thead th {\n",
       "        text-align: right;\n",
       "    }\n",
       "</style>\n",
       "<table border=\"1\" class=\"dataframe\">\n",
       "  <thead>\n",
       "    <tr style=\"text-align: right;\">\n",
       "      <th></th>\n",
       "      <th>Tourist_Spot</th>\n",
       "      <th>Address</th>\n",
       "      <th>Zipcode</th>\n",
       "      <th>location</th>\n",
       "    </tr>\n",
       "  </thead>\n",
       "  <tbody>\n",
       "    <tr>\n",
       "      <th>26</th>\n",
       "      <td>Central Park Conservancy—Official Central Park Tours</td>\n",
       "      <td>14 E. 60th St., 8th fl. New York</td>\n",
       "      <td>10022</td>\n",
       "      <td>0</td>\n",
       "    </tr>\n",
       "    <tr>\n",
       "      <th>27</th>\n",
       "      <td>Charles A. Dana Discovery Center/Harlem Meer</td>\n",
       "      <td>106th to 110th Street on the east side of the park Manhattan</td>\n",
       "      <td>10029</td>\n",
       "      <td>0</td>\n",
       "    </tr>\n",
       "  </tbody>\n",
       "</table>\n",
       "</div>"
      ],
      "text/plain": [
       "                                            Tourist_Spot  \\\n",
       "26  Central Park Conservancy—Official Central Park Tours   \n",
       "27          Charles A. Dana Discovery Center/Harlem Meer   \n",
       "\n",
       "                                                         Address Zipcode  \\\n",
       "26                              14 E. 60th St., 8th fl. New York   10022   \n",
       "27  106th to 110th Street on the east side of the park Manhattan   10029   \n",
       "\n",
       "   location  \n",
       "26        0  \n",
       "27        0  "
      ]
     },
     "execution_count": 33,
     "metadata": {},
     "output_type": "execute_result"
    }
   ],
   "source": [
    "df_places_manually = df_places_parse_spot_0.copy(deep=True)\n",
    "indexNames = df_places_manually[ (df_places_manually['Address'] == '')].index\n",
    "df_places_manually.drop(indexNames, inplace=True)\n",
    "df_places_manually.head(2)"
   ]
  },
  {
   "cell_type": "code",
   "execution_count": 35,
   "metadata": {},
   "outputs": [
    {
     "data": {
      "text/html": [
       "<div>\n",
       "<style scoped>\n",
       "    .dataframe tbody tr th:only-of-type {\n",
       "        vertical-align: middle;\n",
       "    }\n",
       "\n",
       "    .dataframe tbody tr th {\n",
       "        vertical-align: top;\n",
       "    }\n",
       "\n",
       "    .dataframe thead th {\n",
       "        text-align: right;\n",
       "    }\n",
       "</style>\n",
       "<table border=\"1\" class=\"dataframe\">\n",
       "  <thead>\n",
       "    <tr style=\"text-align: right;\">\n",
       "      <th></th>\n",
       "      <th>Tourist_Spot</th>\n",
       "      <th>Address</th>\n",
       "      <th>Zipcode</th>\n",
       "      <th>location</th>\n",
       "    </tr>\n",
       "  </thead>\n",
       "  <tbody>\n",
       "    <tr>\n",
       "      <th>26</th>\n",
       "      <td>Central Park Conservancy—Official Central Park Tours</td>\n",
       "      <td>14 E. 60th St., 8th fl. New York</td>\n",
       "      <td>10022</td>\n",
       "      <td>(Central Park, United States, (40.7827725, -73.9653627406542))</td>\n",
       "    </tr>\n",
       "    <tr>\n",
       "      <th>27</th>\n",
       "      <td>Charles A. Dana Discovery Center/Harlem Meer</td>\n",
       "      <td>106th to 110th Street on the east side of the park Manhattan</td>\n",
       "      <td>10029</td>\n",
       "      <td>(Charles Ives Center for the Performing Arts, University Boulevard, 96810, University Boulevard, Danbury, CT, United States, (41.3948169, -73.4940125))</td>\n",
       "    </tr>\n",
       "  </tbody>\n",
       "</table>\n",
       "</div>"
      ],
      "text/plain": [
       "                                            Tourist_Spot  \\\n",
       "26  Central Park Conservancy—Official Central Park Tours   \n",
       "27          Charles A. Dana Discovery Center/Harlem Meer   \n",
       "\n",
       "                                                         Address Zipcode  \\\n",
       "26                              14 E. 60th St., 8th fl. New York   10022   \n",
       "27  106th to 110th Street on the east side of the park Manhattan   10029   \n",
       "\n",
       "                                                                                                                                                   location  \n",
       "26                                                                                           (Central Park, United States, (40.7827725, -73.9653627406542))  \n",
       "27  (Charles Ives Center for the Performing Arts, University Boulevard, 96810, University Boulevard, Danbury, CT, United States, (41.3948169, -73.4940125))  "
      ]
     },
     "execution_count": 35,
     "metadata": {},
     "output_type": "execute_result"
    }
   ],
   "source": [
    "df_places_manually.iloc[0].location = g.geocode('Central Park Conservancy Park', location_bias=NYC_coor)\n",
    "df_places_manually.iloc[1].location = g.geocode('Charles A. Dana Discovery Center', location_bias=NYC_coor)\n",
    "df_places_manually.iloc[2].location = g.geocode('Sea, Air and Space Museum', location_bias=NYC_coor)\n",
    "df_places_manually.iloc[3].location = g.geocode('Information Center Pier 15', location_bias=NYC_coor)\n",
    "df_places_manually.iloc[4].location = g.geocode('Official Information Center Times Square', location_bias=NYC_coor)\n",
    "df_places_manually.iloc[5].location = g.geocode('Denos Wonder Wheel Amusement Park', location_bias=NYC_coor)\n",
    "df_places_manually.iloc[6].location = g.geocode('1 FDR Four Freedoms Park', location_bias=NYC_coor)\n",
    "df_places_manually.iloc[7].location = g.geocode('UNICEF House ', location_bias=NYC_coor)\n",
    "df_places_manually.iloc[8].location = g.geocode('Visitor Center, 31 Chambers Street', location_bias=NYC_coor)\n",
    "\n",
    "df_places_manually.head(2)"
   ]
  },
  {
   "cell_type": "code",
   "execution_count": 36,
   "metadata": {},
   "outputs": [
    {
     "data": {
      "text/html": [
       "<div>\n",
       "<style scoped>\n",
       "    .dataframe tbody tr th:only-of-type {\n",
       "        vertical-align: middle;\n",
       "    }\n",
       "\n",
       "    .dataframe tbody tr th {\n",
       "        vertical-align: top;\n",
       "    }\n",
       "\n",
       "    .dataframe thead th {\n",
       "        text-align: right;\n",
       "    }\n",
       "</style>\n",
       "<table border=\"1\" class=\"dataframe\">\n",
       "  <thead>\n",
       "    <tr style=\"text-align: right;\">\n",
       "      <th></th>\n",
       "      <th>Tourist_Spot</th>\n",
       "      <th>Address</th>\n",
       "      <th>Zipcode</th>\n",
       "      <th>location</th>\n",
       "      <th>latitude</th>\n",
       "      <th>longitude</th>\n",
       "    </tr>\n",
       "  </thead>\n",
       "  <tbody>\n",
       "    <tr>\n",
       "      <th>0</th>\n",
       "      <td>9/11 Memorial &amp; Museum</td>\n",
       "      <td>rld Trade Center (museum: 180 Greenwich St.) Manhattan</td>\n",
       "      <td>10007</td>\n",
       "      <td>(National September 11 Memorial &amp; Museum, 180, Greenwich Street, 10007, Greenwich Street, New York, NY, United States, (40.711304049999995, -74.0132825413914))</td>\n",
       "      <td>40.711304</td>\n",
       "      <td>-74.013283</td>\n",
       "    </tr>\n",
       "    <tr>\n",
       "      <th>1</th>\n",
       "      <td>Abyssinian Baptist Church</td>\n",
       "      <td>132 Odell Clark Place New York</td>\n",
       "      <td>10030</td>\n",
       "      <td>(Abyssinian Baptist Church, 132, Odell M Clarke Place, 10030, Odell M Clarke Place, New York, New York, United States, (40.8166357, -73.941477910502))</td>\n",
       "      <td>40.816636</td>\n",
       "      <td>-73.941478</td>\n",
       "    </tr>\n",
       "  </tbody>\n",
       "</table>\n",
       "</div>"
      ],
      "text/plain": [
       "                Tourist_Spot  \\\n",
       "0     9/11 Memorial & Museum   \n",
       "1  Abyssinian Baptist Church   \n",
       "\n",
       "                                                  Address Zipcode  \\\n",
       "0  rld Trade Center (museum: 180 Greenwich St.) Manhattan   10007   \n",
       "1                          132 Odell Clark Place New York   10030   \n",
       "\n",
       "                                                                                                                                                          location  \\\n",
       "0  (National September 11 Memorial & Museum, 180, Greenwich Street, 10007, Greenwich Street, New York, NY, United States, (40.711304049999995, -74.0132825413914))   \n",
       "1           (Abyssinian Baptist Church, 132, Odell M Clarke Place, 10030, Odell M Clarke Place, New York, New York, United States, (40.8166357, -73.941477910502))   \n",
       "\n",
       "    latitude  longitude  \n",
       "0  40.711304 -74.013283  \n",
       "1  40.816636 -73.941478  "
      ]
     },
     "execution_count": 36,
     "metadata": {},
     "output_type": "execute_result"
    }
   ],
   "source": [
    "df_places_parsed = df_places_parse_addr.append([df_places_parse_spot, df_places_manually])\n",
    "df_places_parsed.reset_index(inplace=True, drop=True)\n",
    "# Create latitude and longitude columns from location column\n",
    "df_places_parsed['latitude'] = df_places_parsed.location.apply(lambda x: x.latitude)\n",
    "df_places_parsed['longitude'] = df_places_parsed.location.apply(lambda x: x.longitude)\n",
    "df_places_parsed.head(2)"
   ]
  },
  {
   "cell_type": "code",
   "execution_count": 37,
   "metadata": {},
   "outputs": [
    {
     "name": "stdout",
     "output_type": "stream",
     "text": [
      "346\n",
      "314\n",
      "Discarded:  32\n"
     ]
    }
   ],
   "source": [
    "print(df_places_parsed.shape[0])\n",
    "df_places_parsed_filtered = df_places_parsed[\n",
    "                                             (df_places_parsed.latitude>40.2) &\n",
    "                                             (df_places_parsed.longitude>-74.15) &\n",
    "                                             (df_places_parsed.latitude<44) &\n",
    "                                             (df_places_parsed.longitude<-73.7) ].reset_index(drop=True)\n",
    "\n",
    "print(df_places_parsed_filtered.shape[0])\n",
    "df_discard = df_places_parsed[~(\n",
    "                                             (df_places_parsed.latitude>40.2) &\n",
    "                                             (df_places_parsed.longitude>-74.15) &\n",
    "                                             (df_places_parsed.latitude<44) &\n",
    "                                             (df_places_parsed.longitude<-73.7)) ].reset_index(drop=True)\n",
    "print(\"Discarded: \", df_discard.shape[0])"
   ]
  },
  {
   "cell_type": "code",
   "execution_count": 38,
   "metadata": {},
   "outputs": [],
   "source": [
    "df_places_parsed_filtered.to_csv(r'data_places/places_data_clean.csv', index=False)"
   ]
  },
  {
   "cell_type": "code",
   "execution_count": null,
   "metadata": {},
   "outputs": [],
   "source": []
  },
  {
   "cell_type": "code",
   "execution_count": null,
   "metadata": {},
   "outputs": [],
   "source": []
  }
 ],
 "metadata": {
  "kernelspec": {
   "display_name": "Python 3",
   "language": "python",
   "name": "python3"
  },
  "language_info": {
   "codemirror_mode": {
    "name": "ipython",
    "version": 3
   },
   "file_extension": ".py",
   "mimetype": "text/x-python",
   "name": "python",
   "nbconvert_exporter": "python",
   "pygments_lexer": "ipython3",
   "version": "3.8.5"
  }
 },
 "nbformat": 4,
 "nbformat_minor": 4
}
