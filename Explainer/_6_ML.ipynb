{
 "cells": [
  {
   "cell_type": "markdown",
   "metadata": {},
   "source": [
    "# Imports"
   ]
  },
  {
   "cell_type": "code",
   "execution_count": 3,
   "metadata": {},
   "outputs": [],
   "source": [
    "# Data tools\n",
    "import pandas as pd\n",
    "import numpy as np\n",
    "# Graph Tools\n",
    "import matplotlib.pyplot as plt\n",
    "import seaborn as sns\n",
    "# File tools\n",
    "from joblib import dump, load\n",
    "# Sstatistics and machine learning tools\n",
    "from sklearn.preprocessing import StandardScaler\n",
    "from sklearn.model_selection import train_test_split\n",
    "from sklearn.model_selection import GridSearchCV\n",
    "\n",
    "from sklearn.linear_model import LinearRegression\n",
    "from sklearn.tree import DecisionTreeRegressor\n",
    "from sklearn.ensemble import RandomForestRegressor\n",
    "\n",
    "from sklearn.metrics import mean_absolute_error"
   ]
  },
  {
   "cell_type": "markdown",
   "metadata": {},
   "source": [
    "## Importing data and preparing it for ML\n"
   ]
  },
  {
   "cell_type": "code",
   "execution_count": 4,
   "metadata": {},
   "outputs": [
    {
     "data": {
      "text/html": [
       "<div>\n",
       "<style scoped>\n",
       "    .dataframe tbody tr th:only-of-type {\n",
       "        vertical-align: middle;\n",
       "    }\n",
       "\n",
       "    .dataframe tbody tr th {\n",
       "        vertical-align: top;\n",
       "    }\n",
       "\n",
       "    .dataframe thead th {\n",
       "        text-align: right;\n",
       "    }\n",
       "</style>\n",
       "<table border=\"1\" class=\"dataframe\">\n",
       "  <thead>\n",
       "    <tr style=\"text-align: right;\">\n",
       "      <th></th>\n",
       "      <th>id</th>\n",
       "      <th>name</th>\n",
       "      <th>host_id</th>\n",
       "      <th>host_name</th>\n",
       "      <th>neighbourhood_group</th>\n",
       "      <th>neighbourhood</th>\n",
       "      <th>latitude</th>\n",
       "      <th>longitude</th>\n",
       "      <th>room_type</th>\n",
       "      <th>price</th>\n",
       "      <th>...</th>\n",
       "      <th>neighbourhood_other</th>\n",
       "      <th>neighbourhood_other_label</th>\n",
       "      <th>neighbourhood_group_Bronx</th>\n",
       "      <th>neighbourhood_group_Brooklyn</th>\n",
       "      <th>neighbourhood_group_Manhattan</th>\n",
       "      <th>neighbourhood_group_Queens</th>\n",
       "      <th>neighbourhood_group_Staten Island</th>\n",
       "      <th>room_type_Entire home/apt</th>\n",
       "      <th>room_type_Private room</th>\n",
       "      <th>room_type_Shared room</th>\n",
       "    </tr>\n",
       "  </thead>\n",
       "  <tbody>\n",
       "    <tr>\n",
       "      <th>0</th>\n",
       "      <td>2539</td>\n",
       "      <td>Clean &amp; quiet apt home by the park</td>\n",
       "      <td>2787</td>\n",
       "      <td>John</td>\n",
       "      <td>Brooklyn</td>\n",
       "      <td>Kensington</td>\n",
       "      <td>40.64749</td>\n",
       "      <td>-73.97237</td>\n",
       "      <td>Private room</td>\n",
       "      <td>149</td>\n",
       "      <td>...</td>\n",
       "      <td>Other</td>\n",
       "      <td>29</td>\n",
       "      <td>0.0</td>\n",
       "      <td>1.0</td>\n",
       "      <td>0.0</td>\n",
       "      <td>0.0</td>\n",
       "      <td>0.0</td>\n",
       "      <td>0.0</td>\n",
       "      <td>1.0</td>\n",
       "      <td>0.0</td>\n",
       "    </tr>\n",
       "    <tr>\n",
       "      <th>1</th>\n",
       "      <td>2595</td>\n",
       "      <td>Skylit Midtown Castle</td>\n",
       "      <td>2845</td>\n",
       "      <td>Jennifer</td>\n",
       "      <td>Manhattan</td>\n",
       "      <td>Midtown</td>\n",
       "      <td>40.75362</td>\n",
       "      <td>-73.98377</td>\n",
       "      <td>Entire home/apt</td>\n",
       "      <td>225</td>\n",
       "      <td>...</td>\n",
       "      <td>Midtown</td>\n",
       "      <td>25</td>\n",
       "      <td>0.0</td>\n",
       "      <td>0.0</td>\n",
       "      <td>1.0</td>\n",
       "      <td>0.0</td>\n",
       "      <td>0.0</td>\n",
       "      <td>1.0</td>\n",
       "      <td>0.0</td>\n",
       "      <td>0.0</td>\n",
       "    </tr>\n",
       "  </tbody>\n",
       "</table>\n",
       "<p>2 rows × 26 columns</p>\n",
       "</div>"
      ],
      "text/plain": [
       "     id                                name  host_id host_name  \\\n",
       "0  2539  Clean & quiet apt home by the park     2787      John   \n",
       "1  2595               Skylit Midtown Castle     2845  Jennifer   \n",
       "\n",
       "  neighbourhood_group neighbourhood  latitude  longitude        room_type  \\\n",
       "0            Brooklyn    Kensington  40.64749  -73.97237     Private room   \n",
       "1           Manhattan       Midtown  40.75362  -73.98377  Entire home/apt   \n",
       "\n",
       "   price  ...  neighbourhood_other  neighbourhood_other_label  \\\n",
       "0    149  ...                Other                         29   \n",
       "1    225  ...              Midtown                         25   \n",
       "\n",
       "  neighbourhood_group_Bronx  neighbourhood_group_Brooklyn  \\\n",
       "0                       0.0                           1.0   \n",
       "1                       0.0                           0.0   \n",
       "\n",
       "   neighbourhood_group_Manhattan  neighbourhood_group_Queens  \\\n",
       "0                            0.0                         0.0   \n",
       "1                            1.0                         0.0   \n",
       "\n",
       "  neighbourhood_group_Staten Island  room_type_Entire home/apt  \\\n",
       "0                               0.0                        0.0   \n",
       "1                               0.0                        1.0   \n",
       "\n",
       "   room_type_Private room  room_type_Shared room  \n",
       "0                     1.0                    0.0  \n",
       "1                     0.0                    0.0  \n",
       "\n",
       "[2 rows x 26 columns]"
      ]
     },
     "execution_count": 4,
     "metadata": {},
     "output_type": "execute_result"
    }
   ],
   "source": [
    "# Import cleaned data\n",
    "df = pd.read_csv(\"data_air/AB_data_clean.csv\")\n",
    "df.head(2)"
   ]
  },
  {
   "cell_type": "code",
   "execution_count": 5,
   "metadata": {},
   "outputs": [
    {
     "data": {
      "text/plain": [
       "id                                      0\n",
       "name                                   15\n",
       "host_id                                 0\n",
       "host_name                              21\n",
       "neighbourhood_group                     0\n",
       "neighbourhood                           0\n",
       "latitude                                0\n",
       "longitude                               0\n",
       "room_type                               0\n",
       "price                                   0\n",
       "minimum_nights                          0\n",
       "number_of_reviews                       0\n",
       "last_review                          9913\n",
       "reviews_per_month                    9913\n",
       "calculated_host_listings_count          0\n",
       "availability_365                        0\n",
       "neighbourhood_other                     0\n",
       "neighbourhood_other_label               0\n",
       "neighbourhood_group_Bronx               0\n",
       "neighbourhood_group_Brooklyn            0\n",
       "neighbourhood_group_Manhattan           0\n",
       "neighbourhood_group_Queens              0\n",
       "neighbourhood_group_Staten Island       0\n",
       "room_type_Entire home/apt               0\n",
       "room_type_Private room                  0\n",
       "room_type_Shared room                   0\n",
       "dtype: int64"
      ]
     },
     "execution_count": 5,
     "metadata": {},
     "output_type": "execute_result"
    }
   ],
   "source": [
    "# Manage Na values in dataframe\n",
    "df.isna().sum()"
   ]
  },
  {
   "cell_type": "code",
   "execution_count": 6,
   "metadata": {},
   "outputs": [
    {
     "name": "stdout",
     "output_type": "stream",
     "text": [
      "number_of_reviews\n",
      "0    9913\n",
      "dtype: int64\n",
      "number_of_reviews\n",
      "0    9913\n",
      "dtype: int64\n"
     ]
    }
   ],
   "source": [
    "print(df[df['last_review'].isna()].groupby('number_of_reviews').size())\n",
    "print(df[df['reviews_per_month'].isna()].groupby('number_of_reviews').size())"
   ]
  },
  {
   "cell_type": "code",
   "execution_count": 7,
   "metadata": {},
   "outputs": [],
   "source": [
    "df['last_review'] = df['last_review'].fillna(0)#As SciKit does not handle colums with Nan values we replace them with 0\n",
    "df['reviews_per_month'] = df['reviews_per_month'].fillna(0)"
   ]
  },
  {
   "cell_type": "code",
   "execution_count": 8,
   "metadata": {},
   "outputs": [],
   "source": [
    "# df[df.isna().any(axis=1)].head()\n",
    "# df=df.dropna()#drop remaining 37 Nan values, 16 from name and 21 from host name "
   ]
  },
  {
   "cell_type": "code",
   "execution_count": 9,
   "metadata": {},
   "outputs": [
    {
     "data": {
      "image/png": "[encoded data removed]",
      "text/plain": [
       "<Figure size 432x288 with 2 Axes>"
      ]
     },
     "metadata": {
      "needs_background": "light"
     },
     "output_type": "display_data"
    }
   ],
   "source": [
    "# Correlation matrix giving an overview of how our colums relate to one another\n",
    "sns.heatmap(df.corr())\n",
    "plt.show()"
   ]
  },
  {
   "cell_type": "markdown",
   "metadata": {},
   "source": [
    "### Making datasets for the machine learning algorithm\n",
    "Here we choose what features we will be using to predict the price of a condo. \n",
    "Features are dropped either because we have recoded the varriable such as room_type and thus uses it diffrently. or because it is irrelevant to price, such as the id of the listing or the name of the Airbnb host."
   ]
  },
  {
   "cell_type": "code",
   "execution_count": 10,
   "metadata": {},
   "outputs": [
    {
     "data": {
      "text/plain": [
       "Index(['id', 'name', 'host_id', 'host_name', 'neighbourhood_group',\n",
       "       'neighbourhood', 'latitude', 'longitude', 'room_type', 'price',\n",
       "       'minimum_nights', 'number_of_reviews', 'last_review',\n",
       "       'reviews_per_month', 'calculated_host_listings_count',\n",
       "       'availability_365', 'neighbourhood_other', 'neighbourhood_other_label',\n",
       "       'neighbourhood_group_Bronx', 'neighbourhood_group_Brooklyn',\n",
       "       'neighbourhood_group_Manhattan', 'neighbourhood_group_Queens',\n",
       "       'neighbourhood_group_Staten Island', 'room_type_Entire home/apt',\n",
       "       'room_type_Private room', 'room_type_Shared room'],\n",
       "      dtype='object')"
      ]
     },
     "execution_count": 10,
     "metadata": {},
     "output_type": "execute_result"
    }
   ],
   "source": [
    "# Display the possible features of the dataframe\n",
    "df.columns\n"
   ]
  },
  {
   "cell_type": "code",
   "execution_count": 11,
   "metadata": {},
   "outputs": [
    {
     "name": "stdout",
     "output_type": "stream",
     "text": [
      "Index(['latitude', 'longitude', 'minimum_nights', 'number_of_reviews',\n",
      "       'reviews_per_month', 'calculated_host_listings_count',\n",
      "       'availability_365', 'neighbourhood_other_label',\n",
      "       'neighbourhood_group_Bronx', 'neighbourhood_group_Brooklyn',\n",
      "       'neighbourhood_group_Manhattan', 'neighbourhood_group_Queens',\n",
      "       'neighbourhood_group_Staten Island', 'room_type_Entire home/apt',\n",
      "       'room_type_Private room', 'room_type_Shared room'],\n",
      "      dtype='object')\n"
     ]
    }
   ],
   "source": [
    "# Choose which features not to include in the calculation estimating price.\n",
    "features = df.drop(['price',\n",
    "                    'id', \n",
    "                    'name', \n",
    "                    'host_id', \n",
    "                    'host_name', \n",
    "                    'neighbourhood_group',\n",
    "                    'neighbourhood', \n",
    "                    'room_type',\n",
    "                    'last_review',\n",
    "                    'neighbourhood_other'], axis=1)\n",
    "target = df.price\n",
    "# Print the chosen features\n",
    "print(features.columns)"
   ]
  },
  {
   "cell_type": "markdown",
   "metadata": {},
   "source": [
    "## Baseline model linear regression\n",
    "Here we use linear regression to draw the best possible line throug the dataset, giving us a baseline predection to compare further analysis with."
   ]
  },
  {
   "cell_type": "code",
   "execution_count": 12,
   "metadata": {},
   "outputs": [
    {
     "name": "stdout",
     "output_type": "stream",
     "text": [
      "Training Features Shape: (38970, 16) \tTesting Features Shape:\t (9743, 16)\n",
      "Training Labels Shape:\t (38970,) \tTesting Labels Shape:\t (9743,)\n"
     ]
    }
   ],
   "source": [
    "scaler = StandardScaler()\n",
    "base_features = scaler.fit_transform(features)\n",
    "\n",
    "# To do regression we first need to make a sample of our data to make the regression analysis on, and the a seperate chunk of data to test that analysis on.\n",
    "test_fraction = 0.2 # We chose to keep 20% of the dataset seperate to test the regression we make\n",
    "\n",
    "\n",
    "# This is a stratified split:\n",
    "X_train, X_test, y_train, y_test = train_test_split(base_features, target, test_size = test_fraction, random_state=3546)\n",
    "# Display how many samples are chosen for training and test, respectively\n",
    "print('Training Features Shape:', X_train.shape,'\\tTesting Features Shape:\\t', X_test.shape)\n",
    "print('Training Labels Shape:\\t', y_train.shape, '\\tTesting Labels Shape:\\t', y_test.shape)"
   ]
  },
  {
   "cell_type": "code",
   "execution_count": 13,
   "metadata": {},
   "outputs": [
    {
     "name": "stdout",
     "output_type": "stream",
     "text": [
      "Mean absolute error (on test data): 79.4866\n"
     ]
    }
   ],
   "source": [
    "# Make a prediction of price via linear regression\n",
    "reg_lin = LinearRegression().fit(X_train, y_train)\n",
    "y_pred = reg_lin.predict(X_test)\n",
    "print(f'Mean absolute error (on test data): {round(mean_absolute_error(y_test, y_pred),4)}')"
   ]
  },
  {
   "cell_type": "code",
   "execution_count": 14,
   "metadata": {},
   "outputs": [
    {
     "data": {
      "image/png": "[encoded data removed]",
      "text/plain": [
       "<Figure size 432x288 with 1 Axes>"
      ]
     },
     "metadata": {
      "needs_background": "light"
     },
     "output_type": "display_data"
    }
   ],
   "source": [
    "# Show the features most important in making the prediction above \n",
    "pd.Series(np.abs(reg_lin.coef_), index=features.columns).nlargest(15).plot(kind='barh')\n",
    "plt.show()"
   ]
  },
  {
   "cell_type": "markdown",
   "metadata": {},
   "source": [
    "## Linear regression conclusion\n",
    "By finding the mean error of a linear regression we now have a baseline model of approximately 79 to beat, the smaller this number the better.\n",
    "This number means that even a almost perfect line(the regression line) corrrelating price with our chosen features, will have a mean error or distance to the actually price of around 79 dollars."
   ]
  },
  {
   "cell_type": "markdown",
   "metadata": {},
   "source": [
    "## Decision Tree\n",
    "In this section we try to improve upon the simple linear regression by selecting relevant data to make the regression via a decision tree."
   ]
  },
  {
   "cell_type": "code",
   "execution_count": 45,
   "metadata": {},
   "outputs": [
    {
     "name": "stdout",
     "output_type": "stream",
     "text": [
      "Training Features Shape: (38970, 16) \tTesting Features Shape:\t (9743, 16)\n",
      "Training Labels Shape:\t (38970,) \tTesting Labels Shape:\t (9743,)\n"
     ]
    }
   ],
   "source": [
    "# Just like with the linear regression above we set aside 20% of the dataset for testing.\n",
    "test_fraction = 0.2\n",
    "\n",
    "# This is a stratified split:\n",
    "X_train, X_test, y_train, y_test = train_test_split(features, target, test_size = test_fraction, random_state=3546)\n",
    "# Display how many samples are chosen for training and test, respectively\n",
    "print('Training Features Shape:', X_train.shape,'\\tTesting Features Shape:\\t', X_test.shape)\n",
    "print('Training Labels Shape:\\t', y_train.shape, '\\tTesting Labels Shape:\\t', y_test.shape)"
   ]
  },
  {
   "cell_type": "code",
   "execution_count": 46,
   "metadata": {},
   "outputs": [
    {
     "data": {
      "text/plain": [
       "GridSearchCV(estimator=DecisionTreeRegressor(random_state=3546),\n",
       "             param_grid={'criterion': ('mse', 'poisson'),\n",
       "                         'max_depth': [1, 5, 10, 15, 20]},\n",
       "             scoring='neg_mean_absolute_error')"
      ]
     },
     "execution_count": 46,
     "metadata": {},
     "output_type": "execute_result"
    }
   ],
   "source": [
    "parameters = {'criterion':('mse', 'poisson'), 'max_depth':[1, 5, 10, 15, 20]} #'friedman_mse' gives same results as mse, mae is 60 times slower then mse and poisson\n",
    "\n",
    "reg_tree = DecisionTreeRegressor(random_state=3546) # random state is set so as to guarantee the same outcome every time\n",
    "reg_seach = GridSearchCV(reg_tree, parameters, scoring='neg_mean_absolute_error', refit=True, )#verbose=4)\n",
    "\n",
    "reg_seach.fit(X_train, y_train)"
   ]
  },
  {
   "cell_type": "code",
   "execution_count": 47,
   "metadata": {},
   "outputs": [
    {
     "data": {
      "text/html": [
       "<div>\n",
       "<style scoped>\n",
       "    .dataframe tbody tr th:only-of-type {\n",
       "        vertical-align: middle;\n",
       "    }\n",
       "\n",
       "    .dataframe tbody tr th {\n",
       "        vertical-align: top;\n",
       "    }\n",
       "\n",
       "    .dataframe thead th {\n",
       "        text-align: right;\n",
       "    }\n",
       "</style>\n",
       "<table border=\"1\" class=\"dataframe\">\n",
       "  <thead>\n",
       "    <tr style=\"text-align: right;\">\n",
       "      <th></th>\n",
       "      <th>mean_fit_time</th>\n",
       "      <th>std_fit_time</th>\n",
       "      <th>mean_score_time</th>\n",
       "      <th>std_score_time</th>\n",
       "      <th>param_criterion</th>\n",
       "      <th>param_max_depth</th>\n",
       "      <th>params</th>\n",
       "      <th>split0_test_score</th>\n",
       "      <th>split1_test_score</th>\n",
       "      <th>split2_test_score</th>\n",
       "      <th>split3_test_score</th>\n",
       "      <th>split4_test_score</th>\n",
       "      <th>mean_test_score</th>\n",
       "      <th>std_test_score</th>\n",
       "      <th>rank_test_score</th>\n",
       "    </tr>\n",
       "  </thead>\n",
       "  <tbody>\n",
       "    <tr>\n",
       "      <th>2</th>\n",
       "      <td>0.344136</td>\n",
       "      <td>0.031923</td>\n",
       "      <td>0.009351</td>\n",
       "      <td>0.001209</td>\n",
       "      <td>mse</td>\n",
       "      <td>10</td>\n",
       "      <td>{'criterion': 'mse', 'max_depth': 10}</td>\n",
       "      <td>-70.131751</td>\n",
       "      <td>-71.948972</td>\n",
       "      <td>-73.823899</td>\n",
       "      <td>-71.713050</td>\n",
       "      <td>-71.073480</td>\n",
       "      <td>-71.73823</td>\n",
       "      <td>1.218009</td>\n",
       "      <td>1</td>\n",
       "    </tr>\n",
       "    <tr>\n",
       "      <th>1</th>\n",
       "      <td>0.180028</td>\n",
       "      <td>0.005640</td>\n",
       "      <td>0.007295</td>\n",
       "      <td>0.001075</td>\n",
       "      <td>mse</td>\n",
       "      <td>5</td>\n",
       "      <td>{'criterion': 'mse', 'max_depth': 5}</td>\n",
       "      <td>-71.746204</td>\n",
       "      <td>-72.710705</td>\n",
       "      <td>-72.873362</td>\n",
       "      <td>-71.709156</td>\n",
       "      <td>-71.227623</td>\n",
       "      <td>-72.05341</td>\n",
       "      <td>0.632324</td>\n",
       "      <td>2</td>\n",
       "    </tr>\n",
       "  </tbody>\n",
       "</table>\n",
       "</div>"
      ],
      "text/plain": [
       "   mean_fit_time  std_fit_time  mean_score_time  std_score_time  \\\n",
       "2       0.344136      0.031923         0.009351        0.001209   \n",
       "1       0.180028      0.005640         0.007295        0.001075   \n",
       "\n",
       "  param_criterion param_max_depth                                 params  \\\n",
       "2             mse              10  {'criterion': 'mse', 'max_depth': 10}   \n",
       "1             mse               5   {'criterion': 'mse', 'max_depth': 5}   \n",
       "\n",
       "   split0_test_score  split1_test_score  split2_test_score  split3_test_score  \\\n",
       "2         -70.131751         -71.948972         -73.823899         -71.713050   \n",
       "1         -71.746204         -72.710705         -72.873362         -71.709156   \n",
       "\n",
       "   split4_test_score  mean_test_score  std_test_score  rank_test_score  \n",
       "2         -71.073480        -71.73823        1.218009                1  \n",
       "1         -71.227623        -72.05341        0.632324                2  "
      ]
     },
     "execution_count": 47,
     "metadata": {},
     "output_type": "execute_result"
    }
   ],
   "source": [
    "df_reg_tree = pd.DataFrame(reg_seach.cv_results_).sort_values('rank_test_score')\n",
    "df_reg_tree.head(2)"
   ]
  },
  {
   "cell_type": "code",
   "execution_count": 48,
   "metadata": {},
   "outputs": [
    {
     "name": "stdout",
     "output_type": "stream",
     "text": [
      "Decision tree has 1133 nodes with maximum depth 10.\n",
      "Mean absolute error (on test data): 71.0034\n"
     ]
    }
   ],
   "source": [
    "reg_tree_best = reg_seach.best_estimator_\n",
    "y_pred = reg_tree_best.predict(X_test)\n",
    "\n",
    "print(f'Decision tree has {reg_tree_best.tree_.node_count} nodes with maximum depth {reg_tree_best.tree_.max_depth}.')\n",
    "print(f'Mean absolute error (on test data): {round(mean_absolute_error(y_test, y_pred),4)}')"
   ]
  },
  {
   "cell_type": "code",
   "execution_count": 49,
   "metadata": {},
   "outputs": [],
   "source": [
    "# Display tree\n",
    "#fig, axes = plt.subplots(nrows = 1,ncols = 1, figsize=(25,20), dpi=500)\n",
    "#tree.plot_tree(reg_tree_best, feature_names=features.columns, filled = True)\n",
    "#fig.savefig('imagename.jpeg')"
   ]
  },
  {
   "cell_type": "code",
   "execution_count": 50,
   "metadata": {},
   "outputs": [
    {
     "data": {
      "image/png": "[encoded data removed]",
      "text/plain": [
       "<Figure size 432x288 with 1 Axes>"
      ]
     },
     "metadata": {
      "needs_background": "light"
     },
     "output_type": "display_data"
    }
   ],
   "source": [
    "# Again we see the features of the regression displayd by relevans\n",
    "pd.Series(reg_tree_best.feature_importances_, index=features.columns).nlargest(20).plot(kind='barh')\n",
    "plt.show()"
   ]
  },
  {
   "cell_type": "markdown",
   "metadata": {},
   "source": [
    "## Decision tree conclusion\n",
    "By using a decision tree we have been able to cut the Mean Absolute Error from approximately 79 down to 71 by dividing the dataset into 1133 smaller nodes before doing the regression.\n",
    "This is not bad, but we will try to improve upon it further in the next section where we turn our decision trre into an entire forest"
   ]
  },
  {
   "cell_type": "markdown",
   "metadata": {},
   "source": [
    "## Random Forest\n",
    "To enhance our prediction we use the Random Forest technique which combines several decisions trees like the one above to make many a single prediction."
   ]
  },
  {
   "cell_type": "code",
   "execution_count": 15,
   "metadata": {},
   "outputs": [
    {
     "name": "stdout",
     "output_type": "stream",
     "text": [
      "Training Features Shape: (38970, 16) \tTesting Features Shape:\t (9743, 16)\n",
      "Training Labels Shape:\t (38970,) \tTesting Labels Shape:\t (9743,)\n"
     ]
    }
   ],
   "source": [
    "test_fraction = 0.2\n",
    "\n",
    "# This is a stratified split:\n",
    "X_train, X_test, y_train, y_test = train_test_split(features, target, test_size = test_fraction, random_state=3546)\n",
    "# Display how many samples are chosen for training and test, respectively\n",
    "print('Training Features Shape:', X_train.shape,'\\tTesting Features Shape:\\t', X_test.shape)\n",
    "print('Training Labels Shape:\\t', y_train.shape, '\\tTesting Labels Shape:\\t', y_test.shape)"
   ]
  },
  {
   "cell_type": "code",
   "execution_count": 16,
   "metadata": {},
   "outputs": [
    {
     "data": {
      "text/plain": [
       "GridSearchCV(estimator=RandomForestRegressor(random_state=3546),\n",
       "             param_grid={'criterion': ('mse',), 'max_depth': [10, 20, None],\n",
       "                         'n_estimators': [10, 50, 100, 150, 200]},\n",
       "             scoring='neg_mean_absolute_error')"
      ]
     },
     "execution_count": 16,
     "metadata": {},
     "output_type": "execute_result"
    }
   ],
   "source": [
    "# This is where the random forest differs from simple decision tree. We ensemble up to 200 trees to find the best tree to continue with.\n",
    "parameters = {'n_estimators':[10, 50, 100, 150, 200], 'criterion':('mse',), 'max_depth':[10, 20, None]} # mae is again more than 60 times slower than mse\n",
    "\n",
    "reg_forest = RandomForestRegressor(random_state=3546) # random state is set so as to guarantee the same outcome every time\n",
    "reg_seach = GridSearchCV(reg_forest, parameters, scoring='neg_mean_absolute_error', refit=True, )#verbose=4)\n",
    "\n",
    "reg_seach.fit(X_train, y_train)"
   ]
  },
  {
   "cell_type": "code",
   "execution_count": 17,
   "metadata": {},
   "outputs": [
    {
     "data": {
      "text/html": [
       "<div>\n",
       "<style scoped>\n",
       "    .dataframe tbody tr th:only-of-type {\n",
       "        vertical-align: middle;\n",
       "    }\n",
       "\n",
       "    .dataframe tbody tr th {\n",
       "        vertical-align: top;\n",
       "    }\n",
       "\n",
       "    .dataframe thead th {\n",
       "        text-align: right;\n",
       "    }\n",
       "</style>\n",
       "<table border=\"1\" class=\"dataframe\">\n",
       "  <thead>\n",
       "    <tr style=\"text-align: right;\">\n",
       "      <th></th>\n",
       "      <th>mean_fit_time</th>\n",
       "      <th>std_fit_time</th>\n",
       "      <th>mean_score_time</th>\n",
       "      <th>std_score_time</th>\n",
       "      <th>param_criterion</th>\n",
       "      <th>param_max_depth</th>\n",
       "      <th>param_n_estimators</th>\n",
       "      <th>params</th>\n",
       "      <th>split0_test_score</th>\n",
       "      <th>split1_test_score</th>\n",
       "      <th>split2_test_score</th>\n",
       "      <th>split3_test_score</th>\n",
       "      <th>split4_test_score</th>\n",
       "      <th>mean_test_score</th>\n",
       "      <th>std_test_score</th>\n",
       "      <th>rank_test_score</th>\n",
       "    </tr>\n",
       "  </thead>\n",
       "  <tbody>\n",
       "    <tr>\n",
       "      <th>4</th>\n",
       "      <td>38.658959</td>\n",
       "      <td>2.541454</td>\n",
       "      <td>0.345985</td>\n",
       "      <td>0.059571</td>\n",
       "      <td>mse</td>\n",
       "      <td>10</td>\n",
       "      <td>200</td>\n",
       "      <td>{'criterion': 'mse', 'max_depth': 10, 'n_estim...</td>\n",
       "      <td>-66.869343</td>\n",
       "      <td>-67.612613</td>\n",
       "      <td>-68.225995</td>\n",
       "      <td>-66.970215</td>\n",
       "      <td>-67.024029</td>\n",
       "      <td>-67.340439</td>\n",
       "      <td>0.513303</td>\n",
       "      <td>1</td>\n",
       "    </tr>\n",
       "    <tr>\n",
       "      <th>3</th>\n",
       "      <td>31.243877</td>\n",
       "      <td>2.100210</td>\n",
       "      <td>0.261325</td>\n",
       "      <td>0.032496</td>\n",
       "      <td>mse</td>\n",
       "      <td>10</td>\n",
       "      <td>150</td>\n",
       "      <td>{'criterion': 'mse', 'max_depth': 10, 'n_estim...</td>\n",
       "      <td>-66.861770</td>\n",
       "      <td>-67.626377</td>\n",
       "      <td>-68.225444</td>\n",
       "      <td>-67.027251</td>\n",
       "      <td>-67.097402</td>\n",
       "      <td>-67.367649</td>\n",
       "      <td>0.499514</td>\n",
       "      <td>2</td>\n",
       "    </tr>\n",
       "  </tbody>\n",
       "</table>\n",
       "</div>"
      ],
      "text/plain": [
       "   mean_fit_time  std_fit_time  mean_score_time  std_score_time  \\\n",
       "4      38.658959      2.541454         0.345985        0.059571   \n",
       "3      31.243877      2.100210         0.261325        0.032496   \n",
       "\n",
       "  param_criterion param_max_depth param_n_estimators  \\\n",
       "4             mse              10                200   \n",
       "3             mse              10                150   \n",
       "\n",
       "                                              params  split0_test_score  \\\n",
       "4  {'criterion': 'mse', 'max_depth': 10, 'n_estim...         -66.869343   \n",
       "3  {'criterion': 'mse', 'max_depth': 10, 'n_estim...         -66.861770   \n",
       "\n",
       "   split1_test_score  split2_test_score  split3_test_score  split4_test_score  \\\n",
       "4         -67.612613         -68.225995         -66.970215         -67.024029   \n",
       "3         -67.626377         -68.225444         -67.027251         -67.097402   \n",
       "\n",
       "   mean_test_score  std_test_score  rank_test_score  \n",
       "4       -67.340439        0.513303                1  \n",
       "3       -67.367649        0.499514                2  "
      ]
     },
     "execution_count": 17,
     "metadata": {},
     "output_type": "execute_result"
    }
   ],
   "source": [
    "# Cross validate and sort by highest score \n",
    "df_reg_forest = pd.DataFrame(reg_seach.cv_results_).sort_values('rank_test_score')\n",
    "df_reg_forest.head(2)"
   ]
  },
  {
   "cell_type": "code",
   "execution_count": 18,
   "metadata": {},
   "outputs": [
    {
     "name": "stdout",
     "output_type": "stream",
     "text": [
      "Mean absolute error (on test data): 68.6235\n"
     ]
    }
   ],
   "source": [
    "reg_forest_best = reg_seach.best_estimator_\n",
    "y_pred = reg_forest_best.predict(X_test)\n",
    "\n",
    "print(f'Mean absolute error (on test data): {round(mean_absolute_error(y_test, y_pred),4)}')"
   ]
  },
  {
   "cell_type": "code",
   "execution_count": 19,
   "metadata": {},
   "outputs": [
    {
     "data": {
      "image/png": "[encoded data removed]",
      "text/plain": [
       "<Figure size 432x288 with 1 Axes>"
      ]
     },
     "metadata": {
      "needs_background": "light"
     },
     "output_type": "display_data"
    }
   ],
   "source": [
    "pd.Series(reg_forest_best.feature_importances_, index=features.columns).nlargest(20).plot(kind='barh')\n",
    "plt.show()"
   ]
  },
  {
   "cell_type": "markdown",
   "metadata": {},
   "source": [
    "## Random Forest conclusion\n",
    "By using a Random Forest we have been able to cut the Mean Absolute Error from down just a bit further to around 68,5. This jump is a good bit smaller then the previous one, we are however not quite done with the random forest method.\n",
    "Below we attempt to improve upon our random forrest model prediction, by doing feature selection, aka removing features that are unimportant to the regression."
   ]
  },
  {
   "cell_type": "markdown",
   "metadata": {},
   "source": [
    "## Random Forest with feature selection"
   ]
  },
  {
   "cell_type": "code",
   "execution_count": 56,
   "metadata": {},
   "outputs": [
    {
     "data": {
      "image/png": "[encoded data removed]",
      "text/plain": [
       "<Figure size 432x288 with 1 Axes>"
      ]
     },
     "metadata": {
      "needs_background": "light"
     },
     "output_type": "display_data"
    }
   ],
   "source": [
    "# Here we display featues of our random forest and the threshold for when we consider a feature unimportant\n",
    "df_reg_forest_feat_im = pd.Series(reg_forest_best.feature_importances_, index=features.columns).nlargest(20)\n",
    "# Threshold of (un)importance\n",
    "threshold_feat_im = 0.005\n",
    "\n",
    "\n",
    "threshold_plot = len(df_reg_forest_feat_im[df_reg_forest_feat_im>=threshold_feat_im])-0.5\n",
    "\n",
    "df_reg_forest_feat_im.plot(kind='barh')\n",
    "plt.axhline(y=threshold_plot,linewidth=1, color='orange')\n",
    "plt.show()"
   ]
  },
  {
   "cell_type": "code",
   "execution_count": 57,
   "metadata": {},
   "outputs": [
    {
     "name": "stdout",
     "output_type": "stream",
     "text": [
      "Index(['latitude', 'longitude', 'minimum_nights', 'number_of_reviews',\n",
      "       'reviews_per_month', 'calculated_host_listings_count',\n",
      "       'availability_365', 'neighbourhood_other_label',\n",
      "       'neighbourhood_group_Brooklyn', 'neighbourhood_group_Manhattan',\n",
      "       'neighbourhood_group_Queens', 'room_type_Private room'],\n",
      "      dtype='object')\n"
     ]
    }
   ],
   "source": [
    "# Choose which featues not to include in the calculation\n",
    "features_select = features.drop(df_reg_forest_feat_im[df_reg_forest_feat_im<threshold_feat_im].index, axis=1)\n",
    "target = df.price\n",
    "\n",
    "print(features_select.columns)"
   ]
  },
  {
   "cell_type": "code",
   "execution_count": 58,
   "metadata": {},
   "outputs": [
    {
     "name": "stdout",
     "output_type": "stream",
     "text": [
      "Training Features Shape: (38970, 12) \tTesting Features Shape:\t (9743, 12)\n",
      "Training Labels Shape:\t (38970,) \tTesting Labels Shape:\t (9743,)\n"
     ]
    }
   ],
   "source": [
    "test_fraction = 0.2\n",
    "\n",
    "# This is a stratified split:\n",
    "X_train, X_test, y_train, y_test = train_test_split(features_select, target, test_size = test_fraction, random_state=3546)\n",
    "# Display how many samples are chosen for training and test, respectively\n",
    "print('Training Features Shape:', X_train.shape,'\\tTesting Features Shape:\\t', X_test.shape)\n",
    "print('Training Labels Shape:\\t', y_train.shape, '\\tTesting Labels Shape:\\t', y_test.shape)"
   ]
  },
  {
   "cell_type": "code",
   "execution_count": 61,
   "metadata": {},
   "outputs": [
    {
     "data": {
      "text/plain": [
       "GridSearchCV(estimator=RandomForestRegressor(random_state=3546),\n",
       "             param_grid={'criterion': ('mse',), 'max_depth': [10, 20, None],\n",
       "                         'n_estimators': [10, 50, 100, 150, 200]},\n",
       "             scoring='neg_mean_absolute_error')"
      ]
     },
     "execution_count": 61,
     "metadata": {},
     "output_type": "execute_result"
    }
   ],
   "source": [
    "parameters = {'n_estimators':[10, 50, 100, 150, 200], 'criterion':('mse',), 'max_depth':[10, 20, None]} # mae is again more than 60 times slower than mse\n",
    "\n",
    "reg_forest_select = RandomForestRegressor(random_state=3546) # random state is set so as to guarantee the same outcome every time\n",
    "reg_seach = GridSearchCV(reg_forest_select, parameters, scoring='neg_mean_absolute_error', refit=True, )#verbose=4)\n",
    "\n",
    "reg_seach.fit(X_train, y_train)"
   ]
  },
  {
   "cell_type": "code",
   "execution_count": 62,
   "metadata": {},
   "outputs": [
    {
     "data": {
      "text/html": [
       "<div>\n",
       "<style scoped>\n",
       "    .dataframe tbody tr th:only-of-type {\n",
       "        vertical-align: middle;\n",
       "    }\n",
       "\n",
       "    .dataframe tbody tr th {\n",
       "        vertical-align: top;\n",
       "    }\n",
       "\n",
       "    .dataframe thead th {\n",
       "        text-align: right;\n",
       "    }\n",
       "</style>\n",
       "<table border=\"1\" class=\"dataframe\">\n",
       "  <thead>\n",
       "    <tr style=\"text-align: right;\">\n",
       "      <th></th>\n",
       "      <th>mean_fit_time</th>\n",
       "      <th>std_fit_time</th>\n",
       "      <th>mean_score_time</th>\n",
       "      <th>std_score_time</th>\n",
       "      <th>param_criterion</th>\n",
       "      <th>param_max_depth</th>\n",
       "      <th>param_n_estimators</th>\n",
       "      <th>params</th>\n",
       "      <th>split0_test_score</th>\n",
       "      <th>split1_test_score</th>\n",
       "      <th>split2_test_score</th>\n",
       "      <th>split3_test_score</th>\n",
       "      <th>split4_test_score</th>\n",
       "      <th>mean_test_score</th>\n",
       "      <th>std_test_score</th>\n",
       "      <th>rank_test_score</th>\n",
       "    </tr>\n",
       "  </thead>\n",
       "  <tbody>\n",
       "    <tr>\n",
       "      <th>4</th>\n",
       "      <td>25.402642</td>\n",
       "      <td>0.300159</td>\n",
       "      <td>0.251938</td>\n",
       "      <td>0.003771</td>\n",
       "      <td>mse</td>\n",
       "      <td>10</td>\n",
       "      <td>200</td>\n",
       "      <td>{'criterion': 'mse', 'max_depth': 10, 'n_estim...</td>\n",
       "      <td>-66.864296</td>\n",
       "      <td>-67.513734</td>\n",
       "      <td>-68.240765</td>\n",
       "      <td>-66.962594</td>\n",
       "      <td>-66.921412</td>\n",
       "      <td>-67.300560</td>\n",
       "      <td>0.524925</td>\n",
       "      <td>1</td>\n",
       "    </tr>\n",
       "    <tr>\n",
       "      <th>2</th>\n",
       "      <td>13.399523</td>\n",
       "      <td>0.853090</td>\n",
       "      <td>0.139017</td>\n",
       "      <td>0.023172</td>\n",
       "      <td>mse</td>\n",
       "      <td>10</td>\n",
       "      <td>100</td>\n",
       "      <td>{'criterion': 'mse', 'max_depth': 10, 'n_estim...</td>\n",
       "      <td>-66.875706</td>\n",
       "      <td>-67.555974</td>\n",
       "      <td>-68.244212</td>\n",
       "      <td>-67.047758</td>\n",
       "      <td>-66.856761</td>\n",
       "      <td>-67.316082</td>\n",
       "      <td>0.528371</td>\n",
       "      <td>2</td>\n",
       "    </tr>\n",
       "  </tbody>\n",
       "</table>\n",
       "</div>"
      ],
      "text/plain": [
       "   mean_fit_time  std_fit_time  mean_score_time  std_score_time  \\\n",
       "4      25.402642      0.300159         0.251938        0.003771   \n",
       "2      13.399523      0.853090         0.139017        0.023172   \n",
       "\n",
       "  param_criterion param_max_depth param_n_estimators  \\\n",
       "4             mse              10                200   \n",
       "2             mse              10                100   \n",
       "\n",
       "                                              params  split0_test_score  \\\n",
       "4  {'criterion': 'mse', 'max_depth': 10, 'n_estim...         -66.864296   \n",
       "2  {'criterion': 'mse', 'max_depth': 10, 'n_estim...         -66.875706   \n",
       "\n",
       "   split1_test_score  split2_test_score  split3_test_score  split4_test_score  \\\n",
       "4         -67.513734         -68.240765         -66.962594         -66.921412   \n",
       "2         -67.555974         -68.244212         -67.047758         -66.856761   \n",
       "\n",
       "   mean_test_score  std_test_score  rank_test_score  \n",
       "4       -67.300560        0.524925                1  \n",
       "2       -67.316082        0.528371                2  "
      ]
     },
     "execution_count": 62,
     "metadata": {},
     "output_type": "execute_result"
    }
   ],
   "source": [
    "df_reg_forest_select = pd.DataFrame(reg_seach.cv_results_).sort_values('rank_test_score')\n",
    "df_reg_forest_select.head(2)"
   ]
  },
  {
   "cell_type": "code",
   "execution_count": 63,
   "metadata": {},
   "outputs": [
    {
     "name": "stdout",
     "output_type": "stream",
     "text": [
      "Mean absolute error (on test data): 68.5127\n"
     ]
    }
   ],
   "source": [
    "reg_forest_select_best = reg_seach.best_estimator_\n",
    "y_pred = reg_forest_select_best.predict(X_test)\n",
    "\n",
    "print(f'Mean absolute error (on test data): {round(mean_absolute_error(y_test, y_pred),4)}')"
   ]
  },
  {
   "cell_type": "code",
   "execution_count": 64,
   "metadata": {},
   "outputs": [
    {
     "data": {
      "image/png": "[encoded data removed]",
      "text/plain": [
       "<Figure size 432x288 with 1 Axes>"
      ]
     },
     "metadata": {
      "needs_background": "light"
     },
     "output_type": "display_data"
    }
   ],
   "source": [
    "pd.Series(reg_forest_select_best.feature_importances_, index=features_select.columns).nlargest(20).plot(kind='barh')\n",
    "plt.show()"
   ]
  },
  {
   "cell_type": "markdown",
   "metadata": {},
   "source": [
    "## Random Forest with feature selection Conclusion\n",
    "As can be seen feature selection did not do a lot of diffrence to the random forest model our mean absolute error went from 68,6 to 68,5, which in this case is largely irrelvant.\n"
   ]
  },
  {
   "cell_type": "markdown",
   "metadata": {},
   "source": [
    "## Random forest for the website\n",
    "Here we genereate the random forest used on the websites page 9, to suggest prices for Airbnb condos.\n",
    "As we saw above that neighborhood groups are largely irrelevant as the feature importance is subsumed by the latitude and longtitude feature, these are all dropped for the website predictor."
   ]
  },
  {
   "cell_type": "code",
   "execution_count": 1,
   "metadata": {},
   "outputs": [
    {
     "ename": "NameError",
     "evalue": "name 'features' is not defined",
     "output_type": "error",
     "traceback": [
      "\u001b[1;31m---------------------------------------------------------------------------\u001b[0m",
      "\u001b[1;31mNameError\u001b[0m                                 Traceback (most recent call last)",
      "\u001b[1;32m<ipython-input-1-34bc83bb2acb>\u001b[0m in \u001b[0;36m<module>\u001b[1;34m\u001b[0m\n\u001b[0;32m      1\u001b[0m \u001b[1;31m#removeing irrelevant features\u001b[0m\u001b[1;33m\u001b[0m\u001b[1;33m\u001b[0m\u001b[1;33m\u001b[0m\u001b[0m\n\u001b[1;32m----> 2\u001b[1;33m features_web = features.drop(['reviews_per_month',\n\u001b[0m\u001b[0;32m      3\u001b[0m                               \u001b[1;34m'neighbourhood_other_label'\u001b[0m\u001b[1;33m,\u001b[0m\u001b[1;33m\u001b[0m\u001b[1;33m\u001b[0m\u001b[0m\n\u001b[0;32m      4\u001b[0m                               \u001b[1;34m'neighbourhood_group_Bronx'\u001b[0m\u001b[1;33m,\u001b[0m\u001b[1;33m\u001b[0m\u001b[1;33m\u001b[0m\u001b[0m\n\u001b[0;32m      5\u001b[0m                               \u001b[1;34m'neighbourhood_group_Brooklyn'\u001b[0m\u001b[1;33m,\u001b[0m\u001b[1;33m\u001b[0m\u001b[1;33m\u001b[0m\u001b[0m\n",
      "\u001b[1;31mNameError\u001b[0m: name 'features' is not defined"
     ]
    }
   ],
   "source": [
    "# Removeing irrelevant features\n",
    "features_web = features.drop(['reviews_per_month',\n",
    "                              'neighbourhood_other_label',\n",
    "                              'neighbourhood_group_Bronx',\n",
    "                              'neighbourhood_group_Brooklyn',\n",
    "                              'neighbourhood_group_Manhattan', \n",
    "                              'neighbourhood_group_Queens',\n",
    "                              'neighbourhood_group_Staten Island'], axis=1)\n",
    "target = df.price\n",
    "\n",
    "print(features_web.columns)"
   ]
  },
  {
   "cell_type": "code",
   "execution_count": 66,
   "metadata": {},
   "outputs": [
    {
     "name": "stdout",
     "output_type": "stream",
     "text": [
      "Training Features Shape: (38970, 9) \tTesting Features Shape:\t (9743, 9)\n",
      "Training Labels Shape:\t (38970,) \tTesting Labels Shape:\t (9743,)\n"
     ]
    }
   ],
   "source": [
    "test_fraction = 0.2\n",
    "\n",
    "# This is a stratified split:\n",
    "X_train, X_test, y_train, y_test = train_test_split(features_web, target, test_size = test_fraction, random_state=3546)\n",
    "# Display how many samples are chosen for training and test, respectively\n",
    "print('Training Features Shape:', X_train.shape,'\\tTesting Features Shape:\\t', X_test.shape)\n",
    "print('Training Labels Shape:\\t', y_train.shape, '\\tTesting Labels Shape:\\t', y_test.shape)"
   ]
  },
  {
   "cell_type": "code",
   "execution_count": 67,
   "metadata": {},
   "outputs": [
    {
     "data": {
      "text/plain": [
       "GridSearchCV(estimator=RandomForestRegressor(random_state=3546),\n",
       "             param_grid={'criterion': ('mse',), 'max_depth': [10, 20, None],\n",
       "                         'n_estimators': [10, 50, 100, 150, 200]},\n",
       "             scoring='neg_mean_absolute_error')"
      ]
     },
     "execution_count": 67,
     "metadata": {},
     "output_type": "execute_result"
    }
   ],
   "source": [
    "parameters = {'n_estimators':[10, 50, 100, 150, 200], 'criterion':('mse',), 'max_depth':[10, 20, None]} # mae is again more than 60 times slower than mse\n",
    "\n",
    "reg_forest_web = RandomForestRegressor(random_state=3546) # random state is set so as to guarantee the same outcome every time\n",
    "reg_seach = GridSearchCV(reg_forest_web, parameters, scoring='neg_mean_absolute_error', refit=True, )#verbose=4)\n",
    "\n",
    "reg_seach.fit(X_train, y_train)"
   ]
  },
  {
   "cell_type": "code",
   "execution_count": 68,
   "metadata": {},
   "outputs": [
    {
     "data": {
      "text/html": [
       "<div>\n",
       "<style scoped>\n",
       "    .dataframe tbody tr th:only-of-type {\n",
       "        vertical-align: middle;\n",
       "    }\n",
       "\n",
       "    .dataframe tbody tr th {\n",
       "        vertical-align: top;\n",
       "    }\n",
       "\n",
       "    .dataframe thead th {\n",
       "        text-align: right;\n",
       "    }\n",
       "</style>\n",
       "<table border=\"1\" class=\"dataframe\">\n",
       "  <thead>\n",
       "    <tr style=\"text-align: right;\">\n",
       "      <th></th>\n",
       "      <th>mean_fit_time</th>\n",
       "      <th>std_fit_time</th>\n",
       "      <th>mean_score_time</th>\n",
       "      <th>std_score_time</th>\n",
       "      <th>param_criterion</th>\n",
       "      <th>param_max_depth</th>\n",
       "      <th>param_n_estimators</th>\n",
       "      <th>params</th>\n",
       "      <th>split0_test_score</th>\n",
       "      <th>split1_test_score</th>\n",
       "      <th>split2_test_score</th>\n",
       "      <th>split3_test_score</th>\n",
       "      <th>split4_test_score</th>\n",
       "      <th>mean_test_score</th>\n",
       "      <th>std_test_score</th>\n",
       "      <th>rank_test_score</th>\n",
       "    </tr>\n",
       "  </thead>\n",
       "  <tbody>\n",
       "    <tr>\n",
       "      <th>3</th>\n",
       "      <td>17.098092</td>\n",
       "      <td>1.426560</td>\n",
       "      <td>0.198983</td>\n",
       "      <td>0.019181</td>\n",
       "      <td>mse</td>\n",
       "      <td>10</td>\n",
       "      <td>150</td>\n",
       "      <td>{'criterion': 'mse', 'max_depth': 10, 'n_estim...</td>\n",
       "      <td>-67.058696</td>\n",
       "      <td>-67.740407</td>\n",
       "      <td>-68.501693</td>\n",
       "      <td>-67.115527</td>\n",
       "      <td>-66.988532</td>\n",
       "      <td>-67.480971</td>\n",
       "      <td>0.576809</td>\n",
       "      <td>1</td>\n",
       "    </tr>\n",
       "    <tr>\n",
       "      <th>4</th>\n",
       "      <td>23.541994</td>\n",
       "      <td>1.949108</td>\n",
       "      <td>0.301652</td>\n",
       "      <td>0.024079</td>\n",
       "      <td>mse</td>\n",
       "      <td>10</td>\n",
       "      <td>200</td>\n",
       "      <td>{'criterion': 'mse', 'max_depth': 10, 'n_estim...</td>\n",
       "      <td>-67.054049</td>\n",
       "      <td>-67.755101</td>\n",
       "      <td>-68.531991</td>\n",
       "      <td>-67.108138</td>\n",
       "      <td>-66.959011</td>\n",
       "      <td>-67.481658</td>\n",
       "      <td>0.595566</td>\n",
       "      <td>2</td>\n",
       "    </tr>\n",
       "  </tbody>\n",
       "</table>\n",
       "</div>"
      ],
      "text/plain": [
       "   mean_fit_time  std_fit_time  mean_score_time  std_score_time  \\\n",
       "3      17.098092      1.426560         0.198983        0.019181   \n",
       "4      23.541994      1.949108         0.301652        0.024079   \n",
       "\n",
       "  param_criterion param_max_depth param_n_estimators  \\\n",
       "3             mse              10                150   \n",
       "4             mse              10                200   \n",
       "\n",
       "                                              params  split0_test_score  \\\n",
       "3  {'criterion': 'mse', 'max_depth': 10, 'n_estim...         -67.058696   \n",
       "4  {'criterion': 'mse', 'max_depth': 10, 'n_estim...         -67.054049   \n",
       "\n",
       "   split1_test_score  split2_test_score  split3_test_score  split4_test_score  \\\n",
       "3         -67.740407         -68.501693         -67.115527         -66.988532   \n",
       "4         -67.755101         -68.531991         -67.108138         -66.959011   \n",
       "\n",
       "   mean_test_score  std_test_score  rank_test_score  \n",
       "3       -67.480971        0.576809                1  \n",
       "4       -67.481658        0.595566                2  "
      ]
     },
     "execution_count": 68,
     "metadata": {},
     "output_type": "execute_result"
    }
   ],
   "source": [
    "df_reg_forest_web = pd.DataFrame(reg_seach.cv_results_).sort_values('rank_test_score')\n",
    "df_reg_forest_web.head(2)"
   ]
  },
  {
   "cell_type": "code",
   "execution_count": 69,
   "metadata": {},
   "outputs": [
    {
     "name": "stdout",
     "output_type": "stream",
     "text": [
      "Mean absolute error (on test data): 68.7354\n"
     ]
    }
   ],
   "source": [
    "reg_forest_web_best = reg_seach.best_estimator_\n",
    "y_pred = reg_forest_web_best.predict(X_test)\n",
    "\n",
    "print(f'Mean absolute error (on test data): {round(mean_absolute_error(y_test, y_pred),4)}')"
   ]
  },
  {
   "cell_type": "code",
   "execution_count": 70,
   "metadata": {},
   "outputs": [
    {
     "data": {
      "image/png": "[encoded data removed]",
      "text/plain": [
       "<Figure size 432x288 with 1 Axes>"
      ]
     },
     "metadata": {
      "needs_background": "light"
     },
     "output_type": "display_data"
    }
   ],
   "source": [
    "# Show features sorted by importance\n",
    "pd.Series(reg_forest_web_best.feature_importances_, index=features_web.columns).nlargest(20).plot(kind='barh')\n",
    "plt.show()"
   ]
  },
  {
   "cell_type": "markdown",
   "metadata": {},
   "source": [
    "## Random Forest for website-conclusion\n",
    "Our final random forest model, usable on the website shows a Mean Absolute Error of 68.7, while being pruned of features, making user interaction much easier.\n",
    "This is an improvemnt in proformace over det linear regression model which had a Mean Absolute Error of 79, giving ours a 14% improvement over the competing model."
   ]
  },
  {
   "cell_type": "code",
   "execution_count": 71,
   "metadata": {},
   "outputs": [
    {
     "data": {
      "text/plain": [
       "['model_forest_web.joblib']"
      ]
     },
     "execution_count": 71,
     "metadata": {},
     "output_type": "execute_result"
    }
   ],
   "source": [
    "# Save our model in a format that is usable on the website\n",
    "dump(reg_forest_web, 'model_forest_web.joblib')"
   ]
  },
  {
   "cell_type": "code",
   "execution_count": null,
   "metadata": {},
   "outputs": [],
   "source": []
  }
 ],
 "metadata": {
  "kernelspec": {
   "display_name": "Python 3",
   "language": "python",
   "name": "python3"
  },
  "language_info": {
   "codemirror_mode": {
    "name": "ipython",
    "version": 3
   },
   "file_extension": ".py",
   "mimetype": "text/x-python",
   "name": "python",
   "nbconvert_exporter": "python",
   "pygments_lexer": "ipython3",
   "version": "3.8.5"
  }
 },
 "nbformat": 4,
 "nbformat_minor": 4
}
