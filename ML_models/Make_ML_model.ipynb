{
 "cells": [
  {
   "cell_type": "code",
   "execution_count": 32,
   "metadata": {},
   "outputs": [],
   "source": [
    "import pandas as pd\n",
    "import numpy as np\n",
    "\n",
    "import matplotlib.pyplot as plt\n",
    "\n",
    "from joblib import dump, load"
   ]
  },
  {
   "cell_type": "code",
   "execution_count": 33,
   "metadata": {},
   "outputs": [],
   "source": [
    "from sklearn.model_selection import train_test_split\n",
    "from sklearn.model_selection import GridSearchCV\n",
    "from sklearn.ensemble import RandomForestRegressor\n",
    "from sklearn.metrics import mean_absolute_error"
   ]
  },
  {
   "cell_type": "markdown",
   "metadata": {},
   "source": [
    "## Importing data and preparing it for ML"
   ]
  },
  {
   "cell_type": "code",
   "execution_count": 34,
   "metadata": {},
   "outputs": [
    {
     "data": {
      "text/html": [
       "<div>\n",
       "<style scoped>\n",
       "    .dataframe tbody tr th:only-of-type {\n",
       "        vertical-align: middle;\n",
       "    }\n",
       "\n",
       "    .dataframe tbody tr th {\n",
       "        vertical-align: top;\n",
       "    }\n",
       "\n",
       "    .dataframe thead th {\n",
       "        text-align: right;\n",
       "    }\n",
       "</style>\n",
       "<table border=\"1\" class=\"dataframe\">\n",
       "  <thead>\n",
       "    <tr style=\"text-align: right;\">\n",
       "      <th></th>\n",
       "      <th>id</th>\n",
       "      <th>name</th>\n",
       "      <th>host_id</th>\n",
       "      <th>host_name</th>\n",
       "      <th>neighbourhood_group</th>\n",
       "      <th>neighbourhood</th>\n",
       "      <th>latitude</th>\n",
       "      <th>longitude</th>\n",
       "      <th>room_type</th>\n",
       "      <th>price</th>\n",
       "      <th>...</th>\n",
       "      <th>neighbourhood_other</th>\n",
       "      <th>neighbourhood_other_label</th>\n",
       "      <th>neighbourhood_group_Bronx</th>\n",
       "      <th>neighbourhood_group_Brooklyn</th>\n",
       "      <th>neighbourhood_group_Manhattan</th>\n",
       "      <th>neighbourhood_group_Queens</th>\n",
       "      <th>neighbourhood_group_Staten Island</th>\n",
       "      <th>room_type_Entire home/apt</th>\n",
       "      <th>room_type_Private room</th>\n",
       "      <th>room_type_Shared room</th>\n",
       "    </tr>\n",
       "  </thead>\n",
       "  <tbody>\n",
       "    <tr>\n",
       "      <th>0</th>\n",
       "      <td>2539</td>\n",
       "      <td>Clean &amp; quiet apt home by the park</td>\n",
       "      <td>2787</td>\n",
       "      <td>John</td>\n",
       "      <td>Brooklyn</td>\n",
       "      <td>Kensington</td>\n",
       "      <td>40.64749</td>\n",
       "      <td>-73.97237</td>\n",
       "      <td>Private room</td>\n",
       "      <td>149</td>\n",
       "      <td>...</td>\n",
       "      <td>Other</td>\n",
       "      <td>29</td>\n",
       "      <td>0.0</td>\n",
       "      <td>1.0</td>\n",
       "      <td>0.0</td>\n",
       "      <td>0.0</td>\n",
       "      <td>0.0</td>\n",
       "      <td>0.0</td>\n",
       "      <td>1.0</td>\n",
       "      <td>0.0</td>\n",
       "    </tr>\n",
       "    <tr>\n",
       "      <th>1</th>\n",
       "      <td>2595</td>\n",
       "      <td>Skylit Midtown Castle</td>\n",
       "      <td>2845</td>\n",
       "      <td>Jennifer</td>\n",
       "      <td>Manhattan</td>\n",
       "      <td>Midtown</td>\n",
       "      <td>40.75362</td>\n",
       "      <td>-73.98377</td>\n",
       "      <td>Entire home/apt</td>\n",
       "      <td>225</td>\n",
       "      <td>...</td>\n",
       "      <td>Midtown</td>\n",
       "      <td>25</td>\n",
       "      <td>0.0</td>\n",
       "      <td>0.0</td>\n",
       "      <td>1.0</td>\n",
       "      <td>0.0</td>\n",
       "      <td>0.0</td>\n",
       "      <td>1.0</td>\n",
       "      <td>0.0</td>\n",
       "      <td>0.0</td>\n",
       "    </tr>\n",
       "  </tbody>\n",
       "</table>\n",
       "<p>2 rows × 26 columns</p>\n",
       "</div>"
      ],
      "text/plain": [
       "     id                                name  host_id host_name  \\\n",
       "0  2539  Clean & quiet apt home by the park     2787      John   \n",
       "1  2595               Skylit Midtown Castle     2845  Jennifer   \n",
       "\n",
       "  neighbourhood_group neighbourhood  latitude  longitude        room_type  \\\n",
       "0            Brooklyn    Kensington  40.64749  -73.97237     Private room   \n",
       "1           Manhattan       Midtown  40.75362  -73.98377  Entire home/apt   \n",
       "\n",
       "   price  ...  neighbourhood_other  neighbourhood_other_label  \\\n",
       "0    149  ...                Other                         29   \n",
       "1    225  ...              Midtown                         25   \n",
       "\n",
       "  neighbourhood_group_Bronx  neighbourhood_group_Brooklyn  \\\n",
       "0                       0.0                           1.0   \n",
       "1                       0.0                           0.0   \n",
       "\n",
       "   neighbourhood_group_Manhattan  neighbourhood_group_Queens  \\\n",
       "0                            0.0                         0.0   \n",
       "1                            1.0                         0.0   \n",
       "\n",
       "  neighbourhood_group_Staten Island  room_type_Entire home/apt  \\\n",
       "0                               0.0                        0.0   \n",
       "1                               0.0                        1.0   \n",
       "\n",
       "   room_type_Private room  room_type_Shared room  \n",
       "0                     1.0                    0.0  \n",
       "1                     0.0                    0.0  \n",
       "\n",
       "[2 rows x 26 columns]"
      ]
     },
     "execution_count": 34,
     "metadata": {},
     "output_type": "execute_result"
    }
   ],
   "source": [
    "#import cleaned data\n",
    "df = pd.read_csv(\"../Data/AB_data_clean.csv\")\n",
    "df.head(2)"
   ]
  },
  {
   "cell_type": "code",
   "execution_count": 35,
   "metadata": {},
   "outputs": [
    {
     "data": {
      "text/plain": [
       "id                                      0\n",
       "name                                   15\n",
       "host_id                                 0\n",
       "host_name                              21\n",
       "neighbourhood_group                     0\n",
       "neighbourhood                           0\n",
       "latitude                                0\n",
       "longitude                               0\n",
       "room_type                               0\n",
       "price                                   0\n",
       "minimum_nights                          0\n",
       "number_of_reviews                       0\n",
       "last_review                          9913\n",
       "reviews_per_month                    9913\n",
       "calculated_host_listings_count          0\n",
       "availability_365                        0\n",
       "neighbourhood_other                     0\n",
       "neighbourhood_other_label               0\n",
       "neighbourhood_group_Bronx               0\n",
       "neighbourhood_group_Brooklyn            0\n",
       "neighbourhood_group_Manhattan           0\n",
       "neighbourhood_group_Queens              0\n",
       "neighbourhood_group_Staten Island       0\n",
       "room_type_Entire home/apt               0\n",
       "room_type_Private room                  0\n",
       "room_type_Shared room                   0\n",
       "dtype: int64"
      ]
     },
     "execution_count": 35,
     "metadata": {},
     "output_type": "execute_result"
    }
   ],
   "source": [
    "#manage Na values in dataframe\n",
    "df.isna().sum()"
   ]
  },
  {
   "cell_type": "code",
   "execution_count": 36,
   "metadata": {},
   "outputs": [
    {
     "name": "stdout",
     "output_type": "stream",
     "text": [
      "number_of_reviews\n",
      "0    9913\n",
      "dtype: int64\n",
      "number_of_reviews\n",
      "0    9913\n",
      "dtype: int64\n"
     ]
    }
   ],
   "source": [
    "print(df[df['last_review'].isna()].groupby('number_of_reviews').size())\n",
    "print(df[df['reviews_per_month'].isna()].groupby('number_of_reviews').size())"
   ]
  },
  {
   "cell_type": "code",
   "execution_count": 37,
   "metadata": {},
   "outputs": [],
   "source": [
    "df['last_review'] = df['last_review'].fillna(0)\n",
    "df['reviews_per_month'] = df['reviews_per_month'].fillna(0)"
   ]
  },
  {
   "cell_type": "code",
   "execution_count": 41,
   "metadata": {},
   "outputs": [
    {
     "name": "stdout",
     "output_type": "stream",
     "text": [
      "Index(['latitude', 'longitude', 'minimum_nights', 'number_of_reviews',\n",
      "       'reviews_per_month', 'calculated_host_listings_count',\n",
      "       'availability_365', 'neighbourhood_other_label',\n",
      "       'neighbourhood_group_Bronx', 'neighbourhood_group_Brooklyn',\n",
      "       'neighbourhood_group_Manhattan', 'neighbourhood_group_Queens',\n",
      "       'neighbourhood_group_Staten Island', 'room_type_Entire home/apt',\n",
      "       'room_type_Private room', 'room_type_Shared room'],\n",
      "      dtype='object')\n"
     ]
    }
   ],
   "source": [
    "#chose which featues not to include in the calculation\n",
    "features = df.drop(['price',\n",
    "                    'id', \n",
    "                    'name', \n",
    "                    'host_id', \n",
    "                    'host_name', \n",
    "                    'neighbourhood_group',\n",
    "                    'neighbourhood', \n",
    "                    'room_type',\n",
    "                    'last_review',#dropped until we encode it to not datetime\n",
    "                    'neighbourhood_other'], axis=1)\n",
    "target = df.price\n",
    "\n",
    "print(features.columns)"
   ]
  },
  {
   "cell_type": "markdown",
   "metadata": {},
   "source": [
    "## Random forest for the website"
   ]
  },
  {
   "cell_type": "code",
   "execution_count": 65,
   "metadata": {},
   "outputs": [
    {
     "name": "stdout",
     "output_type": "stream",
     "text": [
      "Index(['latitude', 'longitude', 'minimum_nights', 'number_of_reviews',\n",
      "       'calculated_host_listings_count', 'availability_365',\n",
      "       'room_type_Entire home/apt', 'room_type_Private room',\n",
      "       'room_type_Shared room'],\n",
      "      dtype='object')\n"
     ]
    }
   ],
   "source": [
    "features_web = features.drop(['reviews_per_month',\n",
    "                              'neighbourhood_other_label',\n",
    "                              'neighbourhood_group_Bronx',\n",
    "                              'neighbourhood_group_Brooklyn',\n",
    "                              'neighbourhood_group_Manhattan', \n",
    "                              'neighbourhood_group_Queens',\n",
    "                              'neighbourhood_group_Staten Island'], axis=1)\n",
    "target = df.price\n",
    "\n",
    "print(features_web.columns)"
   ]
  },
  {
   "cell_type": "code",
   "execution_count": 66,
   "metadata": {},
   "outputs": [
    {
     "name": "stdout",
     "output_type": "stream",
     "text": [
      "Training Features Shape: (38970, 9) \tTesting Features Shape:\t (9743, 9)\n",
      "Training Labels Shape:\t (38970,) \tTesting Labels Shape:\t (9743,)\n"
     ]
    }
   ],
   "source": [
    "test_fraction = 0.2\n",
    "\n",
    "# This is a stratified split:\n",
    "X_train, X_test, y_train, y_test = train_test_split(features_web, target, test_size = test_fraction, random_state=3546)\n",
    "#Display how many samples are chosen for training and test, respectively\n",
    "print('Training Features Shape:', X_train.shape,'\\tTesting Features Shape:\\t', X_test.shape)\n",
    "print('Training Labels Shape:\\t', y_train.shape, '\\tTesting Labels Shape:\\t', y_test.shape)"
   ]
  },
  {
   "cell_type": "code",
   "execution_count": 67,
   "metadata": {},
   "outputs": [
    {
     "data": {
      "text/plain": [
       "GridSearchCV(estimator=RandomForestRegressor(random_state=3546),\n",
       "             param_grid={'criterion': ('mse',), 'max_depth': [10, 20, None],\n",
       "                         'n_estimators': [10, 50, 100, 150, 200]},\n",
       "             scoring='neg_mean_absolute_error')"
      ]
     },
     "execution_count": 67,
     "metadata": {},
     "output_type": "execute_result"
    }
   ],
   "source": [
    "parameters = {'n_estimators':[10, 50, 100, 150, 200], 'criterion':('mse',), 'max_depth':[10, 20, None]} # mae is again more than 60 times slower than mse\n",
    "\n",
    "reg_forest_web = RandomForestRegressor(random_state=3546) # random state is set so as to guarantee the same outcome every time\n",
    "reg_seach = GridSearchCV(reg_forest_web, parameters, scoring='neg_mean_absolute_error', refit=True, )#verbose=4)\n",
    "\n",
    "reg_seach.fit(X_train, y_train)"
   ]
  },
  {
   "cell_type": "code",
   "execution_count": 68,
   "metadata": {},
   "outputs": [
    {
     "data": {
      "text/html": [
       "<div>\n",
       "<style scoped>\n",
       "    .dataframe tbody tr th:only-of-type {\n",
       "        vertical-align: middle;\n",
       "    }\n",
       "\n",
       "    .dataframe tbody tr th {\n",
       "        vertical-align: top;\n",
       "    }\n",
       "\n",
       "    .dataframe thead th {\n",
       "        text-align: right;\n",
       "    }\n",
       "</style>\n",
       "<table border=\"1\" class=\"dataframe\">\n",
       "  <thead>\n",
       "    <tr style=\"text-align: right;\">\n",
       "      <th></th>\n",
       "      <th>mean_fit_time</th>\n",
       "      <th>std_fit_time</th>\n",
       "      <th>mean_score_time</th>\n",
       "      <th>std_score_time</th>\n",
       "      <th>param_criterion</th>\n",
       "      <th>param_max_depth</th>\n",
       "      <th>param_n_estimators</th>\n",
       "      <th>params</th>\n",
       "      <th>split0_test_score</th>\n",
       "      <th>split1_test_score</th>\n",
       "      <th>split2_test_score</th>\n",
       "      <th>split3_test_score</th>\n",
       "      <th>split4_test_score</th>\n",
       "      <th>mean_test_score</th>\n",
       "      <th>std_test_score</th>\n",
       "      <th>rank_test_score</th>\n",
       "    </tr>\n",
       "  </thead>\n",
       "  <tbody>\n",
       "    <tr>\n",
       "      <th>3</th>\n",
       "      <td>17.098092</td>\n",
       "      <td>1.426560</td>\n",
       "      <td>0.198983</td>\n",
       "      <td>0.019181</td>\n",
       "      <td>mse</td>\n",
       "      <td>10</td>\n",
       "      <td>150</td>\n",
       "      <td>{'criterion': 'mse', 'max_depth': 10, 'n_estim...</td>\n",
       "      <td>-67.058696</td>\n",
       "      <td>-67.740407</td>\n",
       "      <td>-68.501693</td>\n",
       "      <td>-67.115527</td>\n",
       "      <td>-66.988532</td>\n",
       "      <td>-67.480971</td>\n",
       "      <td>0.576809</td>\n",
       "      <td>1</td>\n",
       "    </tr>\n",
       "    <tr>\n",
       "      <th>4</th>\n",
       "      <td>23.541994</td>\n",
       "      <td>1.949108</td>\n",
       "      <td>0.301652</td>\n",
       "      <td>0.024079</td>\n",
       "      <td>mse</td>\n",
       "      <td>10</td>\n",
       "      <td>200</td>\n",
       "      <td>{'criterion': 'mse', 'max_depth': 10, 'n_estim...</td>\n",
       "      <td>-67.054049</td>\n",
       "      <td>-67.755101</td>\n",
       "      <td>-68.531991</td>\n",
       "      <td>-67.108138</td>\n",
       "      <td>-66.959011</td>\n",
       "      <td>-67.481658</td>\n",
       "      <td>0.595566</td>\n",
       "      <td>2</td>\n",
       "    </tr>\n",
       "  </tbody>\n",
       "</table>\n",
       "</div>"
      ],
      "text/plain": [
       "   mean_fit_time  std_fit_time  mean_score_time  std_score_time  \\\n",
       "3      17.098092      1.426560         0.198983        0.019181   \n",
       "4      23.541994      1.949108         0.301652        0.024079   \n",
       "\n",
       "  param_criterion param_max_depth param_n_estimators  \\\n",
       "3             mse              10                150   \n",
       "4             mse              10                200   \n",
       "\n",
       "                                              params  split0_test_score  \\\n",
       "3  {'criterion': 'mse', 'max_depth': 10, 'n_estim...         -67.058696   \n",
       "4  {'criterion': 'mse', 'max_depth': 10, 'n_estim...         -67.054049   \n",
       "\n",
       "   split1_test_score  split2_test_score  split3_test_score  split4_test_score  \\\n",
       "3         -67.740407         -68.501693         -67.115527         -66.988532   \n",
       "4         -67.755101         -68.531991         -67.108138         -66.959011   \n",
       "\n",
       "   mean_test_score  std_test_score  rank_test_score  \n",
       "3       -67.480971        0.576809                1  \n",
       "4       -67.481658        0.595566                2  "
      ]
     },
     "execution_count": 68,
     "metadata": {},
     "output_type": "execute_result"
    }
   ],
   "source": [
    "df_reg_forest_web = pd.DataFrame(reg_seach.cv_results_).sort_values('rank_test_score')\n",
    "df_reg_forest_web.head(2)"
   ]
  },
  {
   "cell_type": "code",
   "execution_count": 69,
   "metadata": {},
   "outputs": [
    {
     "name": "stdout",
     "output_type": "stream",
     "text": [
      "Mean absolute error (on test data): 68.7354\n"
     ]
    }
   ],
   "source": [
    "reg_forest_web_best = reg_seach.best_estimator_\n",
    "y_pred = reg_forest_web_best.predict(X_test)\n",
    "\n",
    "print(f'Mean absolute error (on test data): {round(mean_absolute_error(y_test, y_pred),4)}')"
   ]
  },
  {
   "cell_type": "code",
   "execution_count": 70,
   "metadata": {},
   "outputs": [
    {
     "data": {
      "image/png": "[encoded data removed]",
      "text/plain": [
       "<Figure size 432x288 with 1 Axes>"
      ]
     },
     "metadata": {
      "needs_background": "light"
     },
     "output_type": "display_data"
    }
   ],
   "source": [
    "pd.Series(reg_forest_web_best.feature_importances_, index=features_web.columns).nlargest(20).plot(kind='barh')\n",
    "plt.show()"
   ]
  },
  {
   "cell_type": "code",
   "execution_count": 71,
   "metadata": {},
   "outputs": [
    {
     "data": {
      "text/plain": [
       "['model_forest_web.joblib']"
      ]
     },
     "execution_count": 71,
     "metadata": {},
     "output_type": "execute_result"
    }
   ],
   "source": [
    "dump(reg_forest_web_best, 'model_forest_web.joblib')"
   ]
  },
  {
   "cell_type": "code",
   "execution_count": null,
   "metadata": {},
   "outputs": [],
   "source": []
  }
 ],
 "metadata": {
  "kernelspec": {
   "display_name": "Python 3",
   "language": "python",
   "name": "python3"
  },
  "language_info": {
   "codemirror_mode": {
    "name": "ipython",
    "version": 3
   },
   "file_extension": ".py",
   "mimetype": "text/x-python",
   "name": "python",
   "nbconvert_exporter": "python",
   "pygments_lexer": "ipython3",
   "version": "3.8.5"
  }
 },
 "nbformat": 4,
 "nbformat_minor": 4
}
