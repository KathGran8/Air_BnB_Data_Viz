{
 "cells": [
  {
   "cell_type": "code",
   "execution_count": 44,
   "metadata": {},
   "outputs": [],
   "source": [
    "import pandas as pd\n",
    "import numpy as np\n",
    "\n",
    "import matplotlib.pyplot as plt\n",
    "\n",
    "from joblib import dump, load"
   ]
  },
  {
   "cell_type": "code",
   "execution_count": 45,
   "metadata": {},
   "outputs": [],
   "source": [
    "from sklearn.model_selection import train_test_split\n",
    "from sklearn.model_selection import GridSearchCV\n",
    "from sklearn.ensemble import RandomForestRegressor\n",
    "from sklearn.metrics import mean_absolute_error"
   ]
  },
  {
   "cell_type": "markdown",
   "metadata": {},
   "source": [
    "## Importing data and preparing it for ML"
   ]
  },
  {
   "cell_type": "code",
   "execution_count": 46,
   "metadata": {},
   "outputs": [
    {
     "data": {
      "text/html": [
       "<div>\n",
       "<style scoped>\n",
       "    .dataframe tbody tr th:only-of-type {\n",
       "        vertical-align: middle;\n",
       "    }\n",
       "\n",
       "    .dataframe tbody tr th {\n",
       "        vertical-align: top;\n",
       "    }\n",
       "\n",
       "    .dataframe thead th {\n",
       "        text-align: right;\n",
       "    }\n",
       "</style>\n",
       "<table border=\"1\" class=\"dataframe\">\n",
       "  <thead>\n",
       "    <tr style=\"text-align: right;\">\n",
       "      <th></th>\n",
       "      <th>id</th>\n",
       "      <th>name</th>\n",
       "      <th>host_id</th>\n",
       "      <th>host_name</th>\n",
       "      <th>neighbourhood_group</th>\n",
       "      <th>neighbourhood</th>\n",
       "      <th>latitude</th>\n",
       "      <th>longitude</th>\n",
       "      <th>room_type</th>\n",
       "      <th>price</th>\n",
       "      <th>...</th>\n",
       "      <th>neighbourhood_other</th>\n",
       "      <th>neighbourhood_other_label</th>\n",
       "      <th>neighbourhood_group_Bronx</th>\n",
       "      <th>neighbourhood_group_Brooklyn</th>\n",
       "      <th>neighbourhood_group_Manhattan</th>\n",
       "      <th>neighbourhood_group_Queens</th>\n",
       "      <th>neighbourhood_group_Staten Island</th>\n",
       "      <th>room_type_Entire home/apt</th>\n",
       "      <th>room_type_Private room</th>\n",
       "      <th>room_type_Shared room</th>\n",
       "    </tr>\n",
       "  </thead>\n",
       "  <tbody>\n",
       "    <tr>\n",
       "      <th>0</th>\n",
       "      <td>2539</td>\n",
       "      <td>Clean &amp; quiet apt home by the park</td>\n",
       "      <td>2787</td>\n",
       "      <td>John</td>\n",
       "      <td>Brooklyn</td>\n",
       "      <td>Kensington</td>\n",
       "      <td>40.64749</td>\n",
       "      <td>-73.97237</td>\n",
       "      <td>Private room</td>\n",
       "      <td>149</td>\n",
       "      <td>...</td>\n",
       "      <td>Other</td>\n",
       "      <td>29</td>\n",
       "      <td>0.0</td>\n",
       "      <td>1.0</td>\n",
       "      <td>0.0</td>\n",
       "      <td>0.0</td>\n",
       "      <td>0.0</td>\n",
       "      <td>0.0</td>\n",
       "      <td>1.0</td>\n",
       "      <td>0.0</td>\n",
       "    </tr>\n",
       "    <tr>\n",
       "      <th>1</th>\n",
       "      <td>2595</td>\n",
       "      <td>Skylit Midtown Castle</td>\n",
       "      <td>2845</td>\n",
       "      <td>Jennifer</td>\n",
       "      <td>Manhattan</td>\n",
       "      <td>Midtown</td>\n",
       "      <td>40.75362</td>\n",
       "      <td>-73.98377</td>\n",
       "      <td>Entire home/apt</td>\n",
       "      <td>225</td>\n",
       "      <td>...</td>\n",
       "      <td>Midtown</td>\n",
       "      <td>25</td>\n",
       "      <td>0.0</td>\n",
       "      <td>0.0</td>\n",
       "      <td>1.0</td>\n",
       "      <td>0.0</td>\n",
       "      <td>0.0</td>\n",
       "      <td>1.0</td>\n",
       "      <td>0.0</td>\n",
       "      <td>0.0</td>\n",
       "    </tr>\n",
       "  </tbody>\n",
       "</table>\n",
       "<p>2 rows × 26 columns</p>\n",
       "</div>"
      ],
      "text/plain": [
       "     id                                name  host_id host_name  \\\n",
       "0  2539  Clean & quiet apt home by the park     2787      John   \n",
       "1  2595               Skylit Midtown Castle     2845  Jennifer   \n",
       "\n",
       "  neighbourhood_group neighbourhood  latitude  longitude        room_type  \\\n",
       "0            Brooklyn    Kensington  40.64749  -73.97237     Private room   \n",
       "1           Manhattan       Midtown  40.75362  -73.98377  Entire home/apt   \n",
       "\n",
       "   price  ...  neighbourhood_other  neighbourhood_other_label  \\\n",
       "0    149  ...                Other                         29   \n",
       "1    225  ...              Midtown                         25   \n",
       "\n",
       "  neighbourhood_group_Bronx  neighbourhood_group_Brooklyn  \\\n",
       "0                       0.0                           1.0   \n",
       "1                       0.0                           0.0   \n",
       "\n",
       "   neighbourhood_group_Manhattan  neighbourhood_group_Queens  \\\n",
       "0                            0.0                         0.0   \n",
       "1                            1.0                         0.0   \n",
       "\n",
       "  neighbourhood_group_Staten Island  room_type_Entire home/apt  \\\n",
       "0                               0.0                        0.0   \n",
       "1                               0.0                        1.0   \n",
       "\n",
       "   room_type_Private room  room_type_Shared room  \n",
       "0                     1.0                    0.0  \n",
       "1                     0.0                    0.0  \n",
       "\n",
       "[2 rows x 26 columns]"
      ]
     },
     "execution_count": 46,
     "metadata": {},
     "output_type": "execute_result"
    }
   ],
   "source": [
    "#import cleaned data\n",
    "df = pd.read_csv(\"../Data/AB_data_clean.csv\")\n",
    "df.head(2)"
   ]
  },
  {
   "cell_type": "code",
   "execution_count": 47,
   "metadata": {},
   "outputs": [
    {
     "data": {
      "text/html": [
       "<div>\n",
       "<style scoped>\n",
       "    .dataframe tbody tr th:only-of-type {\n",
       "        vertical-align: middle;\n",
       "    }\n",
       "\n",
       "    .dataframe tbody tr th {\n",
       "        vertical-align: top;\n",
       "    }\n",
       "\n",
       "    .dataframe thead th {\n",
       "        text-align: right;\n",
       "    }\n",
       "</style>\n",
       "<table border=\"1\" class=\"dataframe\">\n",
       "  <thead>\n",
       "    <tr style=\"text-align: right;\">\n",
       "      <th></th>\n",
       "      <th>id</th>\n",
       "      <th>name</th>\n",
       "      <th>host_id</th>\n",
       "      <th>host_name</th>\n",
       "      <th>neighbourhood_group</th>\n",
       "      <th>neighbourhood</th>\n",
       "      <th>latitude</th>\n",
       "      <th>longitude</th>\n",
       "      <th>room_type</th>\n",
       "      <th>price</th>\n",
       "      <th>...</th>\n",
       "      <th>room_type_Shared room</th>\n",
       "      <th>number_of_places_2500m</th>\n",
       "      <th>number_of_places_1000m</th>\n",
       "      <th>number_of_places_500m</th>\n",
       "      <th>number_of_rats_2500m</th>\n",
       "      <th>number_of_rats_1000m</th>\n",
       "      <th>number_of_rats_500m</th>\n",
       "      <th>number_of_trees_2500m</th>\n",
       "      <th>number_of_trees_1000m</th>\n",
       "      <th>number_of_trees_500m</th>\n",
       "    </tr>\n",
       "  </thead>\n",
       "  <tbody>\n",
       "    <tr>\n",
       "      <th>0</th>\n",
       "      <td>2539</td>\n",
       "      <td>Clean &amp; quiet apt home by the park</td>\n",
       "      <td>2787</td>\n",
       "      <td>John</td>\n",
       "      <td>Brooklyn</td>\n",
       "      <td>Kensington</td>\n",
       "      <td>40.64749</td>\n",
       "      <td>-73.97237</td>\n",
       "      <td>Private room</td>\n",
       "      <td>149</td>\n",
       "      <td>...</td>\n",
       "      <td>0.0</td>\n",
       "      <td>8</td>\n",
       "      <td>0</td>\n",
       "      <td>0</td>\n",
       "      <td>456</td>\n",
       "      <td>57</td>\n",
       "      <td>8</td>\n",
       "      <td>5491</td>\n",
       "      <td>1037</td>\n",
       "      <td>321</td>\n",
       "    </tr>\n",
       "    <tr>\n",
       "      <th>1</th>\n",
       "      <td>2595</td>\n",
       "      <td>Skylit Midtown Castle</td>\n",
       "      <td>2845</td>\n",
       "      <td>Jennifer</td>\n",
       "      <td>Manhattan</td>\n",
       "      <td>Midtown</td>\n",
       "      <td>40.75362</td>\n",
       "      <td>-73.98377</td>\n",
       "      <td>Entire home/apt</td>\n",
       "      <td>225</td>\n",
       "      <td>...</td>\n",
       "      <td>0.0</td>\n",
       "      <td>75</td>\n",
       "      <td>29</td>\n",
       "      <td>4</td>\n",
       "      <td>448</td>\n",
       "      <td>54</td>\n",
       "      <td>5</td>\n",
       "      <td>3611</td>\n",
       "      <td>296</td>\n",
       "      <td>46</td>\n",
       "    </tr>\n",
       "  </tbody>\n",
       "</table>\n",
       "<p>2 rows × 35 columns</p>\n",
       "</div>"
      ],
      "text/plain": [
       "     id                                name  host_id host_name  \\\n",
       "0  2539  Clean & quiet apt home by the park     2787      John   \n",
       "1  2595               Skylit Midtown Castle     2845  Jennifer   \n",
       "\n",
       "  neighbourhood_group neighbourhood  latitude  longitude        room_type  \\\n",
       "0            Brooklyn    Kensington  40.64749  -73.97237     Private room   \n",
       "1           Manhattan       Midtown  40.75362  -73.98377  Entire home/apt   \n",
       "\n",
       "   price  ...  room_type_Shared room  number_of_places_2500m  \\\n",
       "0    149  ...                    0.0                       8   \n",
       "1    225  ...                    0.0                      75   \n",
       "\n",
       "  number_of_places_1000m  number_of_places_500m  number_of_rats_2500m  \\\n",
       "0                      0                      0                   456   \n",
       "1                     29                      4                   448   \n",
       "\n",
       "   number_of_rats_1000m number_of_rats_500m  number_of_trees_2500m  \\\n",
       "0                    57                   8                   5491   \n",
       "1                    54                   5                   3611   \n",
       "\n",
       "   number_of_trees_1000m  number_of_trees_500m  \n",
       "0                   1037                   321  \n",
       "1                    296                    46  \n",
       "\n",
       "[2 rows x 35 columns]"
      ]
     },
     "execution_count": 47,
     "metadata": {},
     "output_type": "execute_result"
    }
   ],
   "source": [
    "df_joined = pd.read_csv(\"../Data/joined_data.csv\")\n",
    "df_joined = df_joined.drop(['Unnamed: 0'], axis=1)\n",
    "df_joined.head(2)"
   ]
  },
  {
   "cell_type": "code",
   "execution_count": 48,
   "metadata": {},
   "outputs": [],
   "source": [
    "df['last_review'] = df['last_review'].fillna(0)\n",
    "df['reviews_per_month'] = df['reviews_per_month'].fillna(0)\n",
    "\n",
    "df_joined['last_review'] = df_joined['last_review'].fillna(0)\n",
    "df_joined['reviews_per_month'] = df_joined['reviews_per_month'].fillna(0)"
   ]
  },
  {
   "cell_type": "markdown",
   "metadata": {},
   "source": [
    "## Random forest for prediction on the website"
   ]
  },
  {
   "cell_type": "code",
   "execution_count": 49,
   "metadata": {},
   "outputs": [
    {
     "name": "stdout",
     "output_type": "stream",
     "text": [
      "Index(['latitude', 'longitude', 'minimum_nights', 'number_of_reviews',\n",
      "       'calculated_host_listings_count', 'availability_365',\n",
      "       'room_type_Entire home/apt', 'room_type_Private room',\n",
      "       'room_type_Shared room'],\n",
      "      dtype='object')\n"
     ]
    }
   ],
   "source": [
    "features_web = df.drop(['price',\n",
    "                        'id', \n",
    "                        'name', \n",
    "                        'host_id', \n",
    "                        'host_name', \n",
    "                        'neighbourhood_group',\n",
    "                        'neighbourhood', \n",
    "                        'room_type',\n",
    "                        'last_review',\n",
    "                        'neighbourhood_other',\n",
    "                        'reviews_per_month',\n",
    "                        'neighbourhood_other_label',\n",
    "                        'neighbourhood_group_Bronx',\n",
    "                        'neighbourhood_group_Brooklyn',\n",
    "                        'neighbourhood_group_Manhattan', \n",
    "                        'neighbourhood_group_Queens',\n",
    "                        'neighbourhood_group_Staten Island'], axis=1)\n",
    "\n",
    "target = df.price\n",
    "\n",
    "print(features_web.columns)"
   ]
  },
  {
   "cell_type": "code",
   "execution_count": 50,
   "metadata": {},
   "outputs": [
    {
     "name": "stdout",
     "output_type": "stream",
     "text": [
      "Training Features Shape: (38970, 9) \tTesting Features Shape:\t (9743, 9)\n",
      "Training Labels Shape:\t (38970,) \tTesting Labels Shape:\t (9743,)\n"
     ]
    }
   ],
   "source": [
    "test_fraction = 0.2\n",
    "\n",
    "# This is a stratified split:\n",
    "X_train, X_test, y_train, y_test = train_test_split(features_web, target, test_size = test_fraction, random_state=3546)\n",
    "#Display how many samples are chosen for training and test, respectively\n",
    "print('Training Features Shape:', X_train.shape,'\\tTesting Features Shape:\\t', X_test.shape)\n",
    "print('Training Labels Shape:\\t', y_train.shape, '\\tTesting Labels Shape:\\t', y_test.shape)"
   ]
  },
  {
   "cell_type": "code",
   "execution_count": 51,
   "metadata": {},
   "outputs": [
    {
     "data": {
      "text/plain": [
       "GridSearchCV(estimator=RandomForestRegressor(random_state=3546),\n",
       "             param_grid={'criterion': ('mse',), 'max_depth': [10],\n",
       "                         'n_estimators': [150]},\n",
       "             scoring='neg_mean_absolute_error')"
      ]
     },
     "execution_count": 51,
     "metadata": {},
     "output_type": "execute_result"
    }
   ],
   "source": [
    "parameters = {'n_estimators':[150,], 'criterion':('mse',), 'max_depth':[10,]} # Found to be the best in the explainer notebook\n",
    "\n",
    "reg_forest_web = RandomForestRegressor(random_state=3546) # random state is set so as to guarantee the same outcome every time\n",
    "reg_seach = GridSearchCV(reg_forest_web, parameters, scoring='neg_mean_absolute_error', refit=True, )#verbose=4)\n",
    "\n",
    "reg_seach.fit(X_train, y_train)"
   ]
  },
  {
   "cell_type": "code",
   "execution_count": 52,
   "metadata": {},
   "outputs": [
    {
     "name": "stdout",
     "output_type": "stream",
     "text": [
      "Mean absolute error (on test data): 68.7354\n"
     ]
    }
   ],
   "source": [
    "reg_forest_web_best = reg_seach.best_estimator_\n",
    "y_pred = reg_forest_web_best.predict(X_test)\n",
    "\n",
    "print(f'Mean absolute error (on test data): {round(mean_absolute_error(y_test, y_pred),4)}')"
   ]
  },
  {
   "cell_type": "code",
   "execution_count": 53,
   "metadata": {},
   "outputs": [
    {
     "data": {
      "text/plain": [
       "['model_forest_web.joblib']"
      ]
     },
     "execution_count": 53,
     "metadata": {},
     "output_type": "execute_result"
    }
   ],
   "source": [
    "dump(reg_forest_web_best, 'model_forest_web.joblib')"
   ]
  },
  {
   "cell_type": "markdown",
   "metadata": {},
   "source": [
    "## Random forests for plots on slide 8"
   ]
  },
  {
   "cell_type": "code",
   "execution_count": 54,
   "metadata": {},
   "outputs": [
    {
     "name": "stdout",
     "output_type": "stream",
     "text": [
      "Index(['latitude', 'longitude', 'minimum_nights', 'number_of_reviews',\n",
      "       'reviews_per_month', 'calculated_host_listings_count',\n",
      "       'availability_365', 'neighbourhood_other_label',\n",
      "       'neighbourhood_group_Bronx', 'neighbourhood_group_Brooklyn',\n",
      "       'neighbourhood_group_Manhattan', 'neighbourhood_group_Queens',\n",
      "       'neighbourhood_group_Staten Island', 'room_type_Entire home/apt',\n",
      "       'room_type_Private room', 'room_type_Shared room'],\n",
      "      dtype='object')\n",
      "Index(['latitude', 'longitude', 'minimum_nights', 'number_of_reviews',\n",
      "       'reviews_per_month', 'calculated_host_listings_count',\n",
      "       'availability_365', 'neighbourhood_other_label',\n",
      "       'neighbourhood_group_Bronx', 'neighbourhood_group_Brooklyn',\n",
      "       'neighbourhood_group_Manhattan', 'neighbourhood_group_Queens',\n",
      "       'neighbourhood_group_Staten Island', 'room_type_Entire home/apt',\n",
      "       'room_type_Private room', 'room_type_Shared room',\n",
      "       'number_of_places_2500m', 'number_of_places_1000m',\n",
      "       'number_of_places_500m', 'number_of_rats_2500m', 'number_of_rats_1000m',\n",
      "       'number_of_rats_500m', 'number_of_trees_2500m', 'number_of_trees_1000m',\n",
      "       'number_of_trees_500m'],\n",
      "      dtype='object')\n"
     ]
    }
   ],
   "source": [
    "#chose which featues not to include in the calculation\n",
    "features_AB = df.drop(['price',\n",
    "                        'id', \n",
    "                        'name', \n",
    "                        'host_id', \n",
    "                        'host_name', \n",
    "                        'neighbourhood_group',\n",
    "                        'neighbourhood', \n",
    "                        'room_type',\n",
    "                        'last_review',\n",
    "                        'neighbourhood_other'], axis=1)\n",
    "\n",
    "features_joined = df_joined.drop(['price',\n",
    "                    'id', \n",
    "                    'name', \n",
    "                    'host_id', \n",
    "                    'host_name', \n",
    "                    'neighbourhood_group',\n",
    "                    'neighbourhood', \n",
    "                    'room_type',\n",
    "                    'last_review',\n",
    "                    'neighbourhood_other'], axis=1)\n",
    "\n",
    "target_AB = df.price\n",
    "target_joined = df_joined.price\n",
    "\n",
    "\n",
    "print(features_AB.columns)\n",
    "print(features_joined.columns)"
   ]
  },
  {
   "cell_type": "code",
   "execution_count": 55,
   "metadata": {},
   "outputs": [],
   "source": [
    "test_fraction = 0.2\n",
    "\n",
    "X_train_AB, X_test_AB, y_train_AB, y_test_AB = train_test_split(features_AB, target_AB, test_size = test_fraction, random_state=3546)\n",
    "X_train_joined, X_test_joined, y_train_joined, y_test_joined = train_test_split(features_joined, target_joined, test_size = test_fraction, random_state=3546)"
   ]
  },
  {
   "cell_type": "code",
   "execution_count": 56,
   "metadata": {},
   "outputs": [],
   "source": [
    "parameters = {'n_estimators':[200,], 'criterion':('mse',), 'max_depth':[10,]} # Found to be the best in the explainer notebook\n",
    "\n",
    "reg_forest_AB = RandomForestRegressor(random_state=3546) # random state is set so as to guarantee the same outcome every time\n",
    "reg_seach = GridSearchCV(reg_forest_AB, parameters, scoring='neg_mean_absolute_error', refit=True, )#verbose=4)\n",
    "\n",
    "reg_seach.fit(X_train_AB, y_train_AB)\n",
    "reg_forest_AB_best = reg_seach.best_estimator_"
   ]
  },
  {
   "cell_type": "code",
   "execution_count": 57,
   "metadata": {},
   "outputs": [],
   "source": [
    "parameters = {'n_estimators':[200,], 'criterion':('mse',), 'max_depth':[10,]} # Found to be the best in the explainer notebook\n",
    "\n",
    "reg_forest_joined = RandomForestRegressor(random_state=3546) # random state is set so as to guarantee the same outcome every time\n",
    "reg_seach = GridSearchCV(reg_forest_joined, parameters, scoring='neg_mean_absolute_error', refit=True, )#verbose=4)\n",
    "\n",
    "reg_seach.fit(X_train_joined, y_train_joined)\n",
    "reg_forest_joined_best = reg_seach.best_estimator_"
   ]
  },
  {
   "cell_type": "code",
   "execution_count": 58,
   "metadata": {},
   "outputs": [
    {
     "name": "stdout",
     "output_type": "stream",
     "text": [
      "AB: \t Mean absolute error (on test data): 68.6235\n",
      "Joined: \t Mean absolute error (on test data): 69.0997\n"
     ]
    }
   ],
   "source": [
    "y_pred_AB = reg_forest_AB_best.predict(X_test_AB)\n",
    "y_pred_joined = reg_forest_joined_best.predict(X_test_joined)\n",
    "\n",
    "\n",
    "print(f'AB: \\t Mean absolute error (on test data): {round(mean_absolute_error(y_test_AB, y_pred_AB),4)}')\n",
    "print(f'Joined: \\t Mean absolute error (on test data): {round(mean_absolute_error(y_test_joined, y_pred_joined),4)}')"
   ]
  },
  {
   "cell_type": "code",
   "execution_count": 59,
   "metadata": {},
   "outputs": [
    {
     "data": {
      "text/plain": [
       "['model_forest_joined.joblib']"
      ]
     },
     "execution_count": 59,
     "metadata": {},
     "output_type": "execute_result"
    }
   ],
   "source": [
    "dump(reg_forest_AB_best, 'model_forest_AB.joblib')\n",
    "dump(reg_forest_joined_best, 'model_forest_joined.joblib')"
   ]
  },
  {
   "cell_type": "code",
   "execution_count": 62,
   "metadata": {},
   "outputs": [],
   "source": [
    "plot_data1 = pd.Series(reg_forest_AB_best.feature_importances_, index=features_AB.columns).nlargest(30)\n",
    "plot_data2 = pd.Series(reg_forest_joined_best.feature_importances_, index=features_joined.columns).nlargest(30) "
   ]
  },
  {
   "cell_type": "code",
   "execution_count": 63,
   "metadata": {},
   "outputs": [
    {
     "data": {
      "image/png": "[encoded data removed]",
      "text/plain": [
       "<Figure size 720x504 with 1 Axes>"
      ]
     },
     "metadata": {
      "needs_background": "light"
     },
     "output_type": "display_data"
    }
   ],
   "source": [
    "plt.figure(figsize=(10,7))\n",
    "plt.barh(y = plot_data2.index, width=plot_data2.values)\n",
    "plt.barh(y = plot_data1.index, width=plot_data1.values)\n",
    "\n",
    "plt.show()"
   ]
  }
 ],
 "metadata": {
  "kernelspec": {
   "display_name": "Python 3",
   "language": "python",
   "name": "python3"
  },
  "language_info": {
   "codemirror_mode": {
    "name": "ipython",
    "version": 3
   },
   "file_extension": ".py",
   "mimetype": "text/x-python",
   "name": "python",
   "nbconvert_exporter": "python",
   "pygments_lexer": "ipython3",
   "version": "3.8.5"
  }
 },
 "nbformat": 4,
 "nbformat_minor": 4
}
